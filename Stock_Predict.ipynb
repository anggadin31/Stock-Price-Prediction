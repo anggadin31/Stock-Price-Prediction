{
  "nbformat": 4,
  "nbformat_minor": 0,
  "metadata": {
    "colab": {
      "name": "Stock Predict",
      "provenance": [],
      "collapsed_sections": []
    },
    "kernelspec": {
      "name": "python3",
      "display_name": "Python 3"
    },
    "language_info": {
      "name": "python"
    }
  },
  "cells": [
    {
      "cell_type": "code",
      "metadata": {
        "id": "tK6gj-ynpzIs"
      },
      "source": [
        "from sklearn.preprocessing import MinMaxScaler\n",
        "import pandas as pd\n",
        "import torch\n",
        "import torch.nn as nn\n",
        "import numpy as np\n",
        "from sklearn.metrics import mean_squared_error\n",
        "import math\n",
        "import seaborn as sns\n",
        "import matplotlib.pyplot as plt"
      ],
      "execution_count": null,
      "outputs": []
    },
    {
      "cell_type": "code",
      "metadata": {
        "id": "7v8E6ifLqI41"
      },
      "source": [
        "data = pd.read_csv(\"ISAT.JK.csv\")\n",
        "data = data.dropna().reset_index()"
      ],
      "execution_count": null,
      "outputs": []
    },
    {
      "cell_type": "code",
      "metadata": {
        "id": "I9kjxGYVqAq1",
        "colab": {
          "base_uri": "https://localhost:8080/"
        },
        "outputId": "dba50b25-10a7-45ee-84c0-0bb9a1ffb17b"
      },
      "source": [
        "price = data[['Close']]\n",
        "scaler = MinMaxScaler(feature_range=(-1, 1))\n",
        "price['Close'] = scaler.fit_transform(price['Close'].values.reshape(-1,1))"
      ],
      "execution_count": null,
      "outputs": [
        {
          "output_type": "stream",
          "name": "stderr",
          "text": [
            "/usr/local/lib/python3.7/dist-packages/ipykernel_launcher.py:3: SettingWithCopyWarning: \n",
            "A value is trying to be set on a copy of a slice from a DataFrame.\n",
            "Try using .loc[row_indexer,col_indexer] = value instead\n",
            "\n",
            "See the caveats in the documentation: https://pandas.pydata.org/pandas-docs/stable/user_guide/indexing.html#returning-a-view-versus-a-copy\n",
            "  This is separate from the ipykernel package so we can avoid doing imports until\n"
          ]
        }
      ]
    },
    {
      "cell_type": "markdown",
      "source": [
        "#Create Sequence Data"
      ],
      "metadata": {
        "id": "8rivq9BcsfkW"
      }
    },
    {
      "cell_type": "code",
      "metadata": {
        "id": "kT_P5GKDqVB-"
      },
      "source": [
        "def split_data(stock, lookback):\n",
        "    data_raw = stock.to_numpy() # convert to numpy array\n",
        "    data = []\n",
        "    \n",
        "    # create all possible sequences of length seq_len\n",
        "    for index in range(len(data_raw) - lookback): \n",
        "        data.append(data_raw[index: index + lookback])\n",
        "    \n",
        "    data = np.array(data);\n",
        "    test_set_size = int(np.round(0.2*data.shape[0]));\n",
        "    train_set_size = data.shape[0] - (test_set_size);\n",
        "    \n",
        "    x_train = data[:train_set_size,:-1,:]\n",
        "    y_train = data[:train_set_size,-1,:]\n",
        "    \n",
        "    x_test = data[train_set_size:,:-1]\n",
        "    y_test = data[train_set_size:,-1,:]\n",
        "    \n",
        "    return [x_train, y_train, x_test, y_test]"
      ],
      "execution_count": null,
      "outputs": []
    },
    {
      "cell_type": "code",
      "metadata": {
        "id": "Sa8T93EKqYNN"
      },
      "source": [
        "lookback = 20 # choose sequence length\n",
        "x_train, y_train, x_test, y_test = split_data(price, lookback)"
      ],
      "execution_count": null,
      "outputs": []
    },
    {
      "cell_type": "code",
      "metadata": {
        "id": "m17ecrTdqbFF"
      },
      "source": [
        "x_train = torch.from_numpy(x_train).type(torch.Tensor)\n",
        "x_test = torch.from_numpy(x_test).type(torch.Tensor)\n",
        "y_train = torch.from_numpy(y_train).type(torch.Tensor)\n",
        "y_test = torch.from_numpy(y_test).type(torch.Tensor)"
      ],
      "execution_count": null,
      "outputs": []
    },
    {
      "cell_type": "code",
      "metadata": {
        "colab": {
          "base_uri": "https://localhost:8080/"
        },
        "id": "xLq20icfQsBh",
        "outputId": "f3b6aca6-fdb2-4010-b7fd-12bcb1b97429"
      },
      "source": [
        "x_train.shape, x_test.shape"
      ],
      "execution_count": null,
      "outputs": [
        {
          "output_type": "execute_result",
          "data": {
            "text/plain": [
              "(torch.Size([3499, 19, 1]), torch.Size([875, 19, 1]))"
            ]
          },
          "metadata": {},
          "execution_count": 7
        }
      ]
    },
    {
      "cell_type": "code",
      "metadata": {
        "colab": {
          "base_uri": "https://localhost:8080/"
        },
        "id": "MLjEeWnLH-Ro",
        "outputId": "74f241c8-4bd5-4f3a-a9d5-fab7c80fb0a4"
      },
      "source": [
        "x_train"
      ],
      "execution_count": null,
      "outputs": [
        {
          "output_type": "execute_result",
          "data": {
            "text/plain": [
              "tensor([[[-0.4713],\n",
              "         [-0.4023],\n",
              "         [-0.4023],\n",
              "         ...,\n",
              "         [-0.2874],\n",
              "         [-0.3103],\n",
              "         [-0.3218]],\n",
              "\n",
              "        [[-0.4023],\n",
              "         [-0.4023],\n",
              "         [-0.3966],\n",
              "         ...,\n",
              "         [-0.3103],\n",
              "         [-0.3218],\n",
              "         [-0.3333]],\n",
              "\n",
              "        [[-0.4023],\n",
              "         [-0.3966],\n",
              "         [-0.4138],\n",
              "         ...,\n",
              "         [-0.3218],\n",
              "         [-0.3333],\n",
              "         [-0.3391]],\n",
              "\n",
              "        ...,\n",
              "\n",
              "        [[-0.2184],\n",
              "         [-0.2184],\n",
              "         [-0.4069],\n",
              "         ...,\n",
              "         [-0.5356],\n",
              "         [-0.5425],\n",
              "         [-0.5494]],\n",
              "\n",
              "        [[-0.2184],\n",
              "         [-0.4069],\n",
              "         [-0.4069],\n",
              "         ...,\n",
              "         [-0.5425],\n",
              "         [-0.5494],\n",
              "         [-0.5448]],\n",
              "\n",
              "        [[-0.4069],\n",
              "         [-0.4069],\n",
              "         [-0.4046],\n",
              "         ...,\n",
              "         [-0.5494],\n",
              "         [-0.5448],\n",
              "         [-0.5540]]])"
            ]
          },
          "metadata": {},
          "execution_count": 8
        }
      ]
    },
    {
      "cell_type": "code",
      "metadata": {
        "colab": {
          "base_uri": "https://localhost:8080/"
        },
        "id": "7v4UfBLZSYXX",
        "outputId": "4c74aeec-cf54-4e87-e85c-8cb602c7f98e"
      },
      "source": [
        "x_test"
      ],
      "execution_count": null,
      "outputs": [
        {
          "output_type": "execute_result",
          "data": {
            "text/plain": [
              "tensor([[[-0.4069],\n",
              "         [-0.4046],\n",
              "         [-0.4161],\n",
              "         ...,\n",
              "         [-0.5448],\n",
              "         [-0.5540],\n",
              "         [-0.5310]],\n",
              "\n",
              "        [[-0.4046],\n",
              "         [-0.4161],\n",
              "         [-0.4253],\n",
              "         ...,\n",
              "         [-0.5540],\n",
              "         [-0.5310],\n",
              "         [-0.5149]],\n",
              "\n",
              "        [[-0.4161],\n",
              "         [-0.4253],\n",
              "         [-0.4437],\n",
              "         ...,\n",
              "         [-0.5310],\n",
              "         [-0.5149],\n",
              "         [-0.5149]],\n",
              "\n",
              "        ...,\n",
              "\n",
              "        [[ 0.3276],\n",
              "         [ 0.3161],\n",
              "         [ 0.3218],\n",
              "         ...,\n",
              "         [ 0.3333],\n",
              "         [ 0.3333],\n",
              "         [ 0.2874]],\n",
              "\n",
              "        [[ 0.3161],\n",
              "         [ 0.3218],\n",
              "         [ 0.3563],\n",
              "         ...,\n",
              "         [ 0.3333],\n",
              "         [ 0.2874],\n",
              "         [ 0.3103]],\n",
              "\n",
              "        [[ 0.3218],\n",
              "         [ 0.3563],\n",
              "         [ 0.3161],\n",
              "         ...,\n",
              "         [ 0.2874],\n",
              "         [ 0.3103],\n",
              "         [ 0.2931]]])"
            ]
          },
          "metadata": {},
          "execution_count": 9
        }
      ]
    },
    {
      "cell_type": "markdown",
      "source": [
        "#Build Model"
      ],
      "metadata": {
        "id": "Q5-Fnnu0sHrm"
      }
    },
    {
      "cell_type": "code",
      "metadata": {
        "id": "7xpTdErqqjXJ"
      },
      "source": [
        "input_dim = 1\n",
        "output_dim = 1"
      ],
      "execution_count": null,
      "outputs": []
    },
    {
      "cell_type": "code",
      "metadata": {
        "id": "JO4Z0ie5qocO"
      },
      "source": [
        "class LSTM(nn.Module):\n",
        "  \n",
        "    def __init__(self, input_dim, hidden_dim, num_layers, output_dim):\n",
        "        super(LSTM, self).__init__()\n",
        "        self.hidden_dim = hidden_dim\n",
        "        self.num_layers = num_layers\n",
        "        self.lstm = nn.LSTM(input_dim, hidden_dim, num_layers, batch_first=True)\n",
        "        self.fc = nn.Linear(hidden_dim, output_dim)\n",
        "\n",
        "    def forward(self, x):\n",
        "        h0 = torch.zeros(self.num_layers, x.size(0), self.hidden_dim).requires_grad_()\n",
        "        c0 = torch.zeros(self.num_layers, x.size(0), self.hidden_dim).requires_grad_()\n",
        "        out, (hn, cn) = self.lstm(x, (h0.detach(), c0.detach()))\n",
        "        out = self.fc(out[:, -1, :])\n",
        "        return out"
      ],
      "execution_count": null,
      "outputs": []
    },
    {
      "cell_type": "code",
      "metadata": {
        "id": "Qg3uqKdYC5lz",
        "colab": {
          "base_uri": "https://localhost:8080/"
        },
        "outputId": "59d9c9d0-03e5-4b02-9e63-96e26727b220"
      },
      "source": [
        "print(model)"
      ],
      "execution_count": null,
      "outputs": [
        {
          "output_type": "stream",
          "name": "stdout",
          "text": [
            "LSTM(\n",
            "  (lstm): LSTM(1, 16, num_layers=2, batch_first=True)\n",
            "  (fc): Linear(in_features=16, out_features=1, bias=True)\n",
            ")\n"
          ]
        }
      ]
    },
    {
      "cell_type": "code",
      "source": [
        "def MAPE(Y_actual,Y_Predicted):\n",
        "    mape = np.mean((np.abs(Y_Predicted-Y_actual)/Y_actual))*100\n",
        "    return mape"
      ],
      "metadata": {
        "id": "D79pjj8Sv_bh"
      },
      "execution_count": null,
      "outputs": []
    },
    {
      "cell_type": "markdown",
      "source": [
        "#Hyperparameter Tuning"
      ],
      "metadata": {
        "id": "ZoOsePFtsB4L"
      }
    },
    {
      "cell_type": "code",
      "source": [
        "list_hidden_dim = [1,8,16,32]\n",
        "list_num_layers = [1,2]\n",
        "list_lr = [0.01,0.05,0.1]\n",
        "list_num_epochs = [50,100,200]\n",
        "\n",
        "best_param = []\n",
        "score = 100\n",
        "\n",
        "for hidden_dim in list_hidden_dim:\n",
        "  for num_layers in list_num_layers:\n",
        "    for lr in list_lr:\n",
        "      for num_epochs in list_num_epochs:\n",
        "        model = LSTM(input_dim=input_dim, hidden_dim=hidden_dim, output_dim=output_dim, num_layers=num_layers)\n",
        "        criterion = torch.nn.MSELoss(reduction='mean')\n",
        "        optimiser = torch.optim.Adam(model.parameters(), lr=lr)\n",
        "        hist = np.zeros(num_epochs)\n",
        "        lstm = []\n",
        "        for t in range(num_epochs):\n",
        "            y_train_pred = model(x_train)\n",
        "            loss = criterion(y_train_pred, y_train)\n",
        "            hist[t] = loss.item()\n",
        "            optimiser.zero_grad()\n",
        "            loss.backward()\n",
        "            optimiser.step()\n",
        "            trainScore = loss.item()\n",
        "        print(\"Hidden Layer:{}, LSTM: {}, Epochs: {}, Learning Rate: {}, MSE: {}\".format(hidden_dim, num_layers, num_epochs, lr, trainScore))\n",
        "        if (trainScore < score):\n",
        "          score = trainScore\n",
        "          best_param = [hidden_dim, num_layers, num_epochs, lr, score]"
      ],
      "metadata": {
        "id": "Z-eTAeEnAbRQ",
        "colab": {
          "base_uri": "https://localhost:8080/"
        },
        "outputId": "ea6bd521-fc47-4163-eb5c-090330a58a5b"
      },
      "execution_count": null,
      "outputs": [
        {
          "output_type": "stream",
          "name": "stdout",
          "text": [
            "Hidden Layer:1, LSTM: 1, Epochs: 50, Learning Rate: 0.01, MSE: 0.010396159254014492\n",
            "Hidden Layer:1, LSTM: 1, Epochs: 100, Learning Rate: 0.01, MSE: 0.004603882785886526\n",
            "Hidden Layer:1, LSTM: 1, Epochs: 200, Learning Rate: 0.01, MSE: 0.0016253495123237371\n",
            "Hidden Layer:1, LSTM: 1, Epochs: 50, Learning Rate: 0.05, MSE: 0.05139768868684769\n",
            "Hidden Layer:1, LSTM: 1, Epochs: 100, Learning Rate: 0.05, MSE: 0.0010718496050685644\n",
            "Hidden Layer:1, LSTM: 1, Epochs: 200, Learning Rate: 0.05, MSE: 0.0016126371920108795\n",
            "Hidden Layer:1, LSTM: 1, Epochs: 50, Learning Rate: 0.1, MSE: 0.003436450148001313\n",
            "Hidden Layer:1, LSTM: 1, Epochs: 100, Learning Rate: 0.1, MSE: 0.007423940114676952\n",
            "Hidden Layer:1, LSTM: 1, Epochs: 200, Learning Rate: 0.1, MSE: 0.0017574370140209794\n",
            "Hidden Layer:1, LSTM: 2, Epochs: 50, Learning Rate: 0.01, MSE: 0.054444730281829834\n",
            "Hidden Layer:1, LSTM: 2, Epochs: 100, Learning Rate: 0.01, MSE: 0.05672943964600563\n",
            "Hidden Layer:1, LSTM: 2, Epochs: 200, Learning Rate: 0.01, MSE: 0.0033220695331692696\n",
            "Hidden Layer:1, LSTM: 2, Epochs: 50, Learning Rate: 0.05, MSE: 0.0571296289563179\n",
            "Hidden Layer:1, LSTM: 2, Epochs: 100, Learning Rate: 0.05, MSE: 0.00834712479263544\n",
            "Hidden Layer:1, LSTM: 2, Epochs: 200, Learning Rate: 0.05, MSE: 0.05722258985042572\n",
            "Hidden Layer:1, LSTM: 2, Epochs: 50, Learning Rate: 0.1, MSE: 0.05626574158668518\n",
            "Hidden Layer:1, LSTM: 2, Epochs: 100, Learning Rate: 0.1, MSE: 0.0037148972041904926\n",
            "Hidden Layer:1, LSTM: 2, Epochs: 200, Learning Rate: 0.1, MSE: 0.0010447681415826082\n",
            "Hidden Layer:8, LSTM: 1, Epochs: 50, Learning Rate: 0.01, MSE: 0.002194795524701476\n",
            "Hidden Layer:8, LSTM: 1, Epochs: 100, Learning Rate: 0.01, MSE: 0.0017337242607027292\n",
            "Hidden Layer:8, LSTM: 1, Epochs: 200, Learning Rate: 0.01, MSE: 0.0012073555262759328\n",
            "Hidden Layer:8, LSTM: 1, Epochs: 50, Learning Rate: 0.05, MSE: 0.0013375526759773493\n",
            "Hidden Layer:8, LSTM: 1, Epochs: 100, Learning Rate: 0.05, MSE: 0.0010159839875996113\n",
            "Hidden Layer:8, LSTM: 1, Epochs: 200, Learning Rate: 0.05, MSE: 0.0009307880536653101\n",
            "Hidden Layer:8, LSTM: 1, Epochs: 50, Learning Rate: 0.1, MSE: 0.0010822531767189503\n",
            "Hidden Layer:8, LSTM: 1, Epochs: 100, Learning Rate: 0.1, MSE: 0.0009107794612646103\n",
            "Hidden Layer:8, LSTM: 1, Epochs: 200, Learning Rate: 0.1, MSE: 0.0009018803830258548\n",
            "Hidden Layer:8, LSTM: 2, Epochs: 50, Learning Rate: 0.01, MSE: 0.0051214746199548244\n",
            "Hidden Layer:8, LSTM: 2, Epochs: 100, Learning Rate: 0.01, MSE: 0.0020968301687389612\n",
            "Hidden Layer:8, LSTM: 2, Epochs: 200, Learning Rate: 0.01, MSE: 0.000978157389909029\n",
            "Hidden Layer:8, LSTM: 2, Epochs: 50, Learning Rate: 0.05, MSE: 0.0018453856464475393\n",
            "Hidden Layer:8, LSTM: 2, Epochs: 100, Learning Rate: 0.05, MSE: 0.0010603114496916533\n",
            "Hidden Layer:8, LSTM: 2, Epochs: 200, Learning Rate: 0.05, MSE: 0.0009041021694429219\n",
            "Hidden Layer:8, LSTM: 2, Epochs: 50, Learning Rate: 0.1, MSE: 0.0017634467221796513\n",
            "Hidden Layer:8, LSTM: 2, Epochs: 100, Learning Rate: 0.1, MSE: 0.0009881057776510715\n",
            "Hidden Layer:8, LSTM: 2, Epochs: 200, Learning Rate: 0.1, MSE: 0.000892157549969852\n",
            "Hidden Layer:16, LSTM: 1, Epochs: 50, Learning Rate: 0.01, MSE: 0.0019006208749487996\n",
            "Hidden Layer:16, LSTM: 1, Epochs: 100, Learning Rate: 0.01, MSE: 0.0015093116089701653\n",
            "Hidden Layer:16, LSTM: 1, Epochs: 200, Learning Rate: 0.01, MSE: 0.0011832630261778831\n",
            "Hidden Layer:16, LSTM: 1, Epochs: 50, Learning Rate: 0.05, MSE: 0.0010343249887228012\n",
            "Hidden Layer:16, LSTM: 1, Epochs: 100, Learning Rate: 0.05, MSE: 0.000982056837528944\n",
            "Hidden Layer:16, LSTM: 1, Epochs: 200, Learning Rate: 0.05, MSE: 0.0008967823814600706\n",
            "Hidden Layer:16, LSTM: 1, Epochs: 50, Learning Rate: 0.1, MSE: 0.001119330758228898\n",
            "Hidden Layer:16, LSTM: 1, Epochs: 100, Learning Rate: 0.1, MSE: 0.0009215918835252523\n",
            "Hidden Layer:16, LSTM: 1, Epochs: 200, Learning Rate: 0.1, MSE: 0.0008951163035817444\n",
            "Hidden Layer:16, LSTM: 2, Epochs: 50, Learning Rate: 0.01, MSE: 0.002357134595513344\n",
            "Hidden Layer:16, LSTM: 2, Epochs: 100, Learning Rate: 0.01, MSE: 0.001680009183473885\n",
            "Hidden Layer:16, LSTM: 2, Epochs: 200, Learning Rate: 0.01, MSE: 0.0011214847909286618\n",
            "Hidden Layer:16, LSTM: 2, Epochs: 50, Learning Rate: 0.05, MSE: 0.0012961936881765723\n",
            "Hidden Layer:16, LSTM: 2, Epochs: 100, Learning Rate: 0.05, MSE: 0.0009346485021524131\n",
            "Hidden Layer:16, LSTM: 2, Epochs: 200, Learning Rate: 0.05, MSE: 0.000885280198417604\n",
            "Hidden Layer:16, LSTM: 2, Epochs: 50, Learning Rate: 0.1, MSE: 0.0010687608737498522\n",
            "Hidden Layer:16, LSTM: 2, Epochs: 100, Learning Rate: 0.1, MSE: 0.0009819696424528956\n",
            "Hidden Layer:16, LSTM: 2, Epochs: 200, Learning Rate: 0.1, MSE: 0.0009166262461803854\n",
            "Hidden Layer:32, LSTM: 1, Epochs: 50, Learning Rate: 0.01, MSE: 0.0019761703442782164\n",
            "Hidden Layer:32, LSTM: 1, Epochs: 100, Learning Rate: 0.01, MSE: 0.0015196911990642548\n",
            "Hidden Layer:32, LSTM: 1, Epochs: 200, Learning Rate: 0.01, MSE: 0.001241793273948133\n",
            "Hidden Layer:32, LSTM: 1, Epochs: 50, Learning Rate: 0.05, MSE: 0.0010832232655957341\n",
            "Hidden Layer:32, LSTM: 1, Epochs: 100, Learning Rate: 0.05, MSE: 0.0010713617084547877\n",
            "Hidden Layer:32, LSTM: 1, Epochs: 200, Learning Rate: 0.05, MSE: 0.0008936430094763637\n",
            "Hidden Layer:32, LSTM: 1, Epochs: 50, Learning Rate: 0.1, MSE: 0.0010713208466768265\n",
            "Hidden Layer:32, LSTM: 1, Epochs: 100, Learning Rate: 0.1, MSE: 0.0010924116941168904\n",
            "Hidden Layer:32, LSTM: 1, Epochs: 200, Learning Rate: 0.1, MSE: 0.0009169809054583311\n",
            "Hidden Layer:32, LSTM: 2, Epochs: 50, Learning Rate: 0.01, MSE: 0.002078436780720949\n",
            "Hidden Layer:32, LSTM: 2, Epochs: 100, Learning Rate: 0.01, MSE: 0.0015275906771421432\n",
            "Hidden Layer:32, LSTM: 2, Epochs: 200, Learning Rate: 0.01, MSE: 0.0009900175500661135\n",
            "Hidden Layer:32, LSTM: 2, Epochs: 50, Learning Rate: 0.05, MSE: 0.0022604449186474085\n",
            "Hidden Layer:32, LSTM: 2, Epochs: 100, Learning Rate: 0.05, MSE: 0.0010008818935602903\n",
            "Hidden Layer:32, LSTM: 2, Epochs: 200, Learning Rate: 0.05, MSE: 0.0009544516215100884\n",
            "Hidden Layer:32, LSTM: 2, Epochs: 50, Learning Rate: 0.1, MSE: 0.005370126571506262\n",
            "Hidden Layer:32, LSTM: 2, Epochs: 100, Learning Rate: 0.1, MSE: 0.0009122283081524074\n",
            "Hidden Layer:32, LSTM: 2, Epochs: 200, Learning Rate: 0.1, MSE: 0.0009291181340813637\n"
          ]
        }
      ]
    },
    {
      "cell_type": "code",
      "source": [
        "hidden_dim = best_param[0]\n",
        "num_layers = best_param[1]\n",
        "num_epochs = best_param[2]\n",
        "lr = best_param[3]"
      ],
      "metadata": {
        "id": "wfBp5VXE6-hT"
      },
      "execution_count": null,
      "outputs": []
    },
    {
      "cell_type": "code",
      "source": [
        "best_param"
      ],
      "metadata": {
        "id": "lMT3WtWKAt5Z",
        "colab": {
          "base_uri": "https://localhost:8080/"
        },
        "outputId": "ebde2884-6d8f-47ae-afcc-2c9cb44013b6"
      },
      "execution_count": null,
      "outputs": [
        {
          "output_type": "execute_result",
          "data": {
            "text/plain": [
              "[16, 2, 200, 0.05, 0.000885280198417604]"
            ]
          },
          "metadata": {},
          "execution_count": 17
        }
      ]
    },
    {
      "cell_type": "code",
      "source": [
        "model = LSTM(input_dim=input_dim, hidden_dim=hidden_dim, output_dim=output_dim, num_layers=num_layers)\n",
        "criterion = torch.nn.MSELoss(reduction='mean')\n",
        "optimiser = torch.optim.Adam(model.parameters(), lr=lr)"
      ],
      "metadata": {
        "id": "XPZmki59SSBl"
      },
      "execution_count": null,
      "outputs": []
    },
    {
      "cell_type": "markdown",
      "source": [
        "#Train Model Using Best Parameter"
      ],
      "metadata": {
        "id": "4EtRZF0ZsODn"
      }
    },
    {
      "cell_type": "code",
      "metadata": {
        "colab": {
          "base_uri": "https://localhost:8080/"
        },
        "id": "6xYK-780qzbc",
        "outputId": "7e1db50d-68c5-49d4-bed1-90746f3669b1"
      },
      "source": [
        "import time\n",
        "num_epochs = 200\n",
        "hist = np.zeros(num_epochs)\n",
        "start_time = time.time()\n",
        "\n",
        "for t in range(num_epochs):\n",
        "    y_train_pred = model(x_train)\n",
        "    loss = criterion(y_train_pred, y_train)\n",
        "    print(\"Epoch \", t, \"MSE: \", loss.item())\n",
        "    hist[t] = loss.item()\n",
        "    optimiser.zero_grad()\n",
        "    loss.backward()\n",
        "    optimiser.step()\n",
        "    \n",
        "training_time = time.time()-start_time\n",
        "print(\"Training time: {}\".format(training_time))"
      ],
      "execution_count": null,
      "outputs": [
        {
          "output_type": "stream",
          "name": "stdout",
          "text": [
            "Epoch  0 MSE:  0.09315897524356842\n",
            "Epoch  1 MSE:  0.10037609934806824\n",
            "Epoch  2 MSE:  0.057415250688791275\n",
            "Epoch  3 MSE:  0.06362050026655197\n",
            "Epoch  4 MSE:  0.06254980713129044\n",
            "Epoch  5 MSE:  0.05901668220758438\n",
            "Epoch  6 MSE:  0.056479476392269135\n",
            "Epoch  7 MSE:  0.055565010756254196\n",
            "Epoch  8 MSE:  0.05548524856567383\n",
            "Epoch  9 MSE:  0.05467734858393669\n",
            "Epoch  10 MSE:  0.05194647237658501\n",
            "Epoch  11 MSE:  0.0465097613632679\n",
            "Epoch  12 MSE:  0.03687793388962746\n",
            "Epoch  13 MSE:  0.021591082215309143\n",
            "Epoch  14 MSE:  0.014867221005260944\n",
            "Epoch  15 MSE:  0.04891182854771614\n",
            "Epoch  16 MSE:  0.011231640353798866\n",
            "Epoch  17 MSE:  0.01553053967654705\n",
            "Epoch  18 MSE:  0.01925990916788578\n",
            "Epoch  19 MSE:  0.019338954240083694\n",
            "Epoch  20 MSE:  0.016155293211340904\n",
            "Epoch  21 MSE:  0.011231531389057636\n",
            "Epoch  22 MSE:  0.009034393355250359\n",
            "Epoch  23 MSE:  0.010567822493612766\n",
            "Epoch  24 MSE:  0.008738076314330101\n",
            "Epoch  25 MSE:  0.008825315162539482\n",
            "Epoch  26 MSE:  0.006512692663818598\n",
            "Epoch  27 MSE:  0.003330791834741831\n",
            "Epoch  28 MSE:  0.0031072404235601425\n",
            "Epoch  29 MSE:  0.004238739609718323\n",
            "Epoch  30 MSE:  0.004111605696380138\n",
            "Epoch  31 MSE:  0.004013490863144398\n",
            "Epoch  32 MSE:  0.004402778577059507\n",
            "Epoch  33 MSE:  0.004548396449536085\n",
            "Epoch  34 MSE:  0.003969516139477491\n",
            "Epoch  35 MSE:  0.002975499490275979\n",
            "Epoch  36 MSE:  0.0025142496451735497\n",
            "Epoch  37 MSE:  0.0027948603965342045\n",
            "Epoch  38 MSE:  0.0024690337013453245\n",
            "Epoch  39 MSE:  0.001622284995391965\n",
            "Epoch  40 MSE:  0.00152135593816638\n",
            "Epoch  41 MSE:  0.001832691254094243\n",
            "Epoch  42 MSE:  0.0018308049766346812\n",
            "Epoch  43 MSE:  0.0016793879913166165\n",
            "Epoch  44 MSE:  0.0018547034123912454\n",
            "Epoch  45 MSE:  0.002106706378981471\n",
            "Epoch  46 MSE:  0.00190643104724586\n",
            "Epoch  47 MSE:  0.0016038460889831185\n",
            "Epoch  48 MSE:  0.0015964804915711284\n",
            "Epoch  49 MSE:  0.001603796728886664\n",
            "Epoch  50 MSE:  0.0013968468410894275\n",
            "Epoch  51 MSE:  0.001231075031682849\n",
            "Epoch  52 MSE:  0.0012954266276210546\n",
            "Epoch  53 MSE:  0.001332326210103929\n",
            "Epoch  54 MSE:  0.0012335897190496325\n",
            "Epoch  55 MSE:  0.001223846571519971\n",
            "Epoch  56 MSE:  0.0013265176676213741\n",
            "Epoch  57 MSE:  0.001361025613732636\n",
            "Epoch  58 MSE:  0.00129011832177639\n",
            "Epoch  59 MSE:  0.001239091856405139\n",
            "Epoch  60 MSE:  0.0012451389338821173\n",
            "Epoch  61 MSE:  0.001211492926813662\n",
            "Epoch  62 MSE:  0.0011382721131667495\n",
            "Epoch  63 MSE:  0.0011203124886378646\n",
            "Epoch  64 MSE:  0.001135371159762144\n",
            "Epoch  65 MSE:  0.001109384698793292\n",
            "Epoch  66 MSE:  0.001078874571248889\n",
            "Epoch  67 MSE:  0.00109915214125067\n",
            "Epoch  68 MSE:  0.0011220419546589255\n",
            "Epoch  69 MSE:  0.001106970477849245\n",
            "Epoch  70 MSE:  0.001096597989089787\n",
            "Epoch  71 MSE:  0.001102844369597733\n",
            "Epoch  72 MSE:  0.0010885854717344046\n",
            "Epoch  73 MSE:  0.0010619629174470901\n",
            "Epoch  74 MSE:  0.001056972425431013\n",
            "Epoch  75 MSE:  0.0010563733521848917\n",
            "Epoch  76 MSE:  0.0010384671622887254\n",
            "Epoch  77 MSE:  0.0010276362299919128\n",
            "Epoch  78 MSE:  0.0010324767790734768\n",
            "Epoch  79 MSE:  0.0010315811960026622\n",
            "Epoch  80 MSE:  0.0010257466929033399\n",
            "Epoch  81 MSE:  0.0010280205169692636\n",
            "Epoch  82 MSE:  0.001028471509926021\n",
            "Epoch  83 MSE:  0.0010194320930168033\n",
            "Epoch  84 MSE:  0.0010139272781088948\n",
            "Epoch  85 MSE:  0.0010134732583537698\n",
            "Epoch  86 MSE:  0.0010070729767903686\n",
            "Epoch  87 MSE:  0.0009990842081606388\n",
            "Epoch  88 MSE:  0.0009970729006454349\n",
            "Epoch  89 MSE:  0.0009946658974513412\n",
            "Epoch  90 MSE:  0.0009902120800688863\n",
            "Epoch  91 MSE:  0.000989690888673067\n",
            "Epoch  92 MSE:  0.0009896759875118732\n",
            "Epoch  93 MSE:  0.000986034283414483\n",
            "Epoch  94 MSE:  0.0009836007375270128\n",
            "Epoch  95 MSE:  0.0009829644113779068\n",
            "Epoch  96 MSE:  0.0009797608945518732\n",
            "Epoch  97 MSE:  0.0009761959663592279\n",
            "Epoch  98 MSE:  0.0009743652190081775\n",
            "Epoch  99 MSE:  0.0009714837069623172\n",
            "Epoch  100 MSE:  0.0009684227406978607\n",
            "Epoch  101 MSE:  0.0009672750602476299\n",
            "Epoch  102 MSE:  0.000965750077739358\n",
            "Epoch  103 MSE:  0.0009633800946176052\n",
            "Epoch  104 MSE:  0.000962151912972331\n",
            "Epoch  105 MSE:  0.0009609470143914223\n",
            "Epoch  106 MSE:  0.0009588734828867018\n",
            "Epoch  107 MSE:  0.000957327545620501\n",
            "Epoch  108 MSE:  0.000955817406065762\n",
            "Epoch  109 MSE:  0.000953597656916827\n",
            "Epoch  110 MSE:  0.000951881636865437\n",
            "Epoch  111 MSE:  0.000950540998019278\n",
            "Epoch  112 MSE:  0.0009487538482062519\n",
            "Epoch  113 MSE:  0.0009472506935708225\n",
            "Epoch  114 MSE:  0.0009460843284614384\n",
            "Epoch  115 MSE:  0.0009446209296584129\n",
            "Epoch  116 MSE:  0.0009433341911062598\n",
            "Epoch  117 MSE:  0.0009422407019883394\n",
            "Epoch  118 MSE:  0.0009408181067556143\n",
            "Epoch  119 MSE:  0.0009394657681696117\n",
            "Epoch  120 MSE:  0.0009383040596731007\n",
            "Epoch  121 MSE:  0.0009369596955366433\n",
            "Epoch  122 MSE:  0.0009356975788250566\n",
            "Epoch  123 MSE:  0.0009345856960862875\n",
            "Epoch  124 MSE:  0.0009333649650216103\n",
            "Epoch  125 MSE:  0.0009322550031356514\n",
            "Epoch  126 MSE:  0.0009312728070653975\n",
            "Epoch  127 MSE:  0.0009301868267357349\n",
            "Epoch  128 MSE:  0.0009291546884924173\n",
            "Epoch  129 MSE:  0.0009281878592446446\n",
            "Epoch  130 MSE:  0.0009271497838199139\n",
            "Epoch  131 MSE:  0.0009261713712476194\n",
            "Epoch  132 MSE:  0.0009252309682779014\n",
            "Epoch  133 MSE:  0.0009242414962500334\n",
            "Epoch  134 MSE:  0.0009233244927600026\n",
            "Epoch  135 MSE:  0.0009224503301084042\n",
            "Epoch  136 MSE:  0.0009215589379891753\n",
            "Epoch  137 MSE:  0.0009207266848534346\n",
            "Epoch  138 MSE:  0.0009199088090099394\n",
            "Epoch  139 MSE:  0.0009190833079628646\n",
            "Epoch  140 MSE:  0.0009183084475807846\n",
            "Epoch  141 MSE:  0.000917533878237009\n",
            "Epoch  142 MSE:  0.0009167578537017107\n",
            "Epoch  143 MSE:  0.0009160212357528508\n",
            "Epoch  144 MSE:  0.0009152880520559847\n",
            "Epoch  145 MSE:  0.0009145723306573927\n",
            "Epoch  146 MSE:  0.0009138901950791478\n",
            "Epoch  147 MSE:  0.0009132095146924257\n",
            "Epoch  148 MSE:  0.0009125519427470863\n",
            "Epoch  149 MSE:  0.0009119188180193305\n",
            "Epoch  150 MSE:  0.0009112886618822813\n",
            "Epoch  151 MSE:  0.0009106791112571955\n",
            "Epoch  152 MSE:  0.000910082773771137\n",
            "Epoch  153 MSE:  0.0009094930719584227\n",
            "Epoch  154 MSE:  0.0009089256054721773\n",
            "Epoch  155 MSE:  0.0009083684417419136\n",
            "Epoch  156 MSE:  0.0009078221046365798\n",
            "Epoch  157 MSE:  0.0009072956745512784\n",
            "Epoch  158 MSE:  0.000906778615899384\n",
            "Epoch  159 MSE:  0.0009062760509550571\n",
            "Epoch  160 MSE:  0.0009057882125489414\n",
            "Epoch  161 MSE:  0.0009053078247234225\n",
            "Epoch  162 MSE:  0.0009048417559824884\n",
            "Epoch  163 MSE:  0.0009043868631124496\n",
            "Epoch  164 MSE:  0.0009039409342221916\n",
            "Epoch  165 MSE:  0.0009035081602632999\n",
            "Epoch  166 MSE:  0.0009030844666995108\n",
            "Epoch  167 MSE:  0.0009026715415529907\n",
            "Epoch  168 MSE:  0.0009022707818076015\n",
            "Epoch  169 MSE:  0.000901878229342401\n",
            "Epoch  170 MSE:  0.0009014965035021305\n",
            "Epoch  171 MSE:  0.0009011242655105889\n",
            "Epoch  172 MSE:  0.0009007602347992361\n",
            "Epoch  173 MSE:  0.0009004060993902385\n",
            "Epoch  174 MSE:  0.0009000597638078034\n",
            "Epoch  175 MSE:  0.0008997218683362007\n",
            "Epoch  176 MSE:  0.0008993928204290569\n",
            "Epoch  177 MSE:  0.0008990709902718663\n",
            "Epoch  178 MSE:  0.000898757774848491\n",
            "Epoch  179 MSE:  0.0008984520100057125\n",
            "Epoch  180 MSE:  0.0008981534629128873\n",
            "Epoch  181 MSE:  0.0008978624828159809\n",
            "Epoch  182 MSE:  0.0008975780801847577\n",
            "Epoch  183 MSE:  0.0008973003714345396\n",
            "Epoch  184 MSE:  0.0008970294729806483\n",
            "Epoch  185 MSE:  0.0008967645699158311\n",
            "Epoch  186 MSE:  0.0008965061279013753\n",
            "Epoch  187 MSE:  0.0008962534484453499\n",
            "Epoch  188 MSE:  0.0008960065897554159\n",
            "Epoch  189 MSE:  0.0008957657846622169\n",
            "Epoch  190 MSE:  0.0008955300436355174\n",
            "Epoch  191 MSE:  0.0008952997741289437\n",
            "Epoch  192 MSE:  0.000895074859727174\n",
            "Epoch  193 MSE:  0.0008948544273152947\n",
            "Epoch  194 MSE:  0.0008946392335928977\n",
            "Epoch  195 MSE:  0.00089442846365273\n",
            "Epoch  196 MSE:  0.0008942224667407572\n",
            "Epoch  197 MSE:  0.0008940207189880311\n",
            "Epoch  198 MSE:  0.0008938232203945518\n",
            "Epoch  199 MSE:  0.00089363002916798\n",
            "Training time: 34.67233204841614\n"
          ]
        }
      ]
    },
    {
      "cell_type": "markdown",
      "source": [
        "#Predict Test Data"
      ],
      "metadata": {
        "id": "jQDT2TWPsSUi"
      }
    },
    {
      "cell_type": "code",
      "metadata": {
        "colab": {
          "base_uri": "https://localhost:8080/"
        },
        "id": "MdFQUeyT8rJ1",
        "outputId": "bae842b6-2ed0-4846-a9fa-9f518144d69f"
      },
      "source": [
        "# make predictions\n",
        "y_test_pred = model(x_test)\n",
        "\n",
        "# invert predictions\n",
        "y_train_pred = scaler.inverse_transform(y_train_pred.detach().numpy())\n",
        "y_train = scaler.inverse_transform(y_train.detach().numpy())\n",
        "y_test_pred = scaler.inverse_transform(y_test_pred.detach().numpy())\n",
        "y_test = scaler.inverse_transform(y_test.detach().numpy())\n",
        "\n",
        "# calculate MAPE\n",
        "trainScore = mean_squared_error(y_train[:,0], y_train_pred[:,0])\n",
        "print('Train Score: %.2f MSE' % (trainScore))\n",
        "testScore = mean_squared_error(y_test, y_test_pred)\n",
        "print('Test Score: %.2f MSE' % (testScore))"
      ],
      "execution_count": null,
      "outputs": [
        {
          "output_type": "stream",
          "name": "stdout",
          "text": [
            "Train Score: 16909.71 MSE\n",
            "Test Score: 116316.88 MSE\n"
          ]
        }
      ]
    },
    {
      "cell_type": "markdown",
      "source": [
        "#Plotting Test Result"
      ],
      "metadata": {
        "id": "fE-_c0C0sWc1"
      }
    },
    {
      "cell_type": "code",
      "metadata": {
        "id": "M9b4iRcM-2FG"
      },
      "source": [
        "trainPredictPlot = np.empty_like(price)\n",
        "trainPredictPlot[:, :] = np.nan\n",
        "trainPredictPlot[lookback:len(y_train_pred)+lookback, :] = y_train_pred\n",
        "\n",
        "# shift test predictions for plotting\n",
        "testPredictPlot = np.empty_like(price)\n",
        "testPredictPlot[:, :] = np.nan\n",
        "testPredictPlot[len(y_train_pred)+lookback-1:len(price)-1, :] = y_test_pred\n",
        "\n",
        "original = scaler.inverse_transform(price['Close'].values.reshape(-1,1))\n",
        "\n",
        "predictions = np.append(trainPredictPlot, testPredictPlot, axis=1)\n",
        "predictions = np.append(predictions, original, axis=1)\n",
        "result = pd.DataFrame(predictions)\n",
        "result = result[-875:]"
      ],
      "execution_count": null,
      "outputs": []
    },
    {
      "cell_type": "code",
      "metadata": {
        "colab": {
          "base_uri": "https://localhost:8080/"
        },
        "id": "rvyoG9yJ96rD",
        "outputId": "23965d56-8b20-42f9-fb56-f39509ff8550"
      },
      "source": [
        "import seaborn as sns\n",
        "import matplotlib.pyplot as plt\n",
        "sns.set_style(\"darkgrid\")    \n",
        "\n",
        "fig = plt.figure()\n",
        "fig.subplots_adjust(hspace=0.2, wspace=0.2)\n",
        "\n",
        "plt.subplot(1, 2, 1)\n",
        "ax = sns.lineplot(x = result[-30:].index, y = result[2][-30:], label=\"Data\", color='royalblue')\n",
        "ax = sns.lineplot(x = result[-30:].index, y = result[1][-30:], label=\"Test (LSTM)\", color='tomato')\n",
        "ax.set_title('ISAT price', size = 14, fontweight='bold')\n",
        "ax.set_xlabel(\"Days\", size = 14)\n",
        "ax.set_ylabel(\"Close\", size = 14)\n",
        "ax.set_xticklabels('', size=10)\n",
        "\n",
        "\n",
        "plt.subplot(1, 2, 2)\n",
        "ax = sns.lineplot(data=hist, color='royalblue')\n",
        "ax.set_xlabel(\"Epoch\", size = 14)\n",
        "ax.set_ylabel(\"Loss\", size = 14)\n",
        "ax.set_title(\"Training Loss\", size = 14, fontweight='bold')\n",
        "fig.set_figheight(6)\n",
        "fig.set_figwidth(16)"
      ],
      "execution_count": null,
      "outputs": [
        {
          "output_type": "display_data",
          "data": {
            "image/png": "[encoded data removed]",
            "text/plain": [
              "<Figure size 1152x432 with 2 Axes>"
            ]
          },
          "metadata": {}
        }
      ]
    },
    {
      "cell_type": "code",
      "source": [
        "MAPE(result[2][-30:],result[1][-30:])"
      ],
      "metadata": {
        "colab": {
          "base_uri": "https://localhost:8080/"
        },
        "id": "jJmJL_qIwOJJ",
        "outputId": "f8c335ce-8d5b-46ff-cae0-0034557cde1c"
      },
      "execution_count": null,
      "outputs": [
        {
          "output_type": "execute_result",
          "data": {
            "text/plain": [
              "2.020999992683453"
            ]
          },
          "metadata": {},
          "execution_count": 23
        }
      ]
    }
  ]
}