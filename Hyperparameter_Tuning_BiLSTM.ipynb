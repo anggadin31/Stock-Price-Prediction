{
  "cells": [
    {
      "cell_type": "code",
      "execution_count": null,
      "metadata": {
        "colab": {
          "base_uri": "https://localhost:8080/"
        },
        "id": "tK6gj-ynpzIs",
        "outputId": "c79a5a74-16cb-4b7b-8db7-79b03cc148b4"
      },
      "outputs": [
        {
          "output_type": "stream",
          "name": "stdout",
          "text": [
            "Looking in indexes: https://pypi.org/simple, https://us-python.pkg.dev/colab-wheels/public/simple/\n",
            "Collecting optuna\n",
            "  Downloading optuna-2.10.1-py3-none-any.whl (308 kB)\n",
            "\u001b[K     |████████████████████████████████| 308 kB 10.7 MB/s \n",
            "\u001b[?25hCollecting alembic\n",
            "  Downloading alembic-1.8.1-py3-none-any.whl (209 kB)\n",
            "\u001b[K     |████████████████████████████████| 209 kB 48.5 MB/s \n",
            "\u001b[?25hRequirement already satisfied: scipy!=1.4.0 in /usr/local/lib/python3.7/dist-packages (from optuna) (1.7.3)\n",
            "Requirement already satisfied: tqdm in /usr/local/lib/python3.7/dist-packages (from optuna) (4.64.0)\n",
            "Requirement already satisfied: PyYAML in /usr/local/lib/python3.7/dist-packages (from optuna) (6.0)\n",
            "Collecting cliff\n",
            "  Downloading cliff-3.10.1-py3-none-any.whl (81 kB)\n",
            "\u001b[K     |████████████████████████████████| 81 kB 7.8 MB/s \n",
            "\u001b[?25hCollecting colorlog\n",
            "  Downloading colorlog-6.6.0-py2.py3-none-any.whl (11 kB)\n",
            "Collecting cmaes>=0.8.2\n",
            "  Downloading cmaes-0.8.2-py3-none-any.whl (15 kB)\n",
            "Requirement already satisfied: numpy in /usr/local/lib/python3.7/dist-packages (from optuna) (1.21.6)\n",
            "Requirement already satisfied: sqlalchemy>=1.1.0 in /usr/local/lib/python3.7/dist-packages (from optuna) (1.4.40)\n",
            "Requirement already satisfied: packaging>=20.0 in /usr/local/lib/python3.7/dist-packages (from optuna) (21.3)\n",
            "Requirement already satisfied: pyparsing!=3.0.5,>=2.0.2 in /usr/local/lib/python3.7/dist-packages (from packaging>=20.0->optuna) (3.0.9)\n",
            "Requirement already satisfied: greenlet!=0.4.17 in /usr/local/lib/python3.7/dist-packages (from sqlalchemy>=1.1.0->optuna) (1.1.2)\n",
            "Requirement already satisfied: importlib-metadata in /usr/local/lib/python3.7/dist-packages (from sqlalchemy>=1.1.0->optuna) (4.12.0)\n",
            "Requirement already satisfied: importlib-resources in /usr/local/lib/python3.7/dist-packages (from alembic->optuna) (5.9.0)\n",
            "Collecting Mako\n",
            "  Downloading Mako-1.2.1-py3-none-any.whl (78 kB)\n",
            "\u001b[K     |████████████████████████████████| 78 kB 6.9 MB/s \n",
            "\u001b[?25hCollecting pbr!=2.1.0,>=2.0.0\n",
            "  Downloading pbr-5.10.0-py2.py3-none-any.whl (112 kB)\n",
            "\u001b[K     |████████████████████████████████| 112 kB 51.8 MB/s \n",
            "\u001b[?25hCollecting stevedore>=2.0.1\n",
            "  Downloading stevedore-3.5.0-py3-none-any.whl (49 kB)\n",
            "\u001b[K     |████████████████████████████████| 49 kB 5.0 MB/s \n",
            "\u001b[?25hCollecting autopage>=0.4.0\n",
            "  Downloading autopage-0.5.1-py3-none-any.whl (29 kB)\n",
            "Collecting cmd2>=1.0.0\n",
            "  Downloading cmd2-2.4.2-py3-none-any.whl (147 kB)\n",
            "\u001b[K     |████████████████████████████████| 147 kB 31.1 MB/s \n",
            "\u001b[?25hRequirement already satisfied: PrettyTable>=0.7.2 in /usr/local/lib/python3.7/dist-packages (from cliff->optuna) (3.3.0)\n",
            "Requirement already satisfied: attrs>=16.3.0 in /usr/local/lib/python3.7/dist-packages (from cmd2>=1.0.0->cliff->optuna) (22.1.0)\n",
            "Requirement already satisfied: typing-extensions in /usr/local/lib/python3.7/dist-packages (from cmd2>=1.0.0->cliff->optuna) (4.1.1)\n",
            "Collecting pyperclip>=1.6\n",
            "  Downloading pyperclip-1.8.2.tar.gz (20 kB)\n",
            "Requirement already satisfied: wcwidth>=0.1.7 in /usr/local/lib/python3.7/dist-packages (from cmd2>=1.0.0->cliff->optuna) (0.2.5)\n",
            "Requirement already satisfied: zipp>=0.5 in /usr/local/lib/python3.7/dist-packages (from importlib-metadata->sqlalchemy>=1.1.0->optuna) (3.8.1)\n",
            "Requirement already satisfied: MarkupSafe>=0.9.2 in /usr/local/lib/python3.7/dist-packages (from Mako->alembic->optuna) (2.0.1)\n",
            "Building wheels for collected packages: pyperclip\n",
            "  Building wheel for pyperclip (setup.py) ... \u001b[?25l\u001b[?25hdone\n",
            "  Created wheel for pyperclip: filename=pyperclip-1.8.2-py3-none-any.whl size=11137 sha256=5ad217c7f66bc25a1f4d352b5a9add84a7fa6dfb86612d7cd53a5037d830e407\n",
            "  Stored in directory: /root/.cache/pip/wheels/9f/18/84/8f69f8b08169c7bae2dde6bd7daf0c19fca8c8e500ee620a28\n",
            "Successfully built pyperclip\n",
            "Installing collected packages: pyperclip, pbr, stevedore, Mako, cmd2, autopage, colorlog, cmaes, cliff, alembic, optuna\n",
            "Successfully installed Mako-1.2.1 alembic-1.8.1 autopage-0.5.1 cliff-3.10.1 cmaes-0.8.2 cmd2-2.4.2 colorlog-6.6.0 optuna-2.10.1 pbr-5.10.0 pyperclip-1.8.2 stevedore-3.5.0\n"
          ]
        }
      ],
      "source": [
        "!pip install optuna\n",
        "import optuna\n",
        "from sklearn.preprocessing import MinMaxScaler\n",
        "import pandas as pd\n",
        "import torch\n",
        "import torch.nn as nn\n",
        "import numpy as np\n",
        "from sklearn.metrics import mean_absolute_error\n",
        "import math\n",
        "import seaborn as sns\n",
        "import matplotlib.pyplot as plt\n",
        "from torch.autograd import Variable\n",
        "from torch.nn.parameter import Parameter\n",
        "import torch.nn.functional as F\n",
        "import torch.utils.data as utils\n",
        "import time\n",
        "import torch.optim as optim"
      ]
    },
    {
      "cell_type": "code",
      "execution_count": null,
      "metadata": {
        "id": "7v8E6ifLqI41"
      },
      "outputs": [],
      "source": [
        "resisten_kondolon3 = pd.read_csv(\"ISAT.csv\",parse_dates=['Date'])"
      ]
    },
    {
      "cell_type": "code",
      "execution_count": null,
      "metadata": {
        "colab": {
          "base_uri": "https://localhost:8080/"
        },
        "id": "I9kjxGYVqAq1",
        "outputId": "ddf8ab4c-380d-43e7-e697-0a714a3a0ee9"
      },
      "outputs": [
        {
          "name": "stderr",
          "output_type": "stream",
          "text": [
            "/usr/local/lib/python3.7/dist-packages/ipykernel_launcher.py:3: SettingWithCopyWarning: \n",
            "A value is trying to be set on a copy of a slice from a DataFrame.\n",
            "Try using .loc[row_indexer,col_indexer] = value instead\n",
            "\n",
            "See the caveats in the documentation: https://pandas.pydata.org/pandas-docs/stable/user_guide/indexing.html#returning-a-view-versus-a-copy\n",
            "  This is separate from the ipykernel package so we can avoid doing imports until\n"
          ]
        }
      ],
      "source": [
        "price = data[['Close']]\n",
        "scaler = MinMaxScaler(feature_range=(0, 1))\n",
        "price['Close'] = scaler.fit_transform(price['Close'].values.reshape(-1,1))"
      ]
    },
    {
      "cell_type": "markdown",
      "metadata": {
        "id": "8rivq9BcsfkW"
      },
      "source": [
        "#Create Sequence Data"
      ]
    },
    {
      "cell_type": "code",
      "execution_count": null,
      "metadata": {
        "id": "kT_P5GKDqVB-"
      },
      "outputs": [],
      "source": [
        "def split_data(stock, lookback):\n",
        "    data_raw = stock.to_numpy() # convert to numpy array\n",
        "    data = []\n",
        "    \n",
        "    # create all possible sequences of length seq_len\n",
        "    for index in range(len(data_raw) - lookback): \n",
        "        data.append(data_raw[index: index + lookback])\n",
        "\n",
        "    data = np.array(data);\n",
        "    test_set_size = int(30);\n",
        "    train_set_size = data.shape[0] - (test_set_size);\n",
        "    \n",
        "    x_train = data[:train_set_size,:-1,:]\n",
        "    y_train = data[:train_set_size,-1,:]\n",
        "    \n",
        "    x_test = data[train_set_size:,:-1]\n",
        "    y_test = data[train_set_size:,-1,:]\n",
        "    \n",
        "    return [x_train, y_train, x_test, y_test]"
      ]
    },
    {
      "cell_type": "code",
      "execution_count": null,
      "metadata": {
        "id": "Sa8T93EKqYNN"
      },
      "outputs": [],
      "source": [
        "lookback = 21 # choose sequence length\n",
        "x_train, y_train, x_test, y_test = split_data(price, lookback)"
      ]
    },
    {
      "cell_type": "code",
      "execution_count": null,
      "metadata": {
        "id": "m17ecrTdqbFF"
      },
      "outputs": [],
      "source": [
        "x_train = torch.from_numpy(x_train).type(torch.Tensor)\n",
        "x_test = torch.from_numpy(x_test).type(torch.Tensor)\n",
        "y_train = torch.from_numpy(y_train).type(torch.Tensor)\n",
        "y_test = torch.from_numpy(y_test).type(torch.Tensor)"
      ]
    },
    {
      "cell_type": "markdown",
      "metadata": {
        "id": "Q5-Fnnu0sHrm"
      },
      "source": [
        "#Build Model"
      ]
    },
    {
      "cell_type": "code",
      "execution_count": null,
      "metadata": {
        "id": "msrWfd09Jsq8"
      },
      "outputs": [],
      "source": [
        "class BiLSTM(nn.Module):\n",
        "  \n",
        "    def __init__(self, input_dim, hidden_dim, num_layers, output_dim):\n",
        "        super(BiLSTM, self).__init__()\n",
        "        self.hidden_dim = hidden_dim\n",
        "        self.num_layers = num_layers\n",
        "        self.lstm = nn.LSTM(input_dim, hidden_dim, num_layers, batch_first=True, bidirectional = True)\n",
        "        self.linear = nn.Linear(2*hidden_dim, output_dim)\n",
        "        self.linear2 = nn.Linear(21,1)\n",
        "        \n",
        "    def forward(self, x):\n",
        "        h0 = torch.zeros(self.num_layers*2, x.size(0), self.hidden_dim).requires_grad_()\n",
        "        c0 = torch.zeros(self.num_layers*2, x.size(0), self.hidden_dim).requires_grad_()\n",
        "        out, (hn, cn) = self.lstm(x, (h0.detach(), c0.detach()))\n",
        "        out = out[:, -1, :]\n",
        "        out = self.linear(out)\n",
        "        return out"
      ]
    },
    {
      "cell_type": "markdown",
      "metadata": {
        "id": "ZoOsePFtsB4L"
      },
      "source": [
        "#Hyperparameter Tuning"
      ]
    },
    {
      "cell_type": "code",
      "execution_count": null,
      "metadata": {
        "colab": {
          "base_uri": "https://localhost:8080/"
        },
        "id": "J8FeMQqQbQ8m",
        "outputId": "9b71c6ea-5329-4289-b8f1-fcbebfac7bbb"
      },
      "outputs": [
        {
          "name": "stdout",
          "output_type": "stream",
          "text": [
            "Hidden Layer:8, LSTM: 8, Optimizer: RMSprop, Min Mae: 0.1\n"
          ]
        }
      ],
      "source": [
        "# model = BiLSTM(input_dim=1, hidden_dim=8, output_dim=1, num_layers=8)\n",
        "# optimizer = torch.optim.RMSprop(model.parameters(), lr=0.01)\n",
        "# print(\"Hidden Layer:{}, LSTM: {}, Optimizer: {}, Min Mae: {}\".format(model.hidden_dim, model.num_layers, optimizer.__class__.__name__, 0.1))"
      ]
    },
    {
      "cell_type": "code",
      "execution_count": null,
      "metadata": {
        "id": "S413VRA4UBSu"
      },
      "outputs": [],
      "source": [
        "def build_model(params):\n",
        "  model = BiLSTM(input_dim=1, hidden_dim=params['hidden'], output_dim=1, num_layers=params['lstm'])\n",
        "  return model\n",
        "\n",
        "def train_model(params,model):\n",
        "  num_epochs = 300\n",
        "  criterion = torch.nn.L1Loss()\n",
        "  hist = np.zeros(num_epochs)\n",
        "  min_loss = 100\n",
        "  optimizer = getattr(optim, params['optimizer'])(model.parameters(), lr=0.001)\n",
        "  for t in range(num_epochs):\n",
        "    y_train_pred = model(x_train)\n",
        "    loss = criterion(y_train_pred, y_train)\n",
        "    hist[t] = loss.item()\n",
        "    optimizer.zero_grad()\n",
        "    loss.backward()\n",
        "    optimizer.step()\n",
        "    min_loss = hist.min()\n",
        "    # print(\"Hidden Layer:{}, LSTM: {}, Optimizer: {}, Min Mae: {}\".format(model.hidden_dim, model.num_layers, optimizer.__class__.__name__, min_loss))\n",
        "  return min_loss\n",
        "\n",
        "def objective(trial):\n",
        "     params = {\n",
        "              'optimizer': trial.suggest_categorical(\"optimizer\", [\"Adam\", \"RMSprop\", \"SGD\"]),\n",
        "              'lstm': trial.suggest_int(\"lstm\", 1, 3, 1),\n",
        "              'hidden': trial.suggest_int(\"hidden\",8, 32, 8)\n",
        "              }\n",
        "    \n",
        "     model = build_model(params)\n",
        "    \n",
        "     loss = train_model(params, model)\n",
        "\n",
        "     return loss"
      ]
    },
    {
      "cell_type": "code",
      "execution_count": null,
      "metadata": {
        "colab": {
          "background_save": true,
          "base_uri": "https://localhost:8080/"
        },
        "id": "-Dm_weZhgc_n",
        "outputId": "fb2a1c4b-0880-42f4-a746-7f7b32327f06"
      },
      "outputs": [
        {
          "name": "stderr",
          "output_type": "stream",
          "text": [
            "\u001b[32m[I 2022-07-01 02:47:51,080]\u001b[0m A new study created in memory with name: no-name-6e4fc68d-536a-4893-992e-f8fd06ae3c9d\u001b[0m\n",
            "\u001b[32m[I 2022-07-01 02:49:58,728]\u001b[0m Trial 0 finished with value: 0.01451956108212471 and parameters: {'optimizer': 'Adam', 'lstm': 2, 'hidden': 8}. Best is trial 0 with value: 0.01451956108212471.\u001b[0m\n",
            "\u001b[32m[I 2022-07-01 02:52:47,054]\u001b[0m Trial 1 finished with value: 0.01687699742615223 and parameters: {'optimizer': 'Adam', 'lstm': 3, 'hidden': 8}. Best is trial 0 with value: 0.01451956108212471.\u001b[0m\n",
            "\u001b[32m[I 2022-07-01 02:54:34,899]\u001b[0m Trial 2 finished with value: 0.019005853682756424 and parameters: {'optimizer': 'RMSprop', 'lstm': 2, 'hidden': 8}. Best is trial 0 with value: 0.01451956108212471.\u001b[0m\n",
            "\u001b[32m[I 2022-07-01 02:55:29,802]\u001b[0m Trial 3 finished with value: 0.01690039411187172 and parameters: {'optimizer': 'Adam', 'lstm': 1, 'hidden': 8}. Best is trial 0 with value: 0.01451956108212471.\u001b[0m\n",
            "\u001b[32m[I 2022-07-01 03:05:56,824]\u001b[0m Trial 4 finished with value: 0.027090290561318398 and parameters: {'optimizer': 'RMSprop', 'lstm': 3, 'hidden': 32}. Best is trial 0 with value: 0.01451956108212471.\u001b[0m\n",
            "\u001b[32m[I 2022-07-01 03:08:40,553]\u001b[0m Trial 5 finished with value: 0.03175843879580498 and parameters: {'optimizer': 'RMSprop', 'lstm': 3, 'hidden': 8}. Best is trial 0 with value: 0.01451956108212471.\u001b[0m\n",
            "\u001b[32m[I 2022-07-01 03:10:05,142]\u001b[0m Trial 6 finished with value: 0.020212480798363686 and parameters: {'optimizer': 'RMSprop', 'lstm': 1, 'hidden': 16}. Best is trial 0 with value: 0.01451956108212471.\u001b[0m\n"
          ]
        }
      ],
      "source": [
        "params = {\n",
        "              'optimizer': [\"Adam\", \"RMSprop\", \"SGD\"],\n",
        "              'lstm': [1,2,3],\n",
        "              'hidden': [8,16,32]\n",
        "              }\n",
        "study = optuna.create_study(direction=\"minimize\", sampler=optuna.samplers.GridSampler(params))\n",
        "study.optimize(objective, n_trials=27)"
      ]
    },
    {
      "cell_type": "code",
      "execution_count": null,
      "metadata": {
        "colab": {
          "base_uri": "https://localhost:8080/",
          "height": 206
        },
        "id": "ThkiJk-rzU-M",
        "outputId": "dcd75f00-d333-4cf1-e8db-9071f2a86b06"
      },
      "outputs": [
        {
          "data": {
            "text/html": [
              "\n",
              "  <div id=\"df-b04252ee-9889-4f2c-8cde-d1ec11024470\">\n",
              "    <div class=\"colab-df-container\">\n",
              "      <div>\n",
              "<style scoped>\n",
              "    .dataframe tbody tr th:only-of-type {\n",
              "        vertical-align: middle;\n",
              "    }\n",
              "\n",
              "    .dataframe tbody tr th {\n",
              "        vertical-align: top;\n",
              "    }\n",
              "\n",
              "    .dataframe thead th {\n",
              "        text-align: right;\n",
              "    }\n",
              "</style>\n",
              "<table border=\"1\" class=\"dataframe\">\n",
              "  <thead>\n",
              "    <tr style=\"text-align: right;\">\n",
              "      <th></th>\n",
              "      <th>params_lstm</th>\n",
              "      <th>params_optimizer</th>\n",
              "      <th>params_hidden</th>\n",
              "      <th>value</th>\n",
              "    </tr>\n",
              "  </thead>\n",
              "  <tbody>\n",
              "    <tr>\n",
              "      <th>0</th>\n",
              "      <td>1</td>\n",
              "      <td>Adam</td>\n",
              "      <td>8</td>\n",
              "      <td>0.113889</td>\n",
              "    </tr>\n",
              "    <tr>\n",
              "      <th>1</th>\n",
              "      <td>1</td>\n",
              "      <td>Adam</td>\n",
              "      <td>16</td>\n",
              "      <td>0.074009</td>\n",
              "    </tr>\n",
              "    <tr>\n",
              "      <th>2</th>\n",
              "      <td>1</td>\n",
              "      <td>Adam</td>\n",
              "      <td>32</td>\n",
              "      <td>0.078685</td>\n",
              "    </tr>\n",
              "    <tr>\n",
              "      <th>3</th>\n",
              "      <td>1</td>\n",
              "      <td>RMSprop</td>\n",
              "      <td>8</td>\n",
              "      <td>0.029224</td>\n",
              "    </tr>\n",
              "    <tr>\n",
              "      <th>4</th>\n",
              "      <td>1</td>\n",
              "      <td>RMSprop</td>\n",
              "      <td>16</td>\n",
              "      <td>0.030133</td>\n",
              "    </tr>\n",
              "  </tbody>\n",
              "</table>\n",
              "</div>\n",
              "      <button class=\"colab-df-convert\" onclick=\"convertToInteractive('df-b04252ee-9889-4f2c-8cde-d1ec11024470')\"\n",
              "              title=\"Convert this dataframe to an interactive table.\"\n",
              "              style=\"display:none;\">\n",
              "        \n",
              "  <svg xmlns=\"http://www.w3.org/2000/svg\" height=\"24px\"viewBox=\"0 0 24 24\"\n",
              "       width=\"24px\">\n",
              "    <path d=\"M0 0h24v24H0V0z\" fill=\"none\"/>\n",
              "    <path d=\"M18.56 5.44l.94 2.06.94-2.06 2.06-.94-2.06-.94-.94-2.06-.94 2.06-2.06.94zm-11 1L8.5 8.5l.94-2.06 2.06-.94-2.06-.94L8.5 2.5l-.94 2.06-2.06.94zm10 10l.94 2.06.94-2.06 2.06-.94-2.06-.94-.94-2.06-.94 2.06-2.06.94z\"/><path d=\"M17.41 7.96l-1.37-1.37c-.4-.4-.92-.59-1.43-.59-.52 0-1.04.2-1.43.59L10.3 9.45l-7.72 7.72c-.78.78-.78 2.05 0 2.83L4 21.41c.39.39.9.59 1.41.59.51 0 1.02-.2 1.41-.59l7.78-7.78 2.81-2.81c.8-.78.8-2.07 0-2.86zM5.41 20L4 18.59l7.72-7.72 1.47 1.35L5.41 20z\"/>\n",
              "  </svg>\n",
              "      </button>\n",
              "      \n",
              "  <style>\n",
              "    .colab-df-container {\n",
              "      display:flex;\n",
              "      flex-wrap:wrap;\n",
              "      gap: 12px;\n",
              "    }\n",
              "\n",
              "    .colab-df-convert {\n",
              "      background-color: #E8F0FE;\n",
              "      border: none;\n",
              "      border-radius: 50%;\n",
              "      cursor: pointer;\n",
              "      display: none;\n",
              "      fill: #1967D2;\n",
              "      height: 32px;\n",
              "      padding: 0 0 0 0;\n",
              "      width: 32px;\n",
              "    }\n",
              "\n",
              "    .colab-df-convert:hover {\n",
              "      background-color: #E2EBFA;\n",
              "      box-shadow: 0px 1px 2px rgba(60, 64, 67, 0.3), 0px 1px 3px 1px rgba(60, 64, 67, 0.15);\n",
              "      fill: #174EA6;\n",
              "    }\n",
              "\n",
              "    [theme=dark] .colab-df-convert {\n",
              "      background-color: #3B4455;\n",
              "      fill: #D2E3FC;\n",
              "    }\n",
              "\n",
              "    [theme=dark] .colab-df-convert:hover {\n",
              "      background-color: #434B5C;\n",
              "      box-shadow: 0px 1px 3px 1px rgba(0, 0, 0, 0.15);\n",
              "      filter: drop-shadow(0px 1px 2px rgba(0, 0, 0, 0.3));\n",
              "      fill: #FFFFFF;\n",
              "    }\n",
              "  </style>\n",
              "\n",
              "      <script>\n",
              "        const buttonEl =\n",
              "          document.querySelector('#df-b04252ee-9889-4f2c-8cde-d1ec11024470 button.colab-df-convert');\n",
              "        buttonEl.style.display =\n",
              "          google.colab.kernel.accessAllowed ? 'block' : 'none';\n",
              "\n",
              "        async function convertToInteractive(key) {\n",
              "          const element = document.querySelector('#df-b04252ee-9889-4f2c-8cde-d1ec11024470');\n",
              "          const dataTable =\n",
              "            await google.colab.kernel.invokeFunction('convertToInteractive',\n",
              "                                                     [key], {});\n",
              "          if (!dataTable) return;\n",
              "\n",
              "          const docLinkHtml = 'Like what you see? Visit the ' +\n",
              "            '<a target=\"_blank\" href=https://colab.research.google.com/notebooks/data_table.ipynb>data table notebook</a>'\n",
              "            + ' to learn more about interactive tables.';\n",
              "          element.innerHTML = '';\n",
              "          dataTable['output_type'] = 'display_data';\n",
              "          await google.colab.output.renderOutput(dataTable, element);\n",
              "          const docLink = document.createElement('div');\n",
              "          docLink.innerHTML = docLinkHtml;\n",
              "          element.appendChild(docLink);\n",
              "        }\n",
              "      </script>\n",
              "    </div>\n",
              "  </div>\n",
              "  "
            ],
            "text/plain": [
              "   params_lstm params_optimizer  params_hidden     value\n",
              "0            1             Adam              8  0.113889\n",
              "1            1             Adam             16  0.074009\n",
              "2            1             Adam             32  0.078685\n",
              "3            1          RMSprop              8  0.029224\n",
              "4            1          RMSprop             16  0.030133"
            ]
          },
          "execution_count": 23,
          "metadata": {},
          "output_type": "execute_result"
        }
      ],
      "source": [
        "hyperparameter_tuning_20_seq = study.trials_dataframe()\n",
        "hyperparameter_tuning_20_seq = hyperparameter_tuning_20_seq[['params_lstm','params_optimizer','params_hidden','value']]\n",
        "hyperparameter_tuning_20_seq = hyperparameter_tuning_20_seq.sort_values(by=['params_lstm','params_optimizer','params_hidden']).reset_index()\n",
        "hyperparameter_tuning_20_seq.drop('index',axis=1,inplace=True)\n",
        "hyperparameter_tuning_20_seq.head()"
      ]
    },
    {
      "cell_type": "code",
      "execution_count": null,
      "metadata": {
        "id": "wCjSr64Q019k"
      },
      "outputs": [],
      "source": [
        "hyperparameter_tuning_20_seq.to_excel('Hyperparameter Tuning 20 Sequences.xlsx')\n",
        "hyperparameter_tuning_20_seq.to_csv('htune20.csv')"
      ]
    },
    {
      "cell_type": "markdown",
      "metadata": {
        "id": "4EtRZF0ZsODn"
      },
      "source": [
        "#Train Model Using Best Parameter"
      ]
    },
    {
      "cell_type": "code",
      "execution_count": null,
      "metadata": {
        "id": "6C6IVKnMHK0z"
      },
      "outputs": [],
      "source": [
        "model = BiLSTM(input_dim=1, hidden_dim=32, output_dim=1, num_layers=2)\n",
        "criterion = torch.nn.L1Loss(reduction='mean')\n",
        "optimiser = torch.optim.Adam(model.parameters(), lr=0.01)"
      ]
    },
    {
      "cell_type": "code",
      "execution_count": null,
      "metadata": {
        "colab": {
          "base_uri": "https://localhost:8080/"
        },
        "id": "_YUuTFLWrKTW",
        "outputId": "9526e1b8-f689-40d3-ead4-0e64928f92ac"
      },
      "outputs": [
        {
          "data": {
            "text/plain": [
              "torch.Size([4301, 1])"
            ]
          },
          "execution_count": 57,
          "metadata": {},
          "output_type": "execute_result"
        }
      ],
      "source": [
        "y_train.shape"
      ]
    },
    {
      "cell_type": "code",
      "execution_count": null,
      "metadata": {
        "id": "6xYK-780qzbc"
      },
      "outputs": [],
      "source": [
        "import time\n",
        "num_epochs = 100\n",
        "hist = np.zeros(num_epochs)\n",
        "start_time = time.time()\n",
        "y_test_pred1 = np.empty(shape=[0,1])\n",
        "y_test_pred2 = np.empty(shape=[0,1])\n",
        "y_test_pred3 = np.empty(shape=[0,1])\n",
        "y_test_pred4 = np.empty(shape=[0,1])\n",
        "y_test_pred5 = np.empty(shape=[0,1])\n",
        "y_test_pred6 = np.empty(shape=[0,1])\n",
        "y_test_pred7 = np.empty(shape=[0,1])\n",
        "y_test_pred8 = np.empty(shape=[0,1])\n",
        "y_test_pred9 = np.empty(shape=[0,1])\n",
        "y_test_pred10 = np.empty(shape=[0,1])\n",
        "\n",
        "for i in range(10):\n",
        "  print(\"Percobaan Ke\",i)\n",
        "  model = BiLSTM(input_dim=1, hidden_dim=32, output_dim=1, num_layers=2)\n",
        "  criterion = torch.nn.L1Loss(reduction='mean')\n",
        "  optimiser = torch.optim.Adam(model.parameters(), lr=0.01)\n",
        "  for t in range(num_epochs):\n",
        "      y_train_pred = model(x_train,x_train)\n",
        "      loss = criterion(y_train_pred, y_train)\n",
        "      if t%10==0 or t==99:\n",
        "        print(\"Epoch \", t, \"MAE: \", loss.item())\n",
        "      hist[t] = loss.item()\n",
        "      optimiser.zero_grad()\n",
        "      loss.backward()\n",
        "      optimiser.step()\n",
        "  if i==0:\n",
        "    y_test_pred1 = model(x_test,x_test)\n",
        "    y_test_pred1 = np.array(y_test_pred1.detach().numpy())\n",
        "  if i==1:\n",
        "    y_test_pred2 = model(x_test,x_test)\n",
        "    y_test_pred2 = np.array(y_test_pred2.detach().numpy())\n",
        "  if i==2:\n",
        "    y_test_pred3=(model(x_test,x_test))\n",
        "    y_test_pred3 = np.array(y_test_pred3.detach().numpy())\n",
        "  if i==3:\n",
        "    y_test_pred4=(model(x_test,x_test))\n",
        "    y_test_pred4 = np.array(y_test_pred4.detach().numpy())\n",
        "  if i==4:\n",
        "    y_test_pred5=(model(x_test,x_test))\n",
        "    y_test_pred5 = np.array(y_test_pred5.detach().numpy())\n",
        "  if i==5:\n",
        "    y_test_pred6=model(x_test,x_test)\n",
        "    y_test_pred6 = np.array(y_test_pred6.detach().numpy())\n",
        "  if i==6:\n",
        "    y_test_pred7=(model(x_test,x_test))\n",
        "    y_test_pred7 = np.array(y_test_pred7.detach().numpy())\n",
        "  if i==7:\n",
        "    y_test_pred8=(model(x_test,x_test))\n",
        "    y_test_pred8 = np.array(y_test_pred8.detach().numpy())\n",
        "  if i==8:\n",
        "    y_test_pred9=(model(x_test,x_test))\n",
        "    y_test_pred9 = np.array(y_test_pred9.detach().numpy())   \n",
        "  if i==9:\n",
        "    y_test_pred10=(model(x_test,x_test))\n",
        "    y_test_pred10 = np.array(y_test_pred10.detach().numpy())   \n",
        "training_time = time.time()-start_time\n",
        "print(\"Training time: {}\".format(training_time))"
      ]
    },
    {
      "cell_type": "code",
      "execution_count": null,
      "metadata": {
        "id": "N0zUkcmNn224"
      },
      "outputs": [],
      "source": [
        "y_test_pred1 = scaler.inverse_transform(y_test_pred1)\n",
        "y_test_pred2 = scaler.inverse_transform(y_test_pred2)\n",
        "y_test_pred3 = scaler.inverse_transform(y_test_pred3)\n",
        "y_test_pred4 = scaler.inverse_transform(y_test_pred4)\n",
        "y_test_pred5 = scaler.inverse_transform(y_test_pred5)\n",
        "y_test_pred6 = scaler.inverse_transform(y_test_pred6)\n",
        "y_test_pred7 = scaler.inverse_transform(y_test_pred7)\n",
        "y_test_pred8 = scaler.inverse_transform(y_test_pred8)\n",
        "y_test_pred9 = scaler.inverse_transform(y_test_pred9)\n",
        "y_test_pred10 = scaler.inverse_transform(y_test_pred10)"
      ]
    },
    {
      "cell_type": "code",
      "execution_count": null,
      "metadata": {
        "id": "0z3aXhyXsdRF"
      },
      "outputs": [],
      "source": [
        "percobaan = pd.DataFrame({'Pred 1':y_test_pred1[:,0],\n",
        "                          'Pred 2':y_test_pred2[:,0],\n",
        "                          'Pred 3':y_test_pred3[:,0],\n",
        "                          'Pred 4':y_test_pred4[:,0],\n",
        "                          'Pred 5':y_test_pred5[:,0],\n",
        "                          'Pred 6':y_test_pred6[:,0],\n",
        "                          'Pred 7':y_test_pred7[:,0],\n",
        "                          'Pred 8':y_test_pred8[:,0],\n",
        "                          'Pred 9':y_test_pred9[:,0],\n",
        "                          'Pred 10':y_test_pred10[:,0]})\n",
        "percobaan['Mean'] = percobaan[['Pred 1', 'Pred 2', 'Pred 3','Pred 4','Pred 5','Pred 6','Pred 7','Pred 8','Pred 9','Pred 10']].astype(float).sum(1)/10"
      ]
    },
    {
      "cell_type": "code",
      "execution_count": null,
      "metadata": {
        "id": "y4hDXQBksg7m"
      },
      "outputs": [],
      "source": [
        "df = data.copy()\n",
        "df = df.set_index('Date')\n",
        "df = df[-30:]\n",
        "df = df[['Close']]\n",
        "df.rename(columns = {'Close':'Actual'}, inplace = True)\n",
        "df['Mean Prediction'] = percobaan.Mean.values"
      ]
    },
    {
      "cell_type": "code",
      "execution_count": null,
      "metadata": {
        "colab": {
          "base_uri": "https://localhost:8080/"
        },
        "id": "4RUS2ccPyiUK",
        "outputId": "35e45333-ed00-47be-a977-b302ec3f9b6c"
      },
      "outputs": [
        {
          "data": {
            "text/plain": [
              "201.19742675781256"
            ]
          },
          "execution_count": 14,
          "metadata": {},
          "output_type": "execute_result"
        }
      ],
      "source": [
        "mean_absolute_error(df.Actual,df['Mean Prediction'])"
      ]
    },
    {
      "cell_type": "code",
      "execution_count": null,
      "metadata": {
        "colab": {
          "base_uri": "https://localhost:8080/",
          "height": 505
        },
        "id": "dSOHQBK3syNz",
        "outputId": "60295e66-de37-4926-a6fe-43ee3f159886"
      },
      "outputs": [
        {
          "data": {
            "image/png": "[encoded data removed]",
            "text/plain": [
              "<Figure size 720x576 with 1 Axes>"
            ]
          },
          "metadata": {},
          "output_type": "display_data"
        }
      ],
      "source": [
        "X1 = df['Mean Prediction']\n",
        "mu = X1.mean()\n",
        "sigma = X1.std()\n",
        "\n",
        "timestep = df.index\n",
        "\n",
        "X1_plus_sigma = X1 + sigma\n",
        "X1_minus_sigma = X1 - sigma\n",
        "\n",
        "plt.figure(figsize=(10,8))\n",
        "plt.title(\"Perbandingan Nilai Prediksi Terhadap Harga Asli Saham ISAT\", fontdict={\"fontsize\":21})\n",
        "plt.plot(timestep, X1, color = 'blue',label='Mean Prediction')\n",
        "plt.plot(timestep,df.Actual,color='red',label='Actual')\n",
        "plt.fill_between(timestep, X1_plus_sigma, X1_minus_sigma, alpha = 0.2, color = 'blue',label='Prediction Range')\n",
        "ax = plt.gca()\n",
        "plt.legend()\n",
        "plt.show()"
      ]
    },
    {
      "cell_type": "markdown",
      "metadata": {
        "id": "WORKC-MrKcV-"
      },
      "source": [
        "#Train"
      ]
    },
    {
      "cell_type": "code",
      "execution_count": null,
      "metadata": {
        "id": "vmV_QdANKxsV"
      },
      "outputs": [],
      "source": [
        "model = BiLSTM(input_dim=1, hidden_dim=32, output_dim=1, num_layers=2)\n",
        "criterion = torch.nn.L1Loss(reduction='mean')\n",
        "optimiser = torch.optim.Adam(model.parameters(), lr=0.01)"
      ]
    },
    {
      "cell_type": "code",
      "execution_count": null,
      "metadata": {
        "colab": {
          "base_uri": "https://localhost:8080/"
        },
        "id": "4rO62HI4KiUf",
        "outputId": "f8fa8c2f-cd6f-4cd1-b7c4-b496e76e20c8"
      },
      "outputs": [
        {
          "name": "stdout",
          "output_type": "stream",
          "text": [
            "Percobaan Ke 1\n",
            "Epoch  0 MAE:  0.3882347643375397\n",
            "Epoch  10 MAE:  0.13074132800102234\n",
            "Epoch  20 MAE:  0.11780823767185211\n",
            "Epoch  30 MAE:  0.09088985621929169\n",
            "Epoch  40 MAE:  0.055465128272771835\n",
            "Epoch  50 MAE:  0.03427988663315773\n",
            "Epoch  60 MAE:  0.01812855526804924\n",
            "Epoch  70 MAE:  0.016003891825675964\n",
            "Epoch  80 MAE:  0.01255588699132204\n",
            "Epoch  90 MAE:  0.013780906796455383\n",
            "Epoch  99 MAE:  0.012041880749166012\n",
            "Percobaan Ke 2\n",
            "Epoch  0 MAE:  0.41504526138305664\n",
            "Epoch  10 MAE:  0.13584710657596588\n",
            "Epoch  20 MAE:  0.11347976326942444\n",
            "Epoch  30 MAE:  0.10975900292396545\n",
            "Epoch  40 MAE:  0.034597694873809814\n",
            "Epoch  50 MAE:  0.016588225960731506\n",
            "Epoch  60 MAE:  0.015072789043188095\n",
            "Epoch  70 MAE:  0.01400184165686369\n",
            "Epoch  80 MAE:  0.012698757462203503\n",
            "Epoch  90 MAE:  0.011747468262910843\n",
            "Epoch  99 MAE:  0.011554526165127754\n",
            "Percobaan Ke 3\n",
            "Epoch  0 MAE:  0.4449847340583801\n",
            "Epoch  10 MAE:  0.11898479610681534\n",
            "Epoch  20 MAE:  0.10125541687011719\n",
            "Epoch  30 MAE:  0.019675904884934425\n",
            "Epoch  40 MAE:  0.022751403972506523\n",
            "Epoch  50 MAE:  0.018465643748641014\n",
            "Epoch  60 MAE:  0.016970135271549225\n",
            "Epoch  70 MAE:  0.013554291799664497\n",
            "Epoch  80 MAE:  0.013175781816244125\n",
            "Epoch  90 MAE:  0.011609814129769802\n",
            "Epoch  99 MAE:  0.011375097557902336\n",
            "Percobaan Ke 4\n",
            "Epoch  0 MAE:  0.332073837518692\n",
            "Epoch  10 MAE:  0.12053550779819489\n",
            "Epoch  20 MAE:  0.03319748118519783\n",
            "Epoch  30 MAE:  0.032726652920246124\n",
            "Epoch  40 MAE:  0.022163910791277885\n",
            "Epoch  50 MAE:  0.02161569707095623\n",
            "Epoch  60 MAE:  0.015880541875958443\n",
            "Epoch  70 MAE:  0.012926675379276276\n",
            "Epoch  80 MAE:  0.01719778962433338\n",
            "Epoch  90 MAE:  0.012579993344843388\n",
            "Epoch  99 MAE:  0.013304010033607483\n",
            "Percobaan Ke 5\n",
            "Epoch  0 MAE:  0.5030007362365723\n",
            "Epoch  10 MAE:  0.16722753643989563\n",
            "Epoch  20 MAE:  0.12171684205532074\n",
            "Epoch  30 MAE:  0.1173011064529419\n",
            "Epoch  40 MAE:  0.07776770740747452\n",
            "Epoch  50 MAE:  0.031062671914696693\n",
            "Epoch  60 MAE:  0.03015868552029133\n",
            "Epoch  70 MAE:  0.017805855721235275\n",
            "Epoch  80 MAE:  0.023841524496674538\n",
            "Epoch  90 MAE:  0.01817140355706215\n",
            "Epoch  99 MAE:  0.017660988494753838\n",
            "Percobaan Ke 6\n",
            "Epoch  0 MAE:  0.3319116234779358\n",
            "Epoch  10 MAE:  0.11425797641277313\n",
            "Epoch  20 MAE:  0.07601340860128403\n",
            "Epoch  30 MAE:  0.03904758393764496\n",
            "Epoch  40 MAE:  0.027096835896372795\n",
            "Epoch  50 MAE:  0.02203318104147911\n",
            "Epoch  60 MAE:  0.017719974741339684\n",
            "Epoch  70 MAE:  0.01478921715170145\n",
            "Epoch  80 MAE:  0.013340873643755913\n",
            "Epoch  90 MAE:  0.011899618431925774\n",
            "Epoch  99 MAE:  0.01303880661725998\n",
            "Percobaan Ke 7\n",
            "Epoch  0 MAE:  0.5108643770217896\n",
            "Epoch  10 MAE:  0.14823782444000244\n",
            "Epoch  20 MAE:  0.12266753613948822\n",
            "Epoch  30 MAE:  0.09648189693689346\n",
            "Epoch  40 MAE:  0.038151681423187256\n",
            "Epoch  50 MAE:  0.020494883880019188\n",
            "Epoch  60 MAE:  0.023992789909243584\n",
            "Epoch  70 MAE:  0.0193202905356884\n",
            "Epoch  80 MAE:  0.013236571103334427\n",
            "Epoch  90 MAE:  0.014320534653961658\n",
            "Epoch  99 MAE:  0.011739043518900871\n",
            "Percobaan Ke 8\n",
            "Epoch  0 MAE:  0.3580262362957001\n",
            "Epoch  10 MAE:  0.14274875819683075\n",
            "Epoch  20 MAE:  0.11569920182228088\n",
            "Epoch  30 MAE:  0.0650002583861351\n",
            "Epoch  40 MAE:  0.0423666276037693\n",
            "Epoch  50 MAE:  0.025365950539708138\n",
            "Epoch  60 MAE:  0.019694097340106964\n",
            "Epoch  70 MAE:  0.01695089600980282\n",
            "Epoch  80 MAE:  0.017381450161337852\n",
            "Epoch  90 MAE:  0.012348880991339684\n",
            "Epoch  99 MAE:  0.012369237840175629\n",
            "Percobaan Ke 9\n",
            "Epoch  0 MAE:  0.3580395579338074\n",
            "Epoch  10 MAE:  0.13680344820022583\n",
            "Epoch  20 MAE:  0.11611266434192657\n",
            "Epoch  30 MAE:  0.07315334677696228\n",
            "Epoch  40 MAE:  0.03741277754306793\n",
            "Epoch  50 MAE:  0.017919793725013733\n",
            "Epoch  60 MAE:  0.02230753004550934\n",
            "Epoch  70 MAE:  0.01259913295507431\n",
            "Epoch  80 MAE:  0.012143758125603199\n",
            "Epoch  90 MAE:  0.012879292480647564\n",
            "Epoch  99 MAE:  0.011260423809289932\n",
            "Percobaan Ke 10\n",
            "Epoch  0 MAE:  0.46662449836730957\n",
            "Epoch  10 MAE:  0.12425127625465393\n",
            "Epoch  20 MAE:  0.11204345524311066\n",
            "Epoch  30 MAE:  0.0772518515586853\n",
            "Epoch  40 MAE:  0.023288946598768234\n",
            "Epoch  50 MAE:  0.017709286883473396\n",
            "Epoch  60 MAE:  0.016125507652759552\n",
            "Epoch  70 MAE:  0.014881186187267303\n",
            "Epoch  80 MAE:  0.013185041956603527\n",
            "Epoch  90 MAE:  0.014923200011253357\n",
            "Epoch  99 MAE:  0.0132394814863801\n"
          ]
        }
      ],
      "source": [
        "num_epochs = 100\n",
        "hist = np.zeros(num_epochs)\n",
        "for i in range(10):\n",
        "  print(\"Percobaan Ke\",i+1)\n",
        "  model = BiLSTM(input_dim=1, hidden_dim=32, output_dim=1, num_layers=2)\n",
        "  criterion = torch.nn.L1Loss(reduction='mean')\n",
        "  optimiser = torch.optim.Adam(model.parameters(), lr=0.01)\n",
        "  for t in range(num_epochs):\n",
        "    y_train_pred = model(x_train)\n",
        "    loss = criterion(y_train_pred, y_train)\n",
        "    if t%10==0 or t==99:\n",
        "      print(\"Epoch \", t, \"MAE: \", loss.item())\n",
        "    hist[t] = loss.item()\n",
        "    optimiser.zero_grad()\n",
        "    loss.backward()\n",
        "    optimiser.step()\n",
        "  train_denormalized = scaler.inverse_transform(y_train_pred.detach().numpy())  \n",
        "  if i == 0:\n",
        "    train1 = pd.DataFrame({'Train 1':train_denormalized[-20:,0]})\n",
        "  elif i == 1:\n",
        "    train2 = pd.DataFrame({'Train 2':train_denormalized[-20:,0]})\n",
        "  elif i == 2:\n",
        "    train3 = pd.DataFrame({'Train 3':train_denormalized[-20:,0]})\n",
        "  elif i == 3:\n",
        "    train4 = pd.DataFrame({'Train 4':train_denormalized[-20:,0]})\n",
        "  elif i == 4:\n",
        "    train5 = pd.DataFrame({'Train 5':train_denormalized[-20:,0]})\n",
        "  elif i == 5:\n",
        "    train6 = pd.DataFrame({'Train 6':train_denormalized[-20:,0]})\n",
        "  elif i == 6:\n",
        "    train7 = pd.DataFrame({'Train 7':train_denormalized[-20:,0]})\n",
        "  elif i == 7:\n",
        "    train8 = pd.DataFrame({'Train 8':train_denormalized[-20:,0]})\n",
        "  elif i == 8:\n",
        "    train9 = pd.DataFrame({'Train 9':train_denormalized[-20:,0]})\n",
        "  elif i == 9:\n",
        "    train10 = pd.DataFrame({'Train 10':train_denormalized[-20:,0]})"
      ]
    },
    {
      "cell_type": "markdown",
      "metadata": {
        "id": "OpzOOvduuYtX"
      },
      "source": [
        "#Save Train To DF"
      ]
    },
    {
      "cell_type": "code",
      "execution_count": null,
      "metadata": {
        "id": "asUehiTYvWg_"
      },
      "outputs": [],
      "source": [
        "dfTrainList = [train1,train2,train3,train4,train5,train6,train7,train8,train9,train10]\n",
        "dfTrain = pd.concat(dfTrainList, join='outer', axis=1)\n",
        "dfTrain['Mean'] = dfTrain[['Train 1', 'Train 2', 'Train 3','Train 4','Train 5','Train 6','Train 7','Train 8','Train 9','Train 10']].astype(float).sum(1)/10\n",
        "dfTrain.to_excel('Mean.xlsx')"
      ]
    },
    {
      "cell_type": "markdown",
      "metadata": {
        "id": "jQDT2TWPsSUi"
      },
      "source": [
        "#Predict Test Data"
      ]
    },
    {
      "cell_type": "code",
      "execution_count": null,
      "metadata": {
        "id": "s3yYmqOGqkei"
      },
      "outputs": [],
      "source": [
        "future = 5\n",
        "lookback = 20\n",
        "model.eval()\n",
        "x_train = torch.FloatTensor(x_train).view(-1)\n",
        "test_inputs = list(x_train[-lookback:])\n",
        "for i in range(future):\n",
        "  test_seq = [[[a] for a in test_inputs[-lookback:]]]\n",
        "  test_seq = torch.FloatTensor(test_seq)\n",
        "  with torch.no_grad():\n",
        "    test_inputs.append(model(test_seq).item())\n",
        "# y_test_pred = model(x_test,x_test)"
      ]
    },
    {
      "cell_type": "code",
      "execution_count": null,
      "metadata": {
        "id": "GQtA2HgINeVb"
      },
      "outputs": [],
      "source": [
        "test_actual = y_test[:future]\n",
        "test_actual = scaler.inverse_transform(np.array(test_actual).reshape(-1, 1)).flatten()\n",
        "test_pred = scaler.inverse_transform(np.array(test_inputs).reshape(-1, 1)).flatten()\n",
        "test_pred = test_pred[-future:]"
      ]
    },
    {
      "cell_type": "code",
      "execution_count": null,
      "metadata": {
        "id": "jvW4BD8uo1vD"
      },
      "outputs": [],
      "source": [
        "tes_denormalized = scaler.inverse_transform(np.array(test_inputs).reshape(-1, 1)).flatten()"
      ]
    },
    {
      "cell_type": "code",
      "execution_count": null,
      "metadata": {
        "colab": {
          "base_uri": "https://localhost:8080/"
        },
        "id": "7F8DMVn7NMW8",
        "outputId": "5116feb1-d2ca-4dc5-d383-5e31b93905a0"
      },
      "outputs": [
        {
          "data": {
            "text/plain": [
              "216.80784363746625"
            ]
          },
          "execution_count": 177,
          "metadata": {},
          "output_type": "execute_result"
        }
      ],
      "source": [
        "mean_absolute_error(test_actual,test_pred)"
      ]
    },
    {
      "cell_type": "markdown",
      "metadata": {
        "id": "ROXnxrJS5kd-"
      },
      "source": [
        "#Save Test To DF"
      ]
    },
    {
      "cell_type": "code",
      "execution_count": null,
      "metadata": {
        "id": "eFiJnZtRowLI"
      },
      "outputs": [],
      "source": [
        "test1 = pd.DataFrame({'Tes 1':tes_denormalized})"
      ]
    },
    {
      "cell_type": "code",
      "execution_count": null,
      "metadata": {
        "id": "F632lzpJq1kC"
      },
      "outputs": [],
      "source": [
        "test2 = pd.DataFrame({'Tes 2':tes_denormalized})"
      ]
    },
    {
      "cell_type": "code",
      "execution_count": null,
      "metadata": {
        "id": "1rbr1w-KrnGZ"
      },
      "outputs": [],
      "source": [
        "test3 = pd.DataFrame({'Tes 3':tes_denormalized})"
      ]
    },
    {
      "cell_type": "code",
      "execution_count": null,
      "metadata": {
        "id": "I-hu6N42t24X"
      },
      "outputs": [],
      "source": [
        "test4 = pd.DataFrame({'Tes 4':tes_denormalized})"
      ]
    },
    {
      "cell_type": "code",
      "execution_count": null,
      "metadata": {
        "id": "CW2dxCMzvIuu"
      },
      "outputs": [],
      "source": [
        "test5 = pd.DataFrame({'Tes 5':tes_denormalized})"
      ]
    },
    {
      "cell_type": "code",
      "execution_count": null,
      "metadata": {
        "id": "tjHsvU7Pwdr7"
      },
      "outputs": [],
      "source": [
        "test6 = pd.DataFrame({'Tes 6':tes_denormalized})"
      ]
    },
    {
      "cell_type": "code",
      "execution_count": null,
      "metadata": {
        "id": "nIYHc-vmz4Ek"
      },
      "outputs": [],
      "source": [
        "test7 = pd.DataFrame({'Tes 7':tes_denormalized})"
      ]
    },
    {
      "cell_type": "code",
      "execution_count": null,
      "metadata": {
        "id": "YGnbYyEa2E74"
      },
      "outputs": [],
      "source": [
        "test8 = pd.DataFrame({'Tes 8':tes_denormalized})"
      ]
    },
    {
      "cell_type": "code",
      "execution_count": null,
      "metadata": {
        "id": "kyO7kALo28hx"
      },
      "outputs": [],
      "source": [
        "test9 = pd.DataFrame({'Tes 9':tes_denormalized})"
      ]
    },
    {
      "cell_type": "code",
      "execution_count": null,
      "metadata": {
        "id": "yvjvaWJn3F5H"
      },
      "outputs": [],
      "source": [
        "test10 = pd.DataFrame({'Tes 10':tes_denormalized})"
      ]
    },
    {
      "cell_type": "code",
      "execution_count": null,
      "metadata": {
        "id": "Q6GIz7NF3z3h"
      },
      "outputs": [],
      "source": [
        "dfTestList = [test1,test2,test3,test4,test5,test6,test7,test8,test9,test10]\n",
        "dfTest = pd.concat(dfTestList, join='outer', axis=1)"
      ]
    },
    {
      "cell_type": "code",
      "execution_count": null,
      "metadata": {
        "id": "pHn_agg34nQ0"
      },
      "outputs": [],
      "source": [
        "dfTest['Mean'] = dfTest[['Tes 1', 'Tes 2', 'Tes 3','Tes 4','Tes 5','Tes 6','Tes 7','Tes 8','Tes 9','Tes 10']].astype(float).sum(1)/10"
      ]
    },
    {
      "cell_type": "code",
      "execution_count": null,
      "metadata": {
        "id": "QWMQkvBv5BW6"
      },
      "outputs": [],
      "source": [
        "dfTest.to_excel('Mean.xlsx')"
      ]
    },
    {
      "cell_type": "code",
      "execution_count": null,
      "metadata": {
        "id": "3zkT0L8krd6g"
      },
      "outputs": [],
      "source": [
        "mean_absolute_error(y_test.detach().numpy(),y_test_pred.detach().numpy())"
      ]
    },
    {
      "cell_type": "code",
      "execution_count": null,
      "metadata": {
        "id": "1yKAbA_-sTbP"
      },
      "outputs": [],
      "source": [
        "y_test_invert = y_test.clone()\n",
        "y_test_invert = scaler.inverse_transform(y_test_invert.detach().numpy())\n",
        "y_test_pred_invert = y_test_pred.clone()\n",
        "y_test_pred_invert = scaler.inverse_transform(y_test_pred_invert.detach().numpy())"
      ]
    },
    {
      "cell_type": "code",
      "execution_count": null,
      "metadata": {
        "id": "BomtMC4JsXL0"
      },
      "outputs": [],
      "source": [
        "predicted = pd.DataFrame({'Predicted': y_test_pred_invert[:, 0]})\n",
        "df = data.copy()\n",
        "df = df.set_index('Date')\n",
        "df = df[-30:]\n",
        "df = df[['Close']]\n",
        "df.rename(columns = {'Close':'Actual'}, inplace = True)\n",
        "df['BiLSTM'] = predicted.values"
      ]
    },
    {
      "cell_type": "code",
      "execution_count": null,
      "metadata": {
        "colab": {
          "base_uri": "https://localhost:8080/",
          "height": 597
        },
        "id": "2KQgq6T1sp_e",
        "outputId": "0ed45963-90e9-459c-928c-dc7ef7f37a0c"
      },
      "outputs": [
        {
          "data": {
            "text/plain": [
              "<matplotlib.axes._subplots.AxesSubplot at 0x7f0a17918d90>"
            ]
          },
          "execution_count": 76,
          "metadata": {},
          "output_type": "execute_result"
        },
        {
          "data": {
            "image/png": "[encoded data removed]",
            "text/plain": [
              "<Figure size 720x720 with 1 Axes>"
            ]
          },
          "metadata": {},
          "output_type": "display_data"
        }
      ],
      "source": [
        "df.plot(y=[\"Actual\",\"BiLSTM\"],\n",
        "        kind=\"line\", figsize=(10, 10),use_index=True)"
      ]
    },
    {
      "cell_type": "code",
      "execution_count": null,
      "metadata": {
        "colab": {
          "base_uri": "https://localhost:8080/"
        },
        "id": "ypyJbCi1u57L",
        "outputId": "88ce643f-ae57-4653-e9e4-27e58dea70b1"
      },
      "outputs": [
        {
          "data": {
            "text/plain": [
              "150.49352"
            ]
          },
          "execution_count": 74,
          "metadata": {},
          "output_type": "execute_result"
        }
      ],
      "source": [
        "mean_absolute_error(y_test_invert,y_test_pred_invert)"
      ]
    },
    {
      "cell_type": "code",
      "execution_count": null,
      "metadata": {
        "id": "7e85cp9ivHbR"
      },
      "outputs": [],
      "source": [
        "df = pd.read_excel('/content/Pengujian Model RNN, LSTM, BiLSTM.xlsx')"
      ]
    },
    {
      "cell_type": "code",
      "execution_count": null,
      "metadata": {
        "colab": {
          "base_uri": "https://localhost:8080/"
        },
        "id": "rhSPBqkAvLpM",
        "outputId": "194e73ab-eefe-4662-eb4b-bec927d0a553"
      },
      "outputs": [
        {
          "data": {
            "text/plain": [
              "188.071923828125"
            ]
          },
          "execution_count": 48,
          "metadata": {},
          "output_type": "execute_result"
        }
      ],
      "source": [
        "mean_absolute_error(df['Actual'],df['BiLSTM'])"
      ]
    },
    {
      "cell_type": "markdown",
      "metadata": {
        "id": "Gva2DpIU5Icq"
      },
      "source": [
        "#MAE"
      ]
    },
    {
      "cell_type": "code",
      "execution_count": null,
      "metadata": {
        "id": "pd3patqz5K1T"
      },
      "outputs": [],
      "source": [
        "dfTesting = pd.read_excel('Mean Testing.xlsx')"
      ]
    },
    {
      "cell_type": "code",
      "execution_count": null,
      "metadata": {
        "colab": {
          "base_uri": "https://localhost:8080/"
        },
        "id": "uMf1d6oW5n4y",
        "outputId": "13ea915b-1877-453c-dc8f-060320ddf1e5"
      },
      "outputs": [
        {
          "data": {
            "text/plain": [
              "4322    6500.0\n",
              "4323    6275.0\n",
              "4324    5975.0\n",
              "4325    6100.0\n",
              "4326    6525.0\n",
              "Name: Close, dtype: float64"
            ]
          },
          "execution_count": 21,
          "metadata": {},
          "output_type": "execute_result"
        }
      ],
      "source": [
        "actual = data.Close[-30:-25]\n",
        "actual"
      ]
    },
    {
      "cell_type": "code",
      "execution_count": null,
      "metadata": {
        "colab": {
          "base_uri": "https://localhost:8080/"
        },
        "id": "EuWjA9VR5XpL",
        "outputId": "db0e97bf-5d84-4438-e0f6-ecb1bb915e54"
      },
      "outputs": [
        {
          "data": {
            "text/plain": [
              "254.6462327241894"
            ]
          },
          "execution_count": 49,
          "metadata": {},
          "output_type": "execute_result"
        }
      ],
      "source": [
        "mean_absolute_error(data.Close[-30:-25],dfTesting.Mean[-5:])"
      ]
    },
    {
      "cell_type": "markdown",
      "metadata": {
        "id": "3jVxItYf6RiD"
      },
      "source": [
        "#Plotting\n"
      ]
    },
    {
      "cell_type": "code",
      "execution_count": null,
      "metadata": {
        "id": "IKas5uAw6TJH"
      },
      "outputs": [],
      "source": [
        "priceActual = data.copy()\n",
        "priceActual = priceActual.set_index('Date')\n",
        "priceActual = priceActual[ :'2021-09-24']\n",
        "priceActual = priceActual['Close'][-50:-25]\n",
        "predicted = dfTrain['Mean']\n",
        "predicted = predicted.append(dfTesting.Mean[-5:])\n",
        "df = pd.DataFrame({'Date':priceActual.index,\n",
        "                   'Actual':priceActual.values,\n",
        "                   'Predicted':predicted.values})\n",
        "df = df.set_index('Date')\n",
        "# df = df.shift(2)\n",
        "# df.fillna(0,inplace=True)\n",
        "df"
      ]
    },
    {
      "cell_type": "code",
      "execution_count": null,
      "metadata": {
        "colab": {
          "base_uri": "https://localhost:8080/",
          "height": 505
        },
        "id": "aCAt0Xq--w2n",
        "outputId": "eabb326c-0a79-41d5-f493-c45065c9d75c"
      },
      "outputs": [
        {
          "data": {
            "image/png": "[encoded data removed]",
            "text/plain": [
              "<Figure size 1080x576 with 1 Axes>"
            ]
          },
          "metadata": {},
          "output_type": "display_data"
        }
      ],
      "source": [
        "X1 = df['Predicted']\n",
        "mu = X1.mean()\n",
        "sigma = X1.std()\n",
        "\n",
        "timestep = df.index\n",
        "\n",
        "X1_plus_sigma = X1 + sigma\n",
        "X1_minus_sigma = X1 - sigma\n",
        "\n",
        "plt.figure(figsize=(15,8))\n",
        "plt.title(\"Perbandingan Nilai Prediksi Terhadap Harga Asli\", fontdict={\"fontsize\":21})\n",
        "plt.plot(timestep, X1, color = 'blue',label='Mean Prediction')\n",
        "plt.plot(timestep[:21],df.Actual[:21],color='red',label='Actual')\n",
        "plt.plot(timestep[20:],df.Actual[20:],color='green',label='Next 5 day actual',linestyle='--')\n",
        "plt.axvline(timestep[0],color='black',label='Start of input sequences', linestyle='dotted')\n",
        "plt.axvline(timestep[20],color='black',label='End of input sequences', linestyle='dotted')\n",
        "plt.annotate('Start of input sequences', xy = (timestep[0],6400), \n",
        "             fontsize = 14, xytext = (timestep[2], 6400), \n",
        "             arrowprops = dict(facecolor = 'red',arrowstyle='->'),\n",
        "             color = 'g')\n",
        "plt.annotate('End of input sequences', xy = (timestep[20],5800), \n",
        "             fontsize = 14, xytext = (timestep[13], 5800), \n",
        "             arrowprops = dict(facecolor = 'red',arrowstyle='->'),\n",
        "             color = 'g')\n",
        "plt.fill_between(timestep, X1_plus_sigma, X1_minus_sigma, alpha = 0.2, color = 'blue',label='Prediction Range')\n",
        "plt.legend()\n",
        "plt.show()"
      ]
    }
  ],
  "metadata": {
    "colab": {
      "collapsed_sections": [
        "ZoOsePFtsB4L",
        "4EtRZF0ZsODn"
      ],
      "provenance": []
    },
    "kernelspec": {
      "display_name": "Python 3",
      "name": "python3"
    },
    "language_info": {
      "name": "python"
    }
  },
  "nbformat": 4,
  "nbformat_minor": 0
}