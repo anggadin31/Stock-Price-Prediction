{
  "nbformat": 4,
  "nbformat_minor": 0,
  "metadata": {
    "colab": {
      "provenance": []
    },
    "kernelspec": {
      "name": "python3",
      "display_name": "Python 3"
    },
    "language_info": {
      "name": "python"
    }
  },
  "cells": [
    {
      "cell_type": "code",
      "metadata": {
        "id": "tK6gj-ynpzIs"
      },
      "source": [
        "# !pip install optuna\n",
        "# import optuna\n",
        "from sklearn.preprocessing import MinMaxScaler\n",
        "import pandas as pd\n",
        "import torch\n",
        "import torch.nn as nn\n",
        "import numpy as np\n",
        "from sklearn.metrics import mean_absolute_error\n",
        "import math\n",
        "import seaborn as sns\n",
        "import matplotlib.pyplot as plt\n",
        "from torch.autograd import Variable\n",
        "from torch.nn.parameter import Parameter\n",
        "import torch.nn.functional as F\n",
        "import torch.utils.data as utils\n",
        "import time\n",
        "import torch.optim as optim"
      ],
      "execution_count": null,
      "outputs": []
    },
    {
      "cell_type": "code",
      "metadata": {
        "id": "7v8E6ifLqI41"
      },
      "source": [
        "data = pd.read_csv(\"ISAT.csv\",parse_dates=['Date'])\n",
        "data = data.set_index('Date')\n",
        "data = data[ :'2021-09-24']\n",
        "data = data.dropna().reset_index()\n",
        "data = data.set_index('Date')\n",
        "# data = data[:22]"
      ],
      "execution_count": null,
      "outputs": []
    },
    {
      "cell_type": "code",
      "metadata": {
        "id": "I9kjxGYVqAq1",
        "colab": {
          "base_uri": "https://localhost:8080/"
        },
        "outputId": "6fcaf78e-526f-4543-9640-2d78acbaa01b"
      },
      "source": [
        "price = data[['Close']]\n",
        "scaler = MinMaxScaler(feature_range=(0, 1))\n",
        "price['Close'] = scaler.fit_transform(price['Close'].values.reshape(-1,1))"
      ],
      "execution_count": null,
      "outputs": [
        {
          "output_type": "stream",
          "name": "stderr",
          "text": [
            "/usr/local/lib/python3.7/dist-packages/ipykernel_launcher.py:3: SettingWithCopyWarning: \n",
            "A value is trying to be set on a copy of a slice from a DataFrame.\n",
            "Try using .loc[row_indexer,col_indexer] = value instead\n",
            "\n",
            "See the caveats in the documentation: https://pandas.pydata.org/pandas-docs/stable/user_guide/indexing.html#returning-a-view-versus-a-copy\n",
            "  This is separate from the ipykernel package so we can avoid doing imports until\n"
          ]
        }
      ]
    },
    {
      "cell_type": "markdown",
      "source": [
        "#Create Sequence Data"
      ],
      "metadata": {
        "id": "8rivq9BcsfkW"
      }
    },
    {
      "cell_type": "code",
      "metadata": {
        "id": "kT_P5GKDqVB-"
      },
      "source": [
        "def split_data(stock, lookback):\n",
        "    data_raw = stock.to_numpy() # convert to numpy array\n",
        "    data = []\n",
        "    \n",
        "    # create all possible sequences of length seq_len\n",
        "    for index in range(len(data_raw) - lookback): \n",
        "        data.append(data_raw[index: index + lookback])\n",
        "\n",
        "    data = np.array(data);\n",
        "    test_set_size = int(30);\n",
        "    train_set_size = data.shape[0] - (test_set_size);\n",
        "    \n",
        "    x_train = data[:train_set_size,:-1,:]\n",
        "    y_train = data[:train_set_size,-1,:]\n",
        "    \n",
        "    x_test = data[train_set_size:,:-1]\n",
        "    y_test = data[train_set_size:,-1,:]\n",
        "    \n",
        "    return [x_train, y_train, x_test, y_test]"
      ],
      "execution_count": null,
      "outputs": []
    },
    {
      "cell_type": "code",
      "metadata": {
        "id": "Sa8T93EKqYNN"
      },
      "source": [
        "lookback = 21 # choose sequence length\n",
        "x_train, y_train, x_test, y_test = split_data(price, lookback)"
      ],
      "execution_count": null,
      "outputs": []
    },
    {
      "cell_type": "code",
      "metadata": {
        "id": "m17ecrTdqbFF"
      },
      "source": [
        "x_train = torch.from_numpy(x_train).type(torch.Tensor)\n",
        "x_test = torch.from_numpy(x_test).type(torch.Tensor)\n",
        "y_train = torch.from_numpy(y_train).type(torch.Tensor)\n",
        "y_test = torch.from_numpy(y_test).type(torch.Tensor)"
      ],
      "execution_count": null,
      "outputs": []
    },
    {
      "cell_type": "code",
      "metadata": {
        "colab": {
          "base_uri": "https://localhost:8080/"
        },
        "id": "xLq20icfQsBh",
        "outputId": "6616ea09-baca-4c6c-eb1d-993b0fa17de5"
      },
      "source": [
        "x_train.shape, x_test.shape, y_test.shape"
      ],
      "execution_count": null,
      "outputs": [
        {
          "output_type": "execute_result",
          "data": {
            "text/plain": [
              "(torch.Size([4301, 20, 1]), torch.Size([30, 20, 1]), torch.Size([30, 1]))"
            ]
          },
          "metadata": {},
          "execution_count": 7
        }
      ]
    },
    {
      "cell_type": "markdown",
      "source": [
        "#Build Model"
      ],
      "metadata": {
        "id": "Q5-Fnnu0sHrm"
      }
    },
    {
      "cell_type": "code",
      "source": [
        "class RNN(nn.Module):\n",
        "  \n",
        "    def __init__(self, input_dim, hidden_dim, num_layers, output_dim):\n",
        "        super(RNN, self).__init__()\n",
        "        self.hidden_dim = hidden_dim\n",
        "        self.num_layers = num_layers\n",
        "        self.rnn = nn.RNN(input_dim, hidden_dim, num_layers, batch_first=True)\n",
        "        self.linear = nn.Linear(hidden_dim, output_dim)\n",
        "        \n",
        "    def forward(self, x):\n",
        "        h0 = torch.zeros(self.num_layers, x.size(0), self.hidden_dim).requires_grad_()\n",
        "        out, h0 = self.rnn(x, h0.detach())\n",
        "        out = out[:, -1, :]\n",
        "        out = self.linear(out)\n",
        "        return out"
      ],
      "metadata": {
        "id": "fNefDsV0d4to"
      },
      "execution_count": null,
      "outputs": []
    },
    {
      "cell_type": "code",
      "source": [
        "class LSTM(nn.Module):\n",
        "  \n",
        "    def __init__(self, input_dim, hidden_dim, num_layers, output_dim):\n",
        "        super(LSTM, self).__init__()\n",
        "        self.hidden_dim = hidden_dim\n",
        "        self.num_layers = num_layers\n",
        "        self.lstm = nn.LSTM(input_dim, hidden_dim, num_layers, batch_first=True)\n",
        "        self.linear = nn.Linear(hidden_dim, output_dim)\n",
        "        \n",
        "    def forward(self, x):\n",
        "        h0 = torch.zeros(self.num_layers, x.size(0), self.hidden_dim).requires_grad_()\n",
        "        c0 = torch.zeros(self.num_layers, x.size(0), self.hidden_dim).requires_grad_()\n",
        "        out, (hn, cn) = self.lstm(x, (h0.detach(), c0.detach()))\n",
        "        out = out[:, -1, :]\n",
        "        out = self.linear(out)\n",
        "        return out"
      ],
      "metadata": {
        "id": "a271L4FIdUZP"
      },
      "execution_count": null,
      "outputs": []
    },
    {
      "cell_type": "code",
      "metadata": {
        "id": "JO4Z0ie5qocO"
      },
      "source": [
        "class BiLSTM(nn.Module):\n",
        "  \n",
        "    def __init__(self, input_dim, hidden_dim, num_layers, output_dim):\n",
        "        super(BiLSTM, self).__init__()\n",
        "        self.hidden_dim = hidden_dim\n",
        "        self.num_layers = num_layers\n",
        "        self.lstm = nn.LSTM(input_dim, hidden_dim, num_layers, batch_first=True, bidirectional = True)\n",
        "        self.linear = nn.Linear(2*hidden_dim, output_dim)\n",
        "        \n",
        "    def forward(self, x):\n",
        "        h0 = torch.zeros(self.num_layers*2, x.size(0), self.hidden_dim).requires_grad_()\n",
        "        c0 = torch.zeros(self.num_layers*2, x.size(0), self.hidden_dim).requires_grad_()\n",
        "        out, (hn, cn) = self.lstm(x, (h0.detach(), c0.detach()))\n",
        "        out = out[:, -1, :]\n",
        "        out = self.linear(out)\n",
        "        return out"
      ],
      "execution_count": null,
      "outputs": []
    },
    {
      "cell_type": "code",
      "source": [
        "def MAPE(Y_actual,Y_Predicted):\n",
        "    mape = np.mean((np.abs(Y_Predicted-Y_actual)/Y_actual))*100\n",
        "    return mape"
      ],
      "metadata": {
        "id": "pXhV2ZAm22BH"
      },
      "execution_count": null,
      "outputs": []
    },
    {
      "cell_type": "markdown",
      "source": [
        "#Train Model Using Best Parameter"
      ],
      "metadata": {
        "id": "4EtRZF0ZsODn"
      }
    },
    {
      "cell_type": "markdown",
      "source": [
        "##Train RNN"
      ],
      "metadata": {
        "id": "eZBNE4oOic-F"
      }
    },
    {
      "cell_type": "code",
      "source": [
        "rnn = RNN(input_dim=1, hidden_dim=32, output_dim=1, num_layers=2)\n",
        "criterion = torch.nn.L1Loss(reduction='mean')\n",
        "optimiser = torch.optim.Adam(rnn.parameters(), lr=0.001)"
      ],
      "metadata": {
        "id": "BbyhPyQaeVEK"
      },
      "execution_count": null,
      "outputs": []
    },
    {
      "cell_type": "code",
      "metadata": {
        "id": "6xYK-780qzbc",
        "colab": {
          "base_uri": "https://localhost:8080/"
        },
        "outputId": "4aeb4b76-9687-4e2f-a7f0-4b43d6bee4b6"
      },
      "source": [
        "import time\n",
        "num_epochs = 300\n",
        "hist = np.zeros(num_epochs)\n",
        "start_time = time.time()\n",
        "\n",
        "for t in range(num_epochs):\n",
        "    y_train_pred = rnn(x_train)\n",
        "    loss = criterion(y_train_pred, y_train)\n",
        "    if t%50==0 or t==299:\n",
        "      print(\"Epoch \", t, \"MAE: \", loss.item())\n",
        "    hist[t] = loss.item()\n",
        "    optimiser.zero_grad()\n",
        "    loss.backward()\n",
        "    optimiser.step()"
      ],
      "execution_count": null,
      "outputs": [
        {
          "output_type": "stream",
          "name": "stdout",
          "text": [
            "Epoch  0 MAE:  0.7061988711357117\n",
            "Epoch  50 MAE:  0.09780728071928024\n",
            "Epoch  100 MAE:  0.01620156690478325\n",
            "Epoch  150 MAE:  0.015925945714116096\n",
            "Epoch  200 MAE:  0.013858284801244736\n",
            "Epoch  250 MAE:  0.013061055913567543\n",
            "Epoch  299 MAE:  0.012699771672487259\n"
          ]
        }
      ]
    },
    {
      "cell_type": "markdown",
      "source": [
        "##Train LSTM"
      ],
      "metadata": {
        "id": "_WuUpHnXihMm"
      }
    },
    {
      "cell_type": "code",
      "source": [
        "lstm = LSTM(input_dim=1, hidden_dim=32, output_dim=1, num_layers=2)\n",
        "criterion = torch.nn.L1Loss(reduction='mean')\n",
        "optimiser = torch.optim.Adam(lstm.parameters(), lr=0.001)"
      ],
      "metadata": {
        "id": "Da6HbcLMdm5w"
      },
      "execution_count": null,
      "outputs": []
    },
    {
      "cell_type": "code",
      "source": [
        "import time\n",
        "num_epochs = 300\n",
        "hist = np.zeros(num_epochs)\n",
        "start_time = time.time()\n",
        "\n",
        "for t in range(num_epochs):\n",
        "    y_train_pred = lstm(x_train)\n",
        "    loss = criterion(y_train_pred, y_train)\n",
        "    if t%50==0 or t==299:\n",
        "      print(\"Epoch \", t, \"MAE: \", loss.item())\n",
        "    hist[t] = loss.item()\n",
        "    optimiser.zero_grad()\n",
        "    loss.backward()\n",
        "    optimiser.step()"
      ],
      "metadata": {
        "colab": {
          "base_uri": "https://localhost:8080/"
        },
        "id": "0NSS5tk1iiac",
        "outputId": "7e611132-8aee-4a29-d132-587b82e309f5"
      },
      "execution_count": null,
      "outputs": [
        {
          "output_type": "stream",
          "name": "stdout",
          "text": [
            "Epoch  0 MAE:  0.24682600796222687\n",
            "Epoch  50 MAE:  0.1026255190372467\n",
            "Epoch  100 MAE:  0.025254758074879646\n",
            "Epoch  150 MAE:  0.02108539082109928\n",
            "Epoch  200 MAE:  0.018331635743379593\n",
            "Epoch  250 MAE:  0.016648203134536743\n",
            "Epoch  299 MAE:  0.015855373814702034\n"
          ]
        }
      ]
    },
    {
      "cell_type": "markdown",
      "source": [
        "##Train BiLSTM"
      ],
      "metadata": {
        "id": "CZAaPdkMijwG"
      }
    },
    {
      "cell_type": "code",
      "source": [
        "bilstm = BiLSTM(input_dim=1, hidden_dim=32, output_dim=1, num_layers=2)\n",
        "criterion = torch.nn.L1Loss(reduction='mean')\n",
        "optimiser = torch.optim.Adam(bilstm.parameters(), lr=0.001)"
      ],
      "metadata": {
        "id": "6C6IVKnMHK0z"
      },
      "execution_count": null,
      "outputs": []
    },
    {
      "cell_type": "code",
      "source": [
        "import time\n",
        "num_epochs = 300\n",
        "hist = np.zeros(num_epochs)\n",
        "start_time = time.time()\n",
        "\n",
        "for t in range(num_epochs):\n",
        "    y_train_pred = bilstm(x_train)\n",
        "    loss = criterion(y_train_pred, y_train)\n",
        "    if t%50==0 or t==299:\n",
        "      print(\"Epoch \", t, \"MAE: \", loss.item())\n",
        "    hist[t] = loss.item()\n",
        "    optimiser.zero_grad()\n",
        "    loss.backward()\n",
        "    optimiser.step()"
      ],
      "metadata": {
        "colab": {
          "base_uri": "https://localhost:8080/"
        },
        "id": "L73KWMDUilSW",
        "outputId": "e6852f83-24bf-43ca-99fe-2eabfc37f88f"
      },
      "execution_count": null,
      "outputs": [
        {
          "output_type": "stream",
          "name": "stdout",
          "text": [
            "Epoch  0 MAE:  0.44828465580940247\n",
            "Epoch  50 MAE:  0.10954666882753372\n",
            "Epoch  100 MAE:  0.021479018032550812\n",
            "Epoch  150 MAE:  0.015427164733409882\n",
            "Epoch  200 MAE:  0.014239577576518059\n",
            "Epoch  250 MAE:  0.013659867458045483\n",
            "Epoch  299 MAE:  0.013712653890252113\n"
          ]
        }
      ]
    },
    {
      "cell_type": "markdown",
      "source": [
        "#Predict Test Data"
      ],
      "metadata": {
        "id": "jQDT2TWPsSUi"
      }
    },
    {
      "cell_type": "markdown",
      "source": [
        "##Test RNN"
      ],
      "metadata": {
        "id": "NVomtCs2LSpT"
      }
    },
    {
      "cell_type": "code",
      "source": [
        "future = 5\n",
        "lookback = 20\n",
        "rnn.eval()\n",
        "x_train_rnn = torch.FloatTensor(x_train).view(-1)\n",
        "test_inputs_rnn = list(x_train_rnn[-lookback:])\n",
        "for i in range(future):\n",
        "  test_seq_rnn = [[[a] for a in test_inputs_rnn[-lookback:]]]\n",
        "  test_seq_rnn = torch.FloatTensor(test_seq_rnn)\n",
        "  with torch.no_grad():\n",
        "    test_inputs_rnn.append(rnn(test_seq_rnn).item())\n",
        "# y_test_pred = model(x_test,x_test)"
      ],
      "metadata": {
        "id": "xQLuwO3NLTyc"
      },
      "execution_count": null,
      "outputs": []
    },
    {
      "cell_type": "code",
      "source": [
        "actual_rnn = data.Close[-30:-25]\n",
        "test_pred_rnn = scaler.inverse_transform(np.array(test_inputs_rnn).reshape(-1, 1)).flatten()\n",
        "test_pred_rnn = test_pred_rnn[-future:]\n",
        "mae_rnn = mean_absolute_error(actual_rnn,test_pred_rnn)"
      ],
      "metadata": {
        "id": "VR0uR_39MlbH"
      },
      "execution_count": null,
      "outputs": []
    },
    {
      "cell_type": "markdown",
      "source": [
        "##Test LSTM"
      ],
      "metadata": {
        "id": "ySYtcGlcLXoU"
      }
    },
    {
      "cell_type": "code",
      "source": [
        "future = 5\n",
        "lookback = 20\n",
        "lstm.eval()\n",
        "x_train_lstm = torch.FloatTensor(x_train).view(-1)\n",
        "test_inputs_lstm = list(x_train_lstm[-lookback:])\n",
        "for i in range(future):\n",
        "  test_seq_lstm = [[[a] for a in test_inputs_lstm[-lookback:]]]\n",
        "  test_seq_lstm = torch.FloatTensor(test_seq_lstm)\n",
        "  with torch.no_grad():\n",
        "    test_inputs_lstm.append(lstm(test_seq_lstm).item())\n",
        "# y_test_pred = model(x_test,x_test)"
      ],
      "metadata": {
        "id": "cb22I30ZLYwX"
      },
      "execution_count": null,
      "outputs": []
    },
    {
      "cell_type": "code",
      "source": [
        "actual_lstm = data.Close[-30:-25]\n",
        "test_pred_lstm = scaler.inverse_transform(np.array(test_inputs_lstm).reshape(-1, 1)).flatten()\n",
        "test_pred_lstm = test_pred_lstm[-future:]\n",
        "mae_lstm = mean_absolute_error(actual_lstm,test_pred_lstm)"
      ],
      "metadata": {
        "id": "YuDzMGLqNBEj"
      },
      "execution_count": null,
      "outputs": []
    },
    {
      "cell_type": "code",
      "source": [
        "mae_lstm"
      ],
      "metadata": {
        "colab": {
          "base_uri": "https://localhost:8080/"
        },
        "id": "GsLy-bPBRHWQ",
        "outputId": "4eed1a90-6a89-4e7f-fc1f-4e715591b446"
      },
      "execution_count": null,
      "outputs": [
        {
          "output_type": "execute_result",
          "data": {
            "text/plain": [
              "279.0181052684778"
            ]
          },
          "metadata": {},
          "execution_count": 73
        }
      ]
    },
    {
      "cell_type": "markdown",
      "source": [
        "##Test BiLSTM"
      ],
      "metadata": {
        "id": "yTgZ7JCrLcgI"
      }
    },
    {
      "cell_type": "code",
      "source": [
        "future = 5\n",
        "lookback = 20\n",
        "bilstm.eval()\n",
        "x_train_bilstm = torch.FloatTensor(x_train).view(-1)\n",
        "test_inputs_bilstm = list(x_train_bilstm[-lookback:])\n",
        "for i in range(future):\n",
        "  test_seq_bilstm = [[[a] for a in test_inputs_bilstm[-lookback:]]]\n",
        "  test_seq_bilstm = torch.FloatTensor(test_seq_bilstm)\n",
        "  with torch.no_grad():\n",
        "    test_inputs_bilstm.append(bilstm(test_seq_bilstm).item())\n",
        "# y_test_pred = model(x_test,x_test)"
      ],
      "metadata": {
        "id": "nELxr0vXLd-a"
      },
      "execution_count": null,
      "outputs": []
    },
    {
      "cell_type": "code",
      "source": [
        "actual_bilstm = data.Close[-30:-25]\n",
        "test_pred_bilstm = scaler.inverse_transform(np.array(test_inputs_bilstm).reshape(-1, 1)).flatten()\n",
        "test_pred_bilstm = test_pred_bilstm[-future:]\n",
        "mae_bilstm = mean_absolute_error(actual_bilstm,test_pred_bilstm)"
      ],
      "metadata": {
        "id": "qZHh2khfNILZ"
      },
      "execution_count": null,
      "outputs": []
    },
    {
      "cell_type": "code",
      "source": [
        "mae = pd.DataFrame({'RNN': [mae_rnn], 'LSTM': [mae_lstm], 'BiLSTM': [mae_bilstm]})"
      ],
      "metadata": {
        "id": "VIwPdO-gz5fk"
      },
      "execution_count": null,
      "outputs": []
    },
    {
      "cell_type": "code",
      "source": [
        "mae"
      ],
      "metadata": {
        "colab": {
          "base_uri": "https://localhost:8080/",
          "height": 81
        },
        "id": "HVWIVEm82MSM",
        "outputId": "e7824054-0615-4151-a559-61b99a5b1fba"
      },
      "execution_count": null,
      "outputs": [
        {
          "output_type": "execute_result",
          "data": {
            "text/plain": [
              "          RNN        LSTM      BiLSTM\n",
              "0  226.314094  390.092219  231.476882"
            ],
            "text/html": [
              "\n",
              "  <div id=\"df-8a0fc4bb-e60b-4773-8b04-495e3085b979\">\n",
              "    <div class=\"colab-df-container\">\n",
              "      <div>\n",
              "<style scoped>\n",
              "    .dataframe tbody tr th:only-of-type {\n",
              "        vertical-align: middle;\n",
              "    }\n",
              "\n",
              "    .dataframe tbody tr th {\n",
              "        vertical-align: top;\n",
              "    }\n",
              "\n",
              "    .dataframe thead th {\n",
              "        text-align: right;\n",
              "    }\n",
              "</style>\n",
              "<table border=\"1\" class=\"dataframe\">\n",
              "  <thead>\n",
              "    <tr style=\"text-align: right;\">\n",
              "      <th></th>\n",
              "      <th>RNN</th>\n",
              "      <th>LSTM</th>\n",
              "      <th>BiLSTM</th>\n",
              "    </tr>\n",
              "  </thead>\n",
              "  <tbody>\n",
              "    <tr>\n",
              "      <th>0</th>\n",
              "      <td>226.314094</td>\n",
              "      <td>390.092219</td>\n",
              "      <td>231.476882</td>\n",
              "    </tr>\n",
              "  </tbody>\n",
              "</table>\n",
              "</div>\n",
              "      <button class=\"colab-df-convert\" onclick=\"convertToInteractive('df-8a0fc4bb-e60b-4773-8b04-495e3085b979')\"\n",
              "              title=\"Convert this dataframe to an interactive table.\"\n",
              "              style=\"display:none;\">\n",
              "        \n",
              "  <svg xmlns=\"http://www.w3.org/2000/svg\" height=\"24px\"viewBox=\"0 0 24 24\"\n",
              "       width=\"24px\">\n",
              "    <path d=\"M0 0h24v24H0V0z\" fill=\"none\"/>\n",
              "    <path d=\"M18.56 5.44l.94 2.06.94-2.06 2.06-.94-2.06-.94-.94-2.06-.94 2.06-2.06.94zm-11 1L8.5 8.5l.94-2.06 2.06-.94-2.06-.94L8.5 2.5l-.94 2.06-2.06.94zm10 10l.94 2.06.94-2.06 2.06-.94-2.06-.94-.94-2.06-.94 2.06-2.06.94z\"/><path d=\"M17.41 7.96l-1.37-1.37c-.4-.4-.92-.59-1.43-.59-.52 0-1.04.2-1.43.59L10.3 9.45l-7.72 7.72c-.78.78-.78 2.05 0 2.83L4 21.41c.39.39.9.59 1.41.59.51 0 1.02-.2 1.41-.59l7.78-7.78 2.81-2.81c.8-.78.8-2.07 0-2.86zM5.41 20L4 18.59l7.72-7.72 1.47 1.35L5.41 20z\"/>\n",
              "  </svg>\n",
              "      </button>\n",
              "      \n",
              "  <style>\n",
              "    .colab-df-container {\n",
              "      display:flex;\n",
              "      flex-wrap:wrap;\n",
              "      gap: 12px;\n",
              "    }\n",
              "\n",
              "    .colab-df-convert {\n",
              "      background-color: #E8F0FE;\n",
              "      border: none;\n",
              "      border-radius: 50%;\n",
              "      cursor: pointer;\n",
              "      display: none;\n",
              "      fill: #1967D2;\n",
              "      height: 32px;\n",
              "      padding: 0 0 0 0;\n",
              "      width: 32px;\n",
              "    }\n",
              "\n",
              "    .colab-df-convert:hover {\n",
              "      background-color: #E2EBFA;\n",
              "      box-shadow: 0px 1px 2px rgba(60, 64, 67, 0.3), 0px 1px 3px 1px rgba(60, 64, 67, 0.15);\n",
              "      fill: #174EA6;\n",
              "    }\n",
              "\n",
              "    [theme=dark] .colab-df-convert {\n",
              "      background-color: #3B4455;\n",
              "      fill: #D2E3FC;\n",
              "    }\n",
              "\n",
              "    [theme=dark] .colab-df-convert:hover {\n",
              "      background-color: #434B5C;\n",
              "      box-shadow: 0px 1px 3px 1px rgba(0, 0, 0, 0.15);\n",
              "      filter: drop-shadow(0px 1px 2px rgba(0, 0, 0, 0.3));\n",
              "      fill: #FFFFFF;\n",
              "    }\n",
              "  </style>\n",
              "\n",
              "      <script>\n",
              "        const buttonEl =\n",
              "          document.querySelector('#df-8a0fc4bb-e60b-4773-8b04-495e3085b979 button.colab-df-convert');\n",
              "        buttonEl.style.display =\n",
              "          google.colab.kernel.accessAllowed ? 'block' : 'none';\n",
              "\n",
              "        async function convertToInteractive(key) {\n",
              "          const element = document.querySelector('#df-8a0fc4bb-e60b-4773-8b04-495e3085b979');\n",
              "          const dataTable =\n",
              "            await google.colab.kernel.invokeFunction('convertToInteractive',\n",
              "                                                     [key], {});\n",
              "          if (!dataTable) return;\n",
              "\n",
              "          const docLinkHtml = 'Like what you see? Visit the ' +\n",
              "            '<a target=\"_blank\" href=https://colab.research.google.com/notebooks/data_table.ipynb>data table notebook</a>'\n",
              "            + ' to learn more about interactive tables.';\n",
              "          element.innerHTML = '';\n",
              "          dataTable['output_type'] = 'display_data';\n",
              "          await google.colab.output.renderOutput(dataTable, element);\n",
              "          const docLink = document.createElement('div');\n",
              "          docLink.innerHTML = docLinkHtml;\n",
              "          element.appendChild(docLink);\n",
              "        }\n",
              "      </script>\n",
              "    </div>\n",
              "  </div>\n",
              "  "
            ]
          },
          "metadata": {},
          "execution_count": 62
        }
      ]
    },
    {
      "cell_type": "code",
      "source": [
        "import matplotlib.pyplot as plt\n",
        "plot = mae.plot.bar(figsize=(7,7.5))\n",
        "for p in plot.patches:\n",
        "    plot.annotate(s=np.round(p.get_height(), decimals=4),\n",
        "                xy=(p.get_x()+p.get_width()/2., p.get_height()),\n",
        "                ha='center',\n",
        "                va='center',\n",
        "                xytext=(0, 10),\n",
        "                textcoords='offset points')"
      ],
      "metadata": {
        "colab": {
          "base_uri": "https://localhost:8080/",
          "height": 452
        },
        "id": "zY4I1cRG0fea",
        "outputId": "2c2251dc-f8fb-4e2d-c46c-bf12d338eabe"
      },
      "execution_count": null,
      "outputs": [
        {
          "output_type": "display_data",
          "data": {
            "text/plain": [
              "<Figure size 504x540 with 1 Axes>"
            ],
            "image/png": "[encoded data removed]"
          },
          "metadata": {
            "needs_background": "light"
          }
        }
      ]
    },
    {
      "cell_type": "code",
      "metadata": {
        "id": "MdFQUeyT8rJ1"
      },
      "source": [
        "# make predictions\n",
        "\n",
        "# invert predictions rnn\n",
        "y_train_pred_rnn = y_train_pred.clone()\n",
        "y_train_pred_rnn = scaler.inverse_transform(y_train_pred_rnn.detach().numpy())\n",
        "y_train_rnn = y_train.clone()\n",
        "y_train_rnn = scaler.inverse_transform(y_train_rnn.detach().numpy())\n",
        "y_test_pred_rnn = scaler.inverse_transform(y_test_pred_rnn.detach().numpy())\n",
        "y_test_rnn= y_test.clone()\n",
        "y_test_rnn = scaler.inverse_transform(y_test_rnn.detach().numpy())\n",
        "\n",
        "# # invert predictions lstm\n",
        "y_train_pred_lstm = y_train_pred.clone()\n",
        "y_train_pred_lstm = scaler.inverse_transform(y_train_pred_lstm.detach().numpy())\n",
        "y_train_lstm = y_train.clone()\n",
        "y_train_lstm = scaler.inverse_transform(y_train_lstm.detach().numpy())\n",
        "y_test_pred_lstm = scaler.inverse_transform(y_test_pred_lstm.detach().numpy())\n",
        "y_test_lstm = y_test.clone()\n",
        "y_test_lstm = scaler.inverse_transform(y_test_lstm.detach().numpy())\n",
        "\n",
        "# invert predictions bilstm\n",
        "y_train_pred_bilstm = y_train_pred.clone()\n",
        "y_train_pred_bilstm = scaler.inverse_transform(y_train_pred_bilstm.detach().numpy())\n",
        "y_train_bilstm = y_train.clone()\n",
        "y_train_bilstm = scaler.inverse_transform(y_train_bilstm.detach().numpy())\n",
        "y_test_pred_bilstm = scaler.inverse_transform(y_test_pred_bilstm.detach().numpy())\n",
        "y_test_bilstm = y_test.clone()\n",
        "y_test_bilstm = scaler.inverse_transform(y_test_bilstm.detach().numpy())"
      ],
      "execution_count": null,
      "outputs": []
    },
    {
      "cell_type": "code",
      "source": [
        "rnn = pd.DataFrame({'RNN': y_test_pred_rnn[:, 0]})\n",
        "lstm = pd.DataFrame({'LSTM': y_test_pred_lstm[:, 0]})\n",
        "bilstm = pd.DataFrame({'BiLSTM': y_test_pred_bilstm[:, 0]})\n",
        "df = data.copy()\n",
        "df = df[-30:]\n",
        "df = df[['Close']]\n",
        "df.rename(columns = {'Close':'Actual'}, inplace = True)\n",
        "df['RNN'] = rnn.values\n",
        "df['LSTM'] = lstm.values\n",
        "df['BiLSTM'] = bilstm.values"
      ],
      "metadata": {
        "id": "4KZ-3DKuqqGI"
      },
      "execution_count": null,
      "outputs": []
    },
    {
      "cell_type": "code",
      "source": [
        "df"
      ],
      "metadata": {
        "colab": {
          "base_uri": "https://localhost:8080/",
          "height": 1000
        },
        "id": "GJbiAP8qu1Co",
        "outputId": "63d53c57-c4d7-476d-94e0-6337cdad45f4"
      },
      "execution_count": null,
      "outputs": [
        {
          "output_type": "execute_result",
          "data": {
            "text/plain": [
              "            Actual          RNN         LSTM       BiLSTM\n",
              "Date                                                     \n",
              "2021-08-13  6500.0  5578.750488  6069.722168  6048.738281\n",
              "2021-08-16  6275.0  5692.059082  6117.977051  6135.308594\n",
              "2021-08-18  5975.0  5834.568359  6189.409180  6255.499512\n",
              "2021-08-19  6100.0  5826.260742  6241.155273  6244.121094\n",
              "2021-08-20  6525.0  5640.636719  6245.843750  6125.912109\n",
              "2021-08-23  6500.0  5572.696777  6238.945801  6098.914062\n",
              "2021-08-24  6350.0  5752.792480  6270.142578  6239.370117\n",
              "2021-08-25  6425.0  5890.821289  6313.788574  6316.384766\n",
              "2021-08-26  6400.0  5874.806641  6344.770020  6311.990234\n",
              "2021-08-27  6350.0  5878.208984  6375.263184  6338.284668\n",
              "2021-08-30  6425.0  5872.839844  6398.403320  6341.745605\n",
              "2021-08-31  6325.0  5842.232422  6409.607422  6324.916016\n",
              "2021-09-01  6250.0  5857.756348  6421.908691  6343.243164\n",
              "2021-09-02  6300.0  5831.016113  6421.516113  6316.310059\n",
              "2021-09-03  6300.0  5768.370605  6406.965332  6272.939941\n",
              "2021-09-06  6600.0  5756.346191  6391.665039  6265.041016\n",
              "2021-09-07  6700.0  5758.831543  6376.898438  6259.457031\n",
              "2021-09-08  6475.0  5894.718750  6396.583008  6370.599121\n",
              "2021-09-09  6675.0  6048.217285  6442.076172  6475.663574\n",
              "2021-09-10  6675.0  6020.622070  6472.927734  6456.343262\n",
              "2021-09-13  6725.0  6060.836426  6516.548828  6521.443359\n",
              "2021-09-14  6975.0  6107.797363  6560.700684  6556.808105\n",
              "2021-09-15  7000.0  6139.614258  6606.217285  6598.020996\n",
              "2021-09-16  7125.0  6278.708984  6673.636230  6717.544922\n",
              "2021-09-17  6900.0  6379.571777  6746.750977  6798.442383\n",
              "2021-09-20  6800.0  6476.956543  6829.519043  6895.900879\n",
              "2021-09-21  6850.0  6438.301758  6884.545410  6869.082031\n",
              "2021-09-22  6725.0  6331.641113  6909.366211  6817.108887\n",
              "2021-09-23  6700.0  6299.485352  6920.104980  6802.955078\n",
              "2021-09-24  6600.0  6232.881348  6907.783691  6746.805176"
            ],
            "text/html": [
              "\n",
              "  <div id=\"df-0bff2360-4a63-4be6-8e1e-78bb5b1305b3\">\n",
              "    <div class=\"colab-df-container\">\n",
              "      <div>\n",
              "<style scoped>\n",
              "    .dataframe tbody tr th:only-of-type {\n",
              "        vertical-align: middle;\n",
              "    }\n",
              "\n",
              "    .dataframe tbody tr th {\n",
              "        vertical-align: top;\n",
              "    }\n",
              "\n",
              "    .dataframe thead th {\n",
              "        text-align: right;\n",
              "    }\n",
              "</style>\n",
              "<table border=\"1\" class=\"dataframe\">\n",
              "  <thead>\n",
              "    <tr style=\"text-align: right;\">\n",
              "      <th></th>\n",
              "      <th>Actual</th>\n",
              "      <th>RNN</th>\n",
              "      <th>LSTM</th>\n",
              "      <th>BiLSTM</th>\n",
              "    </tr>\n",
              "    <tr>\n",
              "      <th>Date</th>\n",
              "      <th></th>\n",
              "      <th></th>\n",
              "      <th></th>\n",
              "      <th></th>\n",
              "    </tr>\n",
              "  </thead>\n",
              "  <tbody>\n",
              "    <tr>\n",
              "      <th>2021-08-13</th>\n",
              "      <td>6500.0</td>\n",
              "      <td>5578.750488</td>\n",
              "      <td>6069.722168</td>\n",
              "      <td>6048.738281</td>\n",
              "    </tr>\n",
              "    <tr>\n",
              "      <th>2021-08-16</th>\n",
              "      <td>6275.0</td>\n",
              "      <td>5692.059082</td>\n",
              "      <td>6117.977051</td>\n",
              "      <td>6135.308594</td>\n",
              "    </tr>\n",
              "    <tr>\n",
              "      <th>2021-08-18</th>\n",
              "      <td>5975.0</td>\n",
              "      <td>5834.568359</td>\n",
              "      <td>6189.409180</td>\n",
              "      <td>6255.499512</td>\n",
              "    </tr>\n",
              "    <tr>\n",
              "      <th>2021-08-19</th>\n",
              "      <td>6100.0</td>\n",
              "      <td>5826.260742</td>\n",
              "      <td>6241.155273</td>\n",
              "      <td>6244.121094</td>\n",
              "    </tr>\n",
              "    <tr>\n",
              "      <th>2021-08-20</th>\n",
              "      <td>6525.0</td>\n",
              "      <td>5640.636719</td>\n",
              "      <td>6245.843750</td>\n",
              "      <td>6125.912109</td>\n",
              "    </tr>\n",
              "    <tr>\n",
              "      <th>2021-08-23</th>\n",
              "      <td>6500.0</td>\n",
              "      <td>5572.696777</td>\n",
              "      <td>6238.945801</td>\n",
              "      <td>6098.914062</td>\n",
              "    </tr>\n",
              "    <tr>\n",
              "      <th>2021-08-24</th>\n",
              "      <td>6350.0</td>\n",
              "      <td>5752.792480</td>\n",
              "      <td>6270.142578</td>\n",
              "      <td>6239.370117</td>\n",
              "    </tr>\n",
              "    <tr>\n",
              "      <th>2021-08-25</th>\n",
              "      <td>6425.0</td>\n",
              "      <td>5890.821289</td>\n",
              "      <td>6313.788574</td>\n",
              "      <td>6316.384766</td>\n",
              "    </tr>\n",
              "    <tr>\n",
              "      <th>2021-08-26</th>\n",
              "      <td>6400.0</td>\n",
              "      <td>5874.806641</td>\n",
              "      <td>6344.770020</td>\n",
              "      <td>6311.990234</td>\n",
              "    </tr>\n",
              "    <tr>\n",
              "      <th>2021-08-27</th>\n",
              "      <td>6350.0</td>\n",
              "      <td>5878.208984</td>\n",
              "      <td>6375.263184</td>\n",
              "      <td>6338.284668</td>\n",
              "    </tr>\n",
              "    <tr>\n",
              "      <th>2021-08-30</th>\n",
              "      <td>6425.0</td>\n",
              "      <td>5872.839844</td>\n",
              "      <td>6398.403320</td>\n",
              "      <td>6341.745605</td>\n",
              "    </tr>\n",
              "    <tr>\n",
              "      <th>2021-08-31</th>\n",
              "      <td>6325.0</td>\n",
              "      <td>5842.232422</td>\n",
              "      <td>6409.607422</td>\n",
              "      <td>6324.916016</td>\n",
              "    </tr>\n",
              "    <tr>\n",
              "      <th>2021-09-01</th>\n",
              "      <td>6250.0</td>\n",
              "      <td>5857.756348</td>\n",
              "      <td>6421.908691</td>\n",
              "      <td>6343.243164</td>\n",
              "    </tr>\n",
              "    <tr>\n",
              "      <th>2021-09-02</th>\n",
              "      <td>6300.0</td>\n",
              "      <td>5831.016113</td>\n",
              "      <td>6421.516113</td>\n",
              "      <td>6316.310059</td>\n",
              "    </tr>\n",
              "    <tr>\n",
              "      <th>2021-09-03</th>\n",
              "      <td>6300.0</td>\n",
              "      <td>5768.370605</td>\n",
              "      <td>6406.965332</td>\n",
              "      <td>6272.939941</td>\n",
              "    </tr>\n",
              "    <tr>\n",
              "      <th>2021-09-06</th>\n",
              "      <td>6600.0</td>\n",
              "      <td>5756.346191</td>\n",
              "      <td>6391.665039</td>\n",
              "      <td>6265.041016</td>\n",
              "    </tr>\n",
              "    <tr>\n",
              "      <th>2021-09-07</th>\n",
              "      <td>6700.0</td>\n",
              "      <td>5758.831543</td>\n",
              "      <td>6376.898438</td>\n",
              "      <td>6259.457031</td>\n",
              "    </tr>\n",
              "    <tr>\n",
              "      <th>2021-09-08</th>\n",
              "      <td>6475.0</td>\n",
              "      <td>5894.718750</td>\n",
              "      <td>6396.583008</td>\n",
              "      <td>6370.599121</td>\n",
              "    </tr>\n",
              "    <tr>\n",
              "      <th>2021-09-09</th>\n",
              "      <td>6675.0</td>\n",
              "      <td>6048.217285</td>\n",
              "      <td>6442.076172</td>\n",
              "      <td>6475.663574</td>\n",
              "    </tr>\n",
              "    <tr>\n",
              "      <th>2021-09-10</th>\n",
              "      <td>6675.0</td>\n",
              "      <td>6020.622070</td>\n",
              "      <td>6472.927734</td>\n",
              "      <td>6456.343262</td>\n",
              "    </tr>\n",
              "    <tr>\n",
              "      <th>2021-09-13</th>\n",
              "      <td>6725.0</td>\n",
              "      <td>6060.836426</td>\n",
              "      <td>6516.548828</td>\n",
              "      <td>6521.443359</td>\n",
              "    </tr>\n",
              "    <tr>\n",
              "      <th>2021-09-14</th>\n",
              "      <td>6975.0</td>\n",
              "      <td>6107.797363</td>\n",
              "      <td>6560.700684</td>\n",
              "      <td>6556.808105</td>\n",
              "    </tr>\n",
              "    <tr>\n",
              "      <th>2021-09-15</th>\n",
              "      <td>7000.0</td>\n",
              "      <td>6139.614258</td>\n",
              "      <td>6606.217285</td>\n",
              "      <td>6598.020996</td>\n",
              "    </tr>\n",
              "    <tr>\n",
              "      <th>2021-09-16</th>\n",
              "      <td>7125.0</td>\n",
              "      <td>6278.708984</td>\n",
              "      <td>6673.636230</td>\n",
              "      <td>6717.544922</td>\n",
              "    </tr>\n",
              "    <tr>\n",
              "      <th>2021-09-17</th>\n",
              "      <td>6900.0</td>\n",
              "      <td>6379.571777</td>\n",
              "      <td>6746.750977</td>\n",
              "      <td>6798.442383</td>\n",
              "    </tr>\n",
              "    <tr>\n",
              "      <th>2021-09-20</th>\n",
              "      <td>6800.0</td>\n",
              "      <td>6476.956543</td>\n",
              "      <td>6829.519043</td>\n",
              "      <td>6895.900879</td>\n",
              "    </tr>\n",
              "    <tr>\n",
              "      <th>2021-09-21</th>\n",
              "      <td>6850.0</td>\n",
              "      <td>6438.301758</td>\n",
              "      <td>6884.545410</td>\n",
              "      <td>6869.082031</td>\n",
              "    </tr>\n",
              "    <tr>\n",
              "      <th>2021-09-22</th>\n",
              "      <td>6725.0</td>\n",
              "      <td>6331.641113</td>\n",
              "      <td>6909.366211</td>\n",
              "      <td>6817.108887</td>\n",
              "    </tr>\n",
              "    <tr>\n",
              "      <th>2021-09-23</th>\n",
              "      <td>6700.0</td>\n",
              "      <td>6299.485352</td>\n",
              "      <td>6920.104980</td>\n",
              "      <td>6802.955078</td>\n",
              "    </tr>\n",
              "    <tr>\n",
              "      <th>2021-09-24</th>\n",
              "      <td>6600.0</td>\n",
              "      <td>6232.881348</td>\n",
              "      <td>6907.783691</td>\n",
              "      <td>6746.805176</td>\n",
              "    </tr>\n",
              "  </tbody>\n",
              "</table>\n",
              "</div>\n",
              "      <button class=\"colab-df-convert\" onclick=\"convertToInteractive('df-0bff2360-4a63-4be6-8e1e-78bb5b1305b3')\"\n",
              "              title=\"Convert this dataframe to an interactive table.\"\n",
              "              style=\"display:none;\">\n",
              "        \n",
              "  <svg xmlns=\"http://www.w3.org/2000/svg\" height=\"24px\"viewBox=\"0 0 24 24\"\n",
              "       width=\"24px\">\n",
              "    <path d=\"M0 0h24v24H0V0z\" fill=\"none\"/>\n",
              "    <path d=\"M18.56 5.44l.94 2.06.94-2.06 2.06-.94-2.06-.94-.94-2.06-.94 2.06-2.06.94zm-11 1L8.5 8.5l.94-2.06 2.06-.94-2.06-.94L8.5 2.5l-.94 2.06-2.06.94zm10 10l.94 2.06.94-2.06 2.06-.94-2.06-.94-.94-2.06-.94 2.06-2.06.94z\"/><path d=\"M17.41 7.96l-1.37-1.37c-.4-.4-.92-.59-1.43-.59-.52 0-1.04.2-1.43.59L10.3 9.45l-7.72 7.72c-.78.78-.78 2.05 0 2.83L4 21.41c.39.39.9.59 1.41.59.51 0 1.02-.2 1.41-.59l7.78-7.78 2.81-2.81c.8-.78.8-2.07 0-2.86zM5.41 20L4 18.59l7.72-7.72 1.47 1.35L5.41 20z\"/>\n",
              "  </svg>\n",
              "      </button>\n",
              "      \n",
              "  <style>\n",
              "    .colab-df-container {\n",
              "      display:flex;\n",
              "      flex-wrap:wrap;\n",
              "      gap: 12px;\n",
              "    }\n",
              "\n",
              "    .colab-df-convert {\n",
              "      background-color: #E8F0FE;\n",
              "      border: none;\n",
              "      border-radius: 50%;\n",
              "      cursor: pointer;\n",
              "      display: none;\n",
              "      fill: #1967D2;\n",
              "      height: 32px;\n",
              "      padding: 0 0 0 0;\n",
              "      width: 32px;\n",
              "    }\n",
              "\n",
              "    .colab-df-convert:hover {\n",
              "      background-color: #E2EBFA;\n",
              "      box-shadow: 0px 1px 2px rgba(60, 64, 67, 0.3), 0px 1px 3px 1px rgba(60, 64, 67, 0.15);\n",
              "      fill: #174EA6;\n",
              "    }\n",
              "\n",
              "    [theme=dark] .colab-df-convert {\n",
              "      background-color: #3B4455;\n",
              "      fill: #D2E3FC;\n",
              "    }\n",
              "\n",
              "    [theme=dark] .colab-df-convert:hover {\n",
              "      background-color: #434B5C;\n",
              "      box-shadow: 0px 1px 3px 1px rgba(0, 0, 0, 0.15);\n",
              "      filter: drop-shadow(0px 1px 2px rgba(0, 0, 0, 0.3));\n",
              "      fill: #FFFFFF;\n",
              "    }\n",
              "  </style>\n",
              "\n",
              "      <script>\n",
              "        const buttonEl =\n",
              "          document.querySelector('#df-0bff2360-4a63-4be6-8e1e-78bb5b1305b3 button.colab-df-convert');\n",
              "        buttonEl.style.display =\n",
              "          google.colab.kernel.accessAllowed ? 'block' : 'none';\n",
              "\n",
              "        async function convertToInteractive(key) {\n",
              "          const element = document.querySelector('#df-0bff2360-4a63-4be6-8e1e-78bb5b1305b3');\n",
              "          const dataTable =\n",
              "            await google.colab.kernel.invokeFunction('convertToInteractive',\n",
              "                                                     [key], {});\n",
              "          if (!dataTable) return;\n",
              "\n",
              "          const docLinkHtml = 'Like what you see? Visit the ' +\n",
              "            '<a target=\"_blank\" href=https://colab.research.google.com/notebooks/data_table.ipynb>data table notebook</a>'\n",
              "            + ' to learn more about interactive tables.';\n",
              "          element.innerHTML = '';\n",
              "          dataTable['output_type'] = 'display_data';\n",
              "          await google.colab.output.renderOutput(dataTable, element);\n",
              "          const docLink = document.createElement('div');\n",
              "          docLink.innerHTML = docLinkHtml;\n",
              "          element.appendChild(docLink);\n",
              "        }\n",
              "      </script>\n",
              "    </div>\n",
              "  </div>\n",
              "  "
            ]
          },
          "metadata": {},
          "execution_count": 74
        }
      ]
    },
    {
      "cell_type": "code",
      "source": [
        "df.to_excel('Pengujian Model RNN, LSTM, BiLSTM.xlsx')"
      ],
      "metadata": {
        "id": "DM5eM6O3rQP_"
      },
      "execution_count": null,
      "outputs": []
    },
    {
      "cell_type": "markdown",
      "source": [
        "#Plotting Test Result"
      ],
      "metadata": {
        "id": "fE-_c0C0sWc1"
      }
    },
    {
      "cell_type": "code",
      "source": [
        "df.plot(y=[\"Actual\", \"RNN\",\"LSTM\",\"BiLSTM\"],\n",
        "        kind=\"line\", figsize=(10, 10),use_index=True)"
      ],
      "metadata": {
        "colab": {
          "base_uri": "https://localhost:8080/",
          "height": 599
        },
        "id": "BCpe31AtvGNx",
        "outputId": "e96bb758-6954-4675-c877-85dcbc99ceed"
      },
      "execution_count": null,
      "outputs": [
        {
          "output_type": "execute_result",
          "data": {
            "text/plain": [
              "<matplotlib.axes._subplots.AxesSubplot at 0x7f249c2df050>"
            ]
          },
          "metadata": {},
          "execution_count": 75
        },
        {
          "output_type": "display_data",
          "data": {
            "text/plain": [
              "<Figure size 720x720 with 1 Axes>"
            ],
            "image/png": "[encoded data removed]"
          },
          "metadata": {
            "needs_background": "light"
          }
        }
      ]
    },
    {
      "cell_type": "code",
      "source": [
        "df.plot(y=[\"Actual\",\"BiLSTM\"],\n",
        "        kind=\"line\", figsize=(10, 10),use_index=True)"
      ],
      "metadata": {
        "colab": {
          "base_uri": "https://localhost:8080/",
          "height": 596
        },
        "id": "uBEi0LFJ-lHh",
        "outputId": "c340e27f-24ea-4e54-c978-e0a9ed0a745b"
      },
      "execution_count": null,
      "outputs": [
        {
          "output_type": "execute_result",
          "data": {
            "text/plain": [
              "<matplotlib.axes._subplots.AxesSubplot at 0x7f2499988450>"
            ]
          },
          "metadata": {},
          "execution_count": 77
        },
        {
          "output_type": "display_data",
          "data": {
            "text/plain": [
              "<Figure size 720x720 with 1 Axes>"
            ],
            "image/png": "[encoded data removed]"
          },
          "metadata": {
            "needs_background": "light"
          }
        }
      ]
    }
  ]
}