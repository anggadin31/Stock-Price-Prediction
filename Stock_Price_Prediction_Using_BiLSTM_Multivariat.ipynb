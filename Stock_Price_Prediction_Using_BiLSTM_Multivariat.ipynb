{
  "nbformat": 4,
  "nbformat_minor": 0,
  "metadata": {
    "colab": {
      "provenance": [],
      "collapsed_sections": [
        "6ObYyKvQQnpH",
        "z2TWaFwTXam5"
      ]
    },
    "kernelspec": {
      "name": "python3",
      "display_name": "Python 3"
    },
    "language_info": {
      "name": "python"
    }
  },
  "cells": [
    {
      "cell_type": "code",
      "metadata": {
        "id": "tK6gj-ynpzIs"
      },
      "source": [
        "# !pip install optuna\n",
        "# import optuna\n",
        "from sklearn.preprocessing import MinMaxScaler\n",
        "import pandas as pd\n",
        "import torch\n",
        "import torch.nn as nn\n",
        "import numpy as np\n",
        "from sklearn.metrics import mean_absolute_error\n",
        "import math\n",
        "import seaborn as sns\n",
        "import matplotlib.pyplot as plt\n",
        "from torch.autograd import Variable\n",
        "from torch.nn.parameter import Parameter\n",
        "import torch.nn.functional as F\n",
        "import torch.utils.data as utils\n",
        "import time\n",
        "import datetime as dt\n",
        "from numpy import array\n",
        "from numpy import hstack\n",
        "import warnings\n",
        "from sklearn.model_selection import train_test_split\n",
        "import torch.optim as optim"
      ],
      "execution_count": null,
      "outputs": []
    },
    {
      "cell_type": "markdown",
      "source": [
        "#3 Variable Multivariate"
      ],
      "metadata": {
        "id": "FrbfTUi8WijF"
      }
    },
    {
      "cell_type": "code",
      "metadata": {
        "id": "7v8E6ifLqI41"
      },
      "source": [
        "#ISAT.JK\n",
        "isat = pd.read_csv(\"ISAT.csv\")\n",
        "isat[\"Date\"] = pd.to_datetime(isat[\"Date\"])\n",
        "isat = isat.set_index('Date')\n",
        "isat = isat['2009-10-10' :'2021-09-24']\n",
        "isat = isat.dropna().reset_index()\n",
        "\n",
        "#TLKM.JK\n",
        "tlkm = pd.read_csv(\"TLKM.csv\")\n",
        "tlkm[\"Date\"] = pd.to_datetime(tlkm[\"Date\"])\n",
        "tlkm = tlkm.set_index('Date')\n",
        "tlkm = tlkm['2009-10-10' :'2021-09-24']\n",
        "tlkm = tlkm.dropna().reset_index()\n",
        "\n",
        "#EXCL.JK\n",
        "xl = pd.read_csv(\"EXCL.csv\")\n",
        "xl[\"Date\"] = pd.to_datetime(xl[\"Date\"])\n",
        "xl = xl.set_index('Date')\n",
        "xl = xl['2009-10-10' :'2021-09-24']\n",
        "xl = xl.dropna().reset_index()\n",
        "# data = data[:22]"
      ],
      "execution_count": null,
      "outputs": []
    },
    {
      "cell_type": "code",
      "source": [
        "print(len(isat))\n",
        "print(len(xl))\n",
        "print(len(tlkm))"
      ],
      "metadata": {
        "colab": {
          "base_uri": "https://localhost:8080/"
        },
        "id": "vFCrGiyQQF7P",
        "outputId": "c7c8c785-951b-4018-8910-190cfe58f03c"
      },
      "execution_count": null,
      "outputs": [
        {
          "output_type": "stream",
          "name": "stdout",
          "text": [
            "2964\n",
            "2964\n",
            "2964\n"
          ]
        }
      ]
    },
    {
      "cell_type": "code",
      "metadata": {
        "id": "I9kjxGYVqAq1",
        "colab": {
          "base_uri": "https://localhost:8080/"
        },
        "outputId": "23d7b7b4-94a8-4434-f171-94a0cf837cdd"
      },
      "source": [
        "priceIsat = isat[['Close']]\n",
        "scaler = MinMaxScaler(feature_range=(0, 1))\n",
        "priceIsat['Close'] = scaler.fit_transform(priceIsat['Close'].values.reshape(-1,1))"
      ],
      "execution_count": null,
      "outputs": [
        {
          "output_type": "stream",
          "name": "stderr",
          "text": [
            "/usr/local/lib/python3.7/dist-packages/ipykernel_launcher.py:3: SettingWithCopyWarning: \n",
            "A value is trying to be set on a copy of a slice from a DataFrame.\n",
            "Try using .loc[row_indexer,col_indexer] = value instead\n",
            "\n",
            "See the caveats in the documentation: https://pandas.pydata.org/pandas-docs/stable/user_guide/indexing.html#returning-a-view-versus-a-copy\n",
            "  This is separate from the ipykernel package so we can avoid doing imports until\n"
          ]
        }
      ]
    },
    {
      "cell_type": "code",
      "source": [
        "priceTlkm = tlkm[['Close']]\n",
        "scaler = MinMaxScaler(feature_range=(0, 1))\n",
        "priceTlkm['Close'] = scaler.fit_transform(priceTlkm['Close'].values.reshape(-1,1))"
      ],
      "metadata": {
        "colab": {
          "base_uri": "https://localhost:8080/"
        },
        "id": "WGrwNTTxaw8H",
        "outputId": "570c5487-16d1-4e00-c5e4-ef2dad95437a"
      },
      "execution_count": null,
      "outputs": [
        {
          "output_type": "stream",
          "name": "stderr",
          "text": [
            "/usr/local/lib/python3.7/dist-packages/ipykernel_launcher.py:3: SettingWithCopyWarning: \n",
            "A value is trying to be set on a copy of a slice from a DataFrame.\n",
            "Try using .loc[row_indexer,col_indexer] = value instead\n",
            "\n",
            "See the caveats in the documentation: https://pandas.pydata.org/pandas-docs/stable/user_guide/indexing.html#returning-a-view-versus-a-copy\n",
            "  This is separate from the ipykernel package so we can avoid doing imports until\n"
          ]
        }
      ]
    },
    {
      "cell_type": "code",
      "source": [
        "priceXl = xl[['Close']]\n",
        "scaler = MinMaxScaler(feature_range=(0, 1))\n",
        "priceXl['Close'] = scaler.fit_transform(priceXl['Close'].values.reshape(-1,1))"
      ],
      "metadata": {
        "colab": {
          "base_uri": "https://localhost:8080/"
        },
        "id": "w9uB3WKpa4Z3",
        "outputId": "65b2f967-da04-4dfa-eb0b-79441261aead"
      },
      "execution_count": null,
      "outputs": [
        {
          "output_type": "stream",
          "name": "stderr",
          "text": [
            "/usr/local/lib/python3.7/dist-packages/ipykernel_launcher.py:3: SettingWithCopyWarning: \n",
            "A value is trying to be set on a copy of a slice from a DataFrame.\n",
            "Try using .loc[row_indexer,col_indexer] = value instead\n",
            "\n",
            "See the caveats in the documentation: https://pandas.pydata.org/pandas-docs/stable/user_guide/indexing.html#returning-a-view-versus-a-copy\n",
            "  This is separate from the ipykernel package so we can avoid doing imports until\n"
          ]
        }
      ]
    },
    {
      "cell_type": "markdown",
      "source": [
        "##Create Sequence Data"
      ],
      "metadata": {
        "id": "8rivq9BcsfkW"
      }
    },
    {
      "cell_type": "code",
      "metadata": {
        "id": "kT_P5GKDqVB-"
      },
      "source": [
        "def split_sequences(sequences, n_steps):\n",
        "    X, y = list(), list()\n",
        "    for i in range(len(sequences)):\n",
        "        # find the end of this pattern\n",
        "        end_ix = i + n_steps\n",
        "        # check if we are beyond the dataset\n",
        "        if end_ix > len(sequences):\n",
        "            break\n",
        "        # gather input and output parts of the pattern\n",
        "        seq_x, seq_y = sequences[i:end_ix, :-1], sequences[end_ix-1, -1]\n",
        "        X.append(seq_x)\n",
        "        y.append(seq_y)\n",
        "    return array(X), array(y)"
      ],
      "execution_count": null,
      "outputs": []
    },
    {
      "cell_type": "code",
      "source": [
        "in_seq1 = priceIsat.to_numpy()\n",
        "in_seq2 = priceTlkm.to_numpy()\n",
        "in_seq3 = priceXl.to_numpy()\n",
        "out_seq = priceIsat.to_numpy()\n",
        "# convert to [rows, columns] structure\n",
        "in_seq1 = in_seq1.reshape((len(in_seq1), 1))\n",
        "in_seq2 = in_seq2.reshape((len(in_seq2), 1))\n",
        "in_seq3 = in_seq3.reshape((len(in_seq3), 1))\n",
        "out_seq = out_seq.reshape((len(out_seq), 1))\n",
        "# horizontally stack columns\n",
        "dataset = hstack((in_seq1, in_seq2, in_seq3, out_seq))"
      ],
      "metadata": {
        "id": "Uk60oNrEanVD"
      },
      "execution_count": null,
      "outputs": []
    },
    {
      "cell_type": "code",
      "source": [
        "X, y = split_sequences(dataset, 20)"
      ],
      "metadata": {
        "id": "H410fNnXbyQD"
      },
      "execution_count": null,
      "outputs": []
    },
    {
      "cell_type": "code",
      "source": [
        "# num_of_rows = int(len(X) * 0.8)\n",
        "# x_train = X[:num_of_rows] \n",
        "# y_train = y[:num_of_rows]\n",
        "# x_test = X[num_of_rows:] \n",
        "# y_test = y[num_of_rows:] "
      ],
      "metadata": {
        "id": "sItca0kQGu8m"
      },
      "execution_count": null,
      "outputs": []
    },
    {
      "cell_type": "code",
      "source": [
        "X.shape"
      ],
      "metadata": {
        "colab": {
          "base_uri": "https://localhost:8080/"
        },
        "id": "ja1MPLjtCf-M",
        "outputId": "daca274c-69fa-4732-ef22-1eb6d28a264f"
      },
      "execution_count": null,
      "outputs": [
        {
          "output_type": "execute_result",
          "data": {
            "text/plain": [
              "(2945, 20, 3)"
            ]
          },
          "metadata": {},
          "execution_count": 11
        }
      ]
    },
    {
      "cell_type": "code",
      "source": [
        "y.shape"
      ],
      "metadata": {
        "colab": {
          "base_uri": "https://localhost:8080/"
        },
        "id": "U5gln-3vXcXX",
        "outputId": "b846c8aa-fa50-4e19-cf6b-c2934cb02deb"
      },
      "execution_count": null,
      "outputs": [
        {
          "output_type": "execute_result",
          "data": {
            "text/plain": [
              "(2945,)"
            ]
          },
          "metadata": {},
          "execution_count": 12
        }
      ]
    },
    {
      "cell_type": "code",
      "source": [
        "x_train, x_test, y_train, y_test = train_test_split(X, y, test_size=0.0101, shuffle=False)"
      ],
      "metadata": {
        "id": "puw9fx37tzAR"
      },
      "execution_count": null,
      "outputs": []
    },
    {
      "cell_type": "code",
      "source": [
        "x_train.shape, x_test.shape, y_train.shape, y_test.shape"
      ],
      "metadata": {
        "colab": {
          "base_uri": "https://localhost:8080/"
        },
        "id": "zTlfbDvwoKYk",
        "outputId": "dc65da46-da1d-4e07-c2ed-a36a4294f82d"
      },
      "execution_count": null,
      "outputs": [
        {
          "output_type": "execute_result",
          "data": {
            "text/plain": [
              "((2915, 20, 3), (30, 20, 3), (2915,), (30,))"
            ]
          },
          "metadata": {},
          "execution_count": 14
        }
      ]
    },
    {
      "cell_type": "code",
      "source": [
        "x_train = torch.Tensor(x_train)\n",
        "x_test = torch.Tensor(x_test)\n",
        "y_train = torch.Tensor(y_train)\n",
        "y_test = torch.Tensor(y_test)"
      ],
      "metadata": {
        "id": "HXUwMyAOsWzS"
      },
      "execution_count": null,
      "outputs": []
    },
    {
      "cell_type": "markdown",
      "source": [
        "##Build Model"
      ],
      "metadata": {
        "id": "Q5-Fnnu0sHrm"
      }
    },
    {
      "cell_type": "code",
      "metadata": {
        "id": "JO4Z0ie5qocO"
      },
      "source": [
        "class BiLSTM(nn.Module):\n",
        "  \n",
        "    def __init__(self, input_dim, hidden_dim, num_layers, output_dim):\n",
        "        super(BiLSTM, self).__init__()\n",
        "        self.hidden_dim = hidden_dim\n",
        "        self.num_layers = num_layers\n",
        "        self.lstm = nn.LSTM(input_dim, hidden_dim, num_layers, batch_first=True, bidirectional = True)\n",
        "        self.linear = nn.Linear(2*hidden_dim, output_dim)\n",
        "        self.linear2 = nn.Linear(63,1)\n",
        "        \n",
        "    def forward(self, x, y):\n",
        "        batch_size, seq_len, _ = x.size()\n",
        "        h0 = torch.zeros(self.num_layers*2, x.size(0), self.hidden_dim).requires_grad_()\n",
        "        c0 = torch.zeros(self.num_layers*2, x.size(0), self.hidden_dim).requires_grad_()\n",
        "        out1, (hn, cn) = self.lstm(x, (h0.detach(), c0.detach()))\n",
        "        out1 = out1[:, -1, :]\n",
        "        out1 = self.linear(out1)\n",
        "        out1 = out1.unsqueeze(2).expand(-1, -1, 3)\n",
        "        out2 = y\n",
        "        out = torch.cat((out2,out1),dim=1)\n",
        "        out = out.contiguous().view(batch_size,-1)\n",
        "        out = self.linear2(out)\n",
        "        # out = F.relu(out)\n",
        "        # print(out.shape)\n",
        "        return out"
      ],
      "execution_count": null,
      "outputs": []
    },
    {
      "cell_type": "code",
      "source": [
        "def MAPE(Y_actual,Y_Predicted):\n",
        "    mape = np.mean((np.abs(Y_Predicted-Y_actual)/Y_actual))*100\n",
        "    return mape"
      ],
      "metadata": {
        "id": "pXhV2ZAm22BH"
      },
      "execution_count": null,
      "outputs": []
    },
    {
      "cell_type": "markdown",
      "source": [
        "##Train Multivariate Model"
      ],
      "metadata": {
        "id": "4EtRZF0ZsODn"
      }
    },
    {
      "cell_type": "code",
      "source": [
        "model = BiLSTM(input_dim=3, hidden_dim=32, output_dim=1, num_layers=2)\n",
        "criterion = torch.nn.L1Loss(reduction='mean')\n",
        "optimiser = torch.optim.Adam(model.parameters(), lr=0.05)\n",
        "params = list(model.state_dict().keys())"
      ],
      "metadata": {
        "id": "6C6IVKnMHK0z"
      },
      "execution_count": null,
      "outputs": []
    },
    {
      "cell_type": "code",
      "metadata": {
        "id": "6xYK-780qzbc",
        "colab": {
          "base_uri": "https://localhost:8080/"
        },
        "outputId": "92d32811-7545-425e-fc1a-8f6d59790492"
      },
      "source": [
        "import time\n",
        "num_epochs = 2000\n",
        "hist = np.zeros(num_epochs)\n",
        "start_time = time.time()\n",
        "\n",
        "for t in range(num_epochs):\n",
        "    y_train_pred = model(x_train,x_train)\n",
        "    loss = criterion(y_train_pred, y_train)\n",
        "    if t%100==0 or t==1999:\n",
        "      print(\"Epoch \", t, \"MAE: \", loss.item())\n",
        "    hist[t] = loss.item()\n",
        "    optimiser.zero_grad()\n",
        "    loss.backward()\n",
        "    optimiser.step()\n",
        "     \n",
        "training_time = time.time()-start_time\n",
        "print(\"Training time: {}\".format(training_time))"
      ],
      "execution_count": null,
      "outputs": [
        {
          "output_type": "stream",
          "name": "stderr",
          "text": [
            "/usr/local/lib/python3.7/dist-packages/torch/nn/modules/loss.py:96: UserWarning: Using a target size (torch.Size([2915])) that is different to the input size (torch.Size([2915, 1])). This will likely lead to incorrect results due to broadcasting. Please ensure they have the same size.\n",
            "  return F.l1_loss(input, target, reduction=self.reduction)\n"
          ]
        },
        {
          "output_type": "stream",
          "name": "stdout",
          "text": [
            "Epoch  0 MAE:  0.5292615294456482\n",
            "Epoch  100 MAE:  0.1898345798254013\n",
            "Epoch  200 MAE:  0.18937188386917114\n",
            "Epoch  300 MAE:  0.1893015056848526\n",
            "Epoch  400 MAE:  0.18926136195659637\n",
            "Epoch  500 MAE:  0.1898232251405716\n",
            "Epoch  600 MAE:  0.19023077189922333\n",
            "Epoch  700 MAE:  0.19026432931423187\n",
            "Epoch  800 MAE:  0.2737109959125519\n",
            "Epoch  900 MAE:  0.19112899899482727\n",
            "Epoch  1000 MAE:  0.1945371925830841\n",
            "Epoch  1100 MAE:  0.19270403683185577\n",
            "Epoch  1200 MAE:  0.19237352907657623\n",
            "Epoch  1300 MAE:  0.19537235796451569\n",
            "Epoch  1400 MAE:  0.19332373142242432\n",
            "Epoch  1500 MAE:  0.19271790981292725\n",
            "Epoch  1600 MAE:  0.19561348855495453\n",
            "Epoch  1700 MAE:  0.1935078650712967\n",
            "Epoch  1800 MAE:  0.19280949234962463\n",
            "Epoch  1900 MAE:  0.19567517936229706\n",
            "Epoch  1999 MAE:  0.19567763805389404\n",
            "Training time: 6564.989830732346\n"
          ]
        }
      ]
    },
    {
      "cell_type": "code",
      "source": [
        "import seaborn as sns\n",
        "fig = plt.figure()\n",
        "ax = sns.lineplot(data=hist, color='royalblue')\n",
        "ax.set_xlabel(\"Epoch\", size = 14)\n",
        "ax.set_ylabel(\"Loss\", size = 14)\n",
        "ax.set_title(\"Training Loss\", size = 14, fontweight='bold')\n",
        "fig.set_figheight(6)\n",
        "fig.set_figwidth(10)"
      ],
      "metadata": {
        "id": "Xa5jYeOTuU0J",
        "colab": {
          "base_uri": "https://localhost:8080/",
          "height": 409
        },
        "outputId": "5f2537ab-4cd5-4a16-f1c8-afc7364208cb"
      },
      "execution_count": null,
      "outputs": [
        {
          "output_type": "display_data",
          "data": {
            "text/plain": [
              "<Figure size 720x432 with 1 Axes>"
            ],
            "image/png": "[encoded data removed]"
          },
          "metadata": {
            "needs_background": "light"
          }
        }
      ]
    },
    {
      "cell_type": "markdown",
      "source": [
        "##Predict Test Data"
      ],
      "metadata": {
        "id": "jQDT2TWPsSUi"
      }
    },
    {
      "cell_type": "code",
      "source": [
        "y_test_pred = model(x_test,x_test)"
      ],
      "metadata": {
        "id": "s3yYmqOGqkei"
      },
      "execution_count": null,
      "outputs": []
    },
    {
      "cell_type": "code",
      "source": [
        "y_test_pred.shape"
      ],
      "metadata": {
        "id": "Rg8iYKQ1yo5O",
        "colab": {
          "base_uri": "https://localhost:8080/"
        },
        "outputId": "4fb87871-b3b7-4423-fb73-2cbe4cd1bd2d"
      },
      "execution_count": null,
      "outputs": [
        {
          "output_type": "execute_result",
          "data": {
            "text/plain": [
              "torch.Size([30, 1])"
            ]
          },
          "metadata": {},
          "execution_count": 22
        }
      ]
    },
    {
      "cell_type": "code",
      "metadata": {
        "id": "MdFQUeyT8rJ1"
      },
      "source": [
        "# y_pred_detached = y_test_pred.clone()\n",
        "# y_pred_detached = y_pred_detached.detach().numpy()\n",
        "# mae_3variable = mean_absolute_error(y_test[-20:], y_test_pred)"
      ],
      "execution_count": null,
      "outputs": []
    },
    {
      "cell_type": "code",
      "source": [
        "y_train_pred = scaler.inverse_transform(y_train_pred.detach().numpy())\n",
        "y_train = scaler.inverse_transform(y_train.reshape(-1,1).detach().numpy())\n",
        "y_test_pred = scaler.inverse_transform(y_test_pred.detach().numpy())\n",
        "y_test = scaler.inverse_transform(y_test.reshape(-1,1).detach().numpy())"
      ],
      "metadata": {
        "id": "3U7g1HHyCt2a"
      },
      "execution_count": null,
      "outputs": []
    },
    {
      "cell_type": "code",
      "source": [
        "mae_3variable = mean_absolute_error(y_test, y_test_pred)"
      ],
      "metadata": {
        "id": "AQLOh2-oifYq"
      },
      "execution_count": null,
      "outputs": []
    },
    {
      "cell_type": "code",
      "source": [
        "predicted = pd.DataFrame({'Predicted': y_test_pred[:, 0]})\n",
        "df3 = isat.copy()\n",
        "df3 = df3.set_index('Date')\n",
        "df3 = df3[-30:]\n",
        "df3 = df3[['Close']]\n",
        "df3.rename(columns = {'Close':'Actual'}, inplace = True)\n",
        "df3['Predicted (3 Variable)'] = predicted.values"
      ],
      "metadata": {
        "id": "YQvIpx-2CxVz"
      },
      "execution_count": null,
      "outputs": []
    },
    {
      "cell_type": "markdown",
      "source": [
        "##Plotting Test Result"
      ],
      "metadata": {
        "id": "fE-_c0C0sWc1"
      }
    },
    {
      "cell_type": "code",
      "source": [
        "df3.plot(y=[\"Actual\",\"Predicted (3 Variable)\"],\n",
        "        kind=\"line\", figsize=(10, 10),use_index=True)"
      ],
      "metadata": {
        "id": "xVHF6VqKGvdg",
        "colab": {
          "base_uri": "https://localhost:8080/",
          "height": 596
        },
        "outputId": "81cadfd9-1f22-4022-eb51-4794d84c434f"
      },
      "execution_count": null,
      "outputs": [
        {
          "output_type": "execute_result",
          "data": {
            "text/plain": [
              "<matplotlib.axes._subplots.AxesSubplot at 0x7f48c09def50>"
            ]
          },
          "metadata": {},
          "execution_count": 27
        },
        {
          "output_type": "display_data",
          "data": {
            "text/plain": [
              "<Figure size 720x720 with 1 Axes>"
            ],
            "image/png": "[encoded data removed]"
          },
          "metadata": {
            "needs_background": "light"
          }
        }
      ]
    },
    {
      "cell_type": "code",
      "source": [
        "tlkmDenorm = scaler.inverse_transform(priceTlkm)\n",
        "mean_absolute_error(tlkmDenorm[-30:], y_test_pred)"
      ],
      "metadata": {
        "id": "-xnAhMPPGHmg",
        "colab": {
          "base_uri": "https://localhost:8080/"
        },
        "outputId": "1fc54c14-6347-434f-b8be-af95db114105"
      },
      "execution_count": null,
      "outputs": [
        {
          "output_type": "execute_result",
          "data": {
            "text/plain": [
              "439.23454070487315"
            ]
          },
          "metadata": {},
          "execution_count": 28
        }
      ]
    },
    {
      "cell_type": "code",
      "source": [
        "isatDenorm = scaler.inverse_transform(priceIsat)\n",
        "mean_absolute_error(isatDenorm[-30:], y_test_pred)"
      ],
      "metadata": {
        "id": "F8QIsmhgtUfX",
        "colab": {
          "base_uri": "https://localhost:8080/"
        },
        "outputId": "9980d9a2-ad35-44af-aa9a-d928cfebd48e"
      },
      "execution_count": null,
      "outputs": [
        {
          "output_type": "execute_result",
          "data": {
            "text/plain": [
              "1904.1355696039525"
            ]
          },
          "metadata": {},
          "execution_count": 29
        }
      ]
    },
    {
      "cell_type": "code",
      "source": [
        "xlDenorm = scaler.inverse_transform(priceXl)\n",
        "mean_absolute_error(xlDenorm[-30:], y_test_pred)"
      ],
      "metadata": {
        "id": "SHq5-cmptISb",
        "colab": {
          "base_uri": "https://localhost:8080/"
        },
        "outputId": "588a94dc-4a3b-42e2-b615-e460ec35bab6"
      },
      "execution_count": null,
      "outputs": [
        {
          "output_type": "execute_result",
          "data": {
            "text/plain": [
              "1650.5179524739583"
            ]
          },
          "metadata": {},
          "execution_count": 30
        }
      ]
    },
    {
      "cell_type": "markdown",
      "source": [
        "#11 Variable Multivariat"
      ],
      "metadata": {
        "id": "y6BC_e7hP0iv"
      }
    },
    {
      "cell_type": "markdown",
      "source": [
        "##Prepare Dataset"
      ],
      "metadata": {
        "id": "HzO3GREzXVmM"
      }
    },
    {
      "cell_type": "code",
      "source": [
        "filenames = ['ADRO.csv','BBCA.csv','BBRI.csv','BMRI.csv','CENT.csv','EXCL.csv','GOLD.csv',\n",
        "             'ISAT.csv','PGAS.csv','PTBA.csv','TLKM.csv']"
      ],
      "metadata": {
        "id": "Ugt6jKnNI1Te"
      },
      "execution_count": null,
      "outputs": []
    },
    {
      "cell_type": "code",
      "source": [
        "for files in filenames:\n",
        "  globals()[f\"{files[:4].lower()}\"] = pd.read_csv(files,parse_dates=['Date'])\n",
        "  globals()[f\"{files[:4].lower()}\"] = globals()[f\"{files[:4].lower()}\"].set_index('Date')\n",
        "  globals()[f\"{files[:4].lower()}\"] = globals()[f\"{files[:4].lower()}\"]['2010-07-07' :'2021-09-24']\n",
        "  globals()[f\"{files[:4].lower()}\"] = globals()[f\"{files[:4].lower()}\"].dropna().reset_index()\n",
        "  \n",
        "bbca.drop(2226,inplace=True)\n",
        "gold.drop(2226, inplace= True)"
      ],
      "metadata": {
        "id": "i2DHRQXBJNs8"
      },
      "execution_count": null,
      "outputs": []
    },
    {
      "cell_type": "code",
      "source": [
        "# warnings.filterwarnings('ignore')\n",
        "warnings.simplefilter('ignore')\n",
        "scaler = MinMaxScaler(feature_range=(0, 1))\n",
        "for files in filenames:\n",
        "  globals()[f\"price_{files[:4].lower()}\"] = globals()[f\"{files[:4].lower()}\"][['Close']]\n",
        "  globals()[f\"price_{files[:4].lower()}\"]['Close'] = scaler.fit_transform(globals()[f\"price_{files[:4].lower()}\"]['Close'].values.reshape(-1,1))"
      ],
      "metadata": {
        "id": "4niLkdTBNaAj"
      },
      "execution_count": null,
      "outputs": []
    },
    {
      "cell_type": "code",
      "source": [
        "# i = 1\n",
        "# for files in filenames:\n",
        "#   globals()[f\"in_seq{i}\"] = globals()[f\"price_{files[:4].lower()}\"].to_numpy()\n",
        "#   globals()[f\"in_seq{i}\"] = globals()[f\"in_seq{i}\"].reshape(len(globals()[f\"in_seq{i}\"]),1)\n",
        "#   i+=1\n",
        "# out_seq = price_isat.to_numpy()\n",
        "# out_seq = out_seq.reshape(len(out_seq), 1)\n",
        "# dataset = hstack((in_seq1, in_seq2, in_seq3, in_seq4, in_seq5, in_seq6, in_seq7, in_seq8, in_seq9, in_seq10, in_seq11, out_seq))"
      ],
      "metadata": {
        "id": "jLiLf54DRIuu"
      },
      "execution_count": null,
      "outputs": []
    },
    {
      "cell_type": "code",
      "source": [
        "# def split_sequences(sequences, n_steps):\n",
        "#     X, y = list(), list()\n",
        "#     for i in range(len(sequences)):\n",
        "#         # find the end of this pattern\n",
        "#         end_ix = i + n_steps\n",
        "#         # check if we are beyond the dataset\n",
        "#         if end_ix > len(sequences):\n",
        "#             break\n",
        "#         # gather input and output parts of the pattern\n",
        "#         seq_x, seq_y = sequences[i:end_ix, :-1], sequences[end_ix-1, -1]\n",
        "#         X.append(seq_x)\n",
        "#         y.append(seq_y)\n",
        "#     return array(X), array(y)"
      ],
      "metadata": {
        "id": "kGvw4JVVYTQL"
      },
      "execution_count": null,
      "outputs": []
    },
    {
      "cell_type": "code",
      "source": [
        "# X, y = split_sequences(dataset, 20)\n",
        "# x_train, x_test, y_train, y_test = train_test_split(X, y, test_size=0.0108, shuffle=False)\n",
        "# x_train = torch.Tensor(x_train)\n",
        "# x_test = torch.Tensor(x_test)\n",
        "# y_train = torch.Tensor(y_train)\n",
        "# y_test = torch.Tensor(y_test)"
      ],
      "metadata": {
        "id": "n8KAnhpCRIed"
      },
      "execution_count": null,
      "outputs": []
    },
    {
      "cell_type": "code",
      "source": [
        "def split_data(stock, lookback):\n",
        "    data_raw = stock.to_numpy() # convert to numpy array\n",
        "    data = []\n",
        "    \n",
        "    # create all possible sequences of length seq_len\n",
        "    for index in range(len(data_raw) - lookback): \n",
        "        data.append(data_raw[index: index + lookback])\n",
        "\n",
        "    data = np.array(data);\n",
        "    test_set_size = int(30);\n",
        "    train_set_size = data.shape[0] - (test_set_size);\n",
        "    \n",
        "    x_train = data[:train_set_size,:-1,:]\n",
        "    y_train = data[:train_set_size,-1,:]\n",
        "    \n",
        "    x_test = data[train_set_size:,:-1]\n",
        "    y_test = data[train_set_size:,-1,:]\n",
        "    \n",
        "    return [x_train, y_train, x_test, y_test]"
      ],
      "metadata": {
        "id": "1eHqIlCfZXDC"
      },
      "execution_count": null,
      "outputs": []
    },
    {
      "cell_type": "code",
      "source": [
        "for files in filenames:\n",
        "  globals()[f\"x_train_{files[:4].lower()}\"], globals()[f\"y_train_{files[:4].lower()}\"], globals()[f\"x_test_{files[:4].lower()}\"], globals()[f\"y_test_{files[:4].lower()}\"] = split_data(globals()[f\"price_{files[:4].lower()}\"],21)\n",
        "  globals()[f\"x_train_{files[:4].lower()}\"] = torch.from_numpy(globals()[f\"x_train_{files[:4].lower()}\"]).type(torch.Tensor)\n",
        "  globals()[f\"y_train_{files[:4].lower()}\"] = torch.from_numpy(globals()[f\"y_train_{files[:4].lower()}\"]).type(torch.Tensor)\n",
        "  globals()[f\"x_test_{files[:4].lower()}\"] = torch.from_numpy(globals()[f\"x_test_{files[:4].lower()}\"]).type(torch.Tensor)\n",
        "  globals()[f\"y_test_{files[:4].lower()}\"] = torch.from_numpy(globals()[f\"y_test_{files[:4].lower()}\"]).type(torch.Tensor)"
      ],
      "metadata": {
        "id": "l-0GayMsZd8J"
      },
      "execution_count": null,
      "outputs": []
    },
    {
      "cell_type": "markdown",
      "source": [
        "##Build Model"
      ],
      "metadata": {
        "id": "IEbjst8VXZVy"
      }
    },
    {
      "cell_type": "code",
      "source": [
        "# class BiLSTM(nn.Module):\n",
        "  \n",
        "#     def __init__(self, input_dim, hidden_dim, num_layers, output_dim):\n",
        "#         super(BiLSTM, self).__init__()\n",
        "#         self.hidden_dim = hidden_dim\n",
        "#         self.num_layers = num_layers\n",
        "#         self.lstm = nn.LSTM(input_dim, hidden_dim, num_layers, batch_first=True, bidirectional = True)\n",
        "#         self.linear = nn.Linear(2*hidden_dim, output_dim)\n",
        "#         self.linear2 = nn.Linear(451,1)\n",
        "        \n",
        "#     def forward(self, x, y, future_preds=0):\n",
        "#         batch_size, seq_len, _ = x.size()\n",
        "#         h0 = torch.zeros(self.num_layers*2, x.size(0), self.hidden_dim).requires_grad_()\n",
        "#         c0 = torch.zeros(self.num_layers*2, x.size(0), self.hidden_dim).requires_grad_()\n",
        "#         out1, (hn, cn) = self.lstm(x, (h0.detach(), c0.detach()))\n",
        "#         out1 = out1[:, -1, :]\n",
        "#         out1 = self.linear(out1)\n",
        "#         out1 = out1.unsqueeze(2).expand(-1, -1, 11)\n",
        "#         out2 = y\n",
        "#         out = torch.cat((out2,out1),dim=1)\n",
        "#         out = out.contiguous().view(batch_size,-1)\n",
        "#         out = self.linear2(out)\n",
        "#         return out"
      ],
      "metadata": {
        "id": "yWENUhShWfjR"
      },
      "execution_count": null,
      "outputs": []
    },
    {
      "cell_type": "code",
      "source": [
        "class BiLSTM(nn.Module):\n",
        "  \n",
        "    def __init__(self, input_dim, hidden_dim, num_layers, output_dim):\n",
        "        super(BiLSTM, self).__init__()\n",
        "        self.hidden_dim = hidden_dim\n",
        "        self.num_layers = num_layers\n",
        "        self.lstm = nn.LSTM(input_dim, hidden_dim, num_layers, batch_first=True, bidirectional = True)\n",
        "        self.linear = nn.Linear(2*hidden_dim, output_dim)\n",
        "        \n",
        "    def forward(self, x):\n",
        "        h0 = torch.zeros(self.num_layers*2, x.size(0), self.hidden_dim).requires_grad_()\n",
        "        c0 = torch.zeros(self.num_layers*2, x.size(0), self.hidden_dim).requires_grad_()\n",
        "        out, (hn, cn) = self.lstm(x, (h0.detach(), c0.detach()))\n",
        "        out = out[:, -1, :]\n",
        "        out = self.linear(out)\n",
        "        return out"
      ],
      "metadata": {
        "id": "3QaXWU23PnBa"
      },
      "execution_count": null,
      "outputs": []
    },
    {
      "cell_type": "markdown",
      "source": [
        "##Hyperparameter Tuning"
      ],
      "metadata": {
        "id": "6ObYyKvQQnpH"
      }
    },
    {
      "cell_type": "code",
      "source": [
        "def build_model(params):\n",
        "  model = BiLSTM(input_dim=11, hidden_dim=params['hidden'], output_dim=1, num_layers=params['lstm'])\n",
        "  return model\n",
        "\n",
        "def train_model(params,model):\n",
        "  num_epochs = 300\n",
        "  criterion = torch.nn.L1Loss()\n",
        "  hist = np.zeros(num_epochs)\n",
        "  min_loss = 100\n",
        "  optimizer = getattr(optim, params['optimizer'])(model.parameters(), lr=0.001)\n",
        "  for t in range(num_epochs):\n",
        "    y_train_pred = model(x_train,x_train)\n",
        "    loss = criterion(y_train_pred, y_train)\n",
        "    if t%100==0 or t == 299:\n",
        "        print(\"Epoch \", t, \"MAE: \", loss.item())\n",
        "    hist[t] = loss.item()\n",
        "    optimizer.zero_grad()\n",
        "    loss.backward()\n",
        "    optimizer.step()\n",
        "    min_loss = hist.min()\n",
        "    # print(\"Hidden Layer:{}, LSTM: {}, Optimizer: {}, Min Mae: {}\".format(model.hidden_dim, model.num_layers, optimizer.__class__.__name__, min_loss))\n",
        "  return min_loss\n",
        "\n",
        "def objective(trial):\n",
        "     params = {\n",
        "              'optimizer': trial.suggest_categorical(\"optimizer\", [\"Adam\", \"RMSprop\", \"SGD\"]),\n",
        "              'lstm': trial.suggest_int(\"lstm\", 1, 3, 1),\n",
        "              'hidden': trial.suggest_int(\"hidden\",8, 32, 8)\n",
        "              }\n",
        "    \n",
        "     model = build_model(params)\n",
        "    \n",
        "     loss = train_model(params, model)\n",
        "\n",
        "     return loss"
      ],
      "metadata": {
        "id": "IQEIqEmvQq4d"
      },
      "execution_count": null,
      "outputs": []
    },
    {
      "cell_type": "code",
      "source": [
        "params = {\n",
        "              'optimizer': [\"Adam\", \"RMSprop\", \"SGD\"],\n",
        "              'lstm': [1,2,3],\n",
        "              'hidden': [8,16,32]\n",
        "              }\n",
        "study = optuna.create_study(direction=\"minimize\", sampler=optuna.samplers.GridSampler(params))\n",
        "study.optimize(objective, n_trials=27)"
      ],
      "metadata": {
        "colab": {
          "base_uri": "https://localhost:8080/"
        },
        "id": "HrDFVWNrR3B3",
        "outputId": "26e89ce1-be3c-4201-faed-8aec5115442a"
      },
      "execution_count": null,
      "outputs": [
        {
          "metadata": {
            "tags": null
          },
          "name": "stderr",
          "output_type": "stream",
          "text": [
            "\u001b[32m[I 2022-06-08 08:05:56,134]\u001b[0m A new study created in memory with name: no-name-81b2da9f-0bcb-4dfa-8ce1-ed0f028c9a8e\u001b[0m\n"
          ]
        },
        {
          "metadata": {
            "tags": null
          },
          "name": "stdout",
          "output_type": "stream",
          "text": [
            "Epoch  0 MAE:  0.41811126470565796\n",
            "Epoch  100 MAE:  0.21053901314735413\n",
            "Epoch  200 MAE:  0.20801115036010742\n",
            "Epoch  299 MAE:  0.20677751302719116\n"
          ]
        },
        {
          "metadata": {
            "tags": null
          },
          "name": "stderr",
          "output_type": "stream",
          "text": [
            "\u001b[32m[I 2022-06-08 08:09:44,639]\u001b[0m Trial 0 finished with value: 0.20677751302719116 and parameters: {'optimizer': 'SGD', 'lstm': 2, 'hidden': 16}. Best is trial 0 with value: 0.20677751302719116.\u001b[0m\n"
          ]
        },
        {
          "metadata": {
            "tags": null
          },
          "name": "stdout",
          "output_type": "stream",
          "text": [
            "Epoch  0 MAE:  1.124743103981018\n",
            "Epoch  100 MAE:  0.25646787881851196\n",
            "Epoch  200 MAE:  0.2159622311592102\n",
            "Epoch  299 MAE:  0.29401928186416626\n"
          ]
        },
        {
          "metadata": {
            "tags": null
          },
          "name": "stderr",
          "output_type": "stream",
          "text": [
            "\u001b[32m[I 2022-06-08 08:15:18,692]\u001b[0m Trial 1 finished with value: 0.2021394670009613 and parameters: {'optimizer': 'RMSprop', 'lstm': 3, 'hidden': 16}. Best is trial 1 with value: 0.2021394670009613.\u001b[0m\n"
          ]
        },
        {
          "metadata": {
            "tags": null
          },
          "name": "stdout",
          "output_type": "stream",
          "text": [
            "Epoch  0 MAE:  0.6502150893211365\n",
            "Epoch  100 MAE:  0.2026899755001068\n",
            "Epoch  200 MAE:  0.2024250030517578\n",
            "Epoch  299 MAE:  0.20976164937019348\n"
          ]
        },
        {
          "metadata": {
            "tags": null
          },
          "name": "stderr",
          "output_type": "stream",
          "text": [
            "\u001b[32m[I 2022-06-08 08:23:39,271]\u001b[0m Trial 2 finished with value: 0.19949254393577576 and parameters: {'optimizer': 'RMSprop', 'lstm': 2, 'hidden': 32}. Best is trial 2 with value: 0.19949254393577576.\u001b[0m\n"
          ]
        },
        {
          "metadata": {
            "tags": null
          },
          "name": "stdout",
          "output_type": "stream",
          "text": [
            "Epoch  0 MAE:  0.34387078881263733\n",
            "Epoch  100 MAE:  0.20869117975234985\n",
            "Epoch  200 MAE:  0.2062987983226776\n",
            "Epoch  299 MAE:  0.20537184178829193\n"
          ]
        },
        {
          "metadata": {
            "tags": null
          },
          "name": "stderr",
          "output_type": "stream",
          "text": [
            "\u001b[32m[I 2022-06-08 08:27:25,429]\u001b[0m Trial 3 finished with value: 0.20537184178829193 and parameters: {'optimizer': 'SGD', 'lstm': 3, 'hidden': 8}. Best is trial 2 with value: 0.19949254393577576.\u001b[0m\n"
          ]
        },
        {
          "metadata": {
            "tags": null
          },
          "name": "stdout",
          "output_type": "stream",
          "text": [
            "Epoch  0 MAE:  0.7638319730758667\n",
            "Epoch  100 MAE:  0.2100173532962799\n",
            "Epoch  200 MAE:  0.2076886147260666\n",
            "Epoch  299 MAE:  0.20656900107860565\n"
          ]
        },
        {
          "metadata": {
            "tags": null
          },
          "name": "stderr",
          "output_type": "stream",
          "text": [
            "\u001b[32m[I 2022-06-08 08:30:00,074]\u001b[0m Trial 4 finished with value: 0.20656900107860565 and parameters: {'optimizer': 'SGD', 'lstm': 2, 'hidden': 8}. Best is trial 2 with value: 0.19949254393577576.\u001b[0m\n"
          ]
        },
        {
          "metadata": {
            "tags": null
          },
          "name": "stdout",
          "output_type": "stream",
          "text": [
            "Epoch  0 MAE:  0.5622649788856506\n",
            "Epoch  100 MAE:  0.20434527099132538\n",
            "Epoch  200 MAE:  0.19924604892730713\n",
            "Epoch  299 MAE:  0.19902421534061432\n"
          ]
        },
        {
          "metadata": {
            "tags": null
          },
          "name": "stderr",
          "output_type": "stream",
          "text": [
            "\u001b[32m[I 2022-06-08 08:33:46,783]\u001b[0m Trial 5 finished with value: 0.1990230232477188 and parameters: {'optimizer': 'Adam', 'lstm': 1, 'hidden': 32}. Best is trial 5 with value: 0.1990230232477188.\u001b[0m\n"
          ]
        },
        {
          "metadata": {
            "tags": null
          },
          "name": "stdout",
          "output_type": "stream",
          "text": [
            "Epoch  0 MAE:  0.850306510925293\n",
            "Epoch  100 MAE:  0.20445981621742249\n",
            "Epoch  200 MAE:  0.20350384712219238\n"
          ]
        },
        {
          "metadata": {
            "tags": null
          },
          "name": "stderr",
          "output_type": "stream",
          "text": [
            "\u001b[32m[I 2022-06-08 08:35:35,201]\u001b[0m Trial 6 finished with value: 0.2025654911994934 and parameters: {'optimizer': 'Adam', 'lstm': 1, 'hidden': 16}. Best is trial 5 with value: 0.1990230232477188.\u001b[0m\n"
          ]
        },
        {
          "metadata": {
            "tags": null
          },
          "name": "stdout",
          "output_type": "stream",
          "text": [
            "Epoch  299 MAE:  0.2025654911994934\n",
            "Epoch  0 MAE:  0.5334216952323914\n",
            "Epoch  100 MAE:  0.218997985124588\n",
            "Epoch  200 MAE:  0.20230598747730255\n",
            "Epoch  299 MAE:  0.19984136521816254\n"
          ]
        },
        {
          "metadata": {
            "tags": null
          },
          "name": "stderr",
          "output_type": "stream",
          "text": [
            "\u001b[32m[I 2022-06-08 08:39:13,132]\u001b[0m Trial 7 finished with value: 0.19984136521816254 and parameters: {'optimizer': 'RMSprop', 'lstm': 2, 'hidden': 16}. Best is trial 5 with value: 0.1990230232477188.\u001b[0m\n"
          ]
        },
        {
          "metadata": {
            "tags": null
          },
          "name": "stdout",
          "output_type": "stream",
          "text": [
            "Epoch  0 MAE:  0.4301740825176239\n",
            "Epoch  100 MAE:  0.2031211405992508\n",
            "Epoch  200 MAE:  0.19975370168685913\n",
            "Epoch  299 MAE:  0.19950227439403534\n"
          ]
        },
        {
          "metadata": {
            "tags": null
          },
          "name": "stderr",
          "output_type": "stream",
          "text": [
            "\u001b[32m[I 2022-06-08 08:43:02,029]\u001b[0m Trial 8 finished with value: 0.19950227439403534 and parameters: {'optimizer': 'RMSprop', 'lstm': 3, 'hidden': 8}. Best is trial 5 with value: 0.1990230232477188.\u001b[0m\n"
          ]
        },
        {
          "metadata": {
            "tags": null
          },
          "name": "stdout",
          "output_type": "stream",
          "text": [
            "Epoch  0 MAE:  0.3842417299747467\n",
            "Epoch  100 MAE:  0.20008030533790588\n",
            "Epoch  200 MAE:  0.19906091690063477\n",
            "Epoch  299 MAE:  0.19893494248390198\n"
          ]
        },
        {
          "metadata": {
            "tags": null
          },
          "name": "stderr",
          "output_type": "stream",
          "text": [
            "\u001b[32m[I 2022-06-08 08:48:34,450]\u001b[0m Trial 9 finished with value: 0.19893494248390198 and parameters: {'optimizer': 'Adam', 'lstm': 3, 'hidden': 16}. Best is trial 9 with value: 0.19893494248390198.\u001b[0m\n"
          ]
        },
        {
          "metadata": {
            "tags": null
          },
          "name": "stdout",
          "output_type": "stream",
          "text": [
            "Epoch  0 MAE:  0.6265724897384644\n",
            "Epoch  100 MAE:  0.2059876173734665\n",
            "Epoch  200 MAE:  0.20369607210159302\n",
            "Epoch  299 MAE:  0.19918960332870483\n"
          ]
        },
        {
          "metadata": {
            "tags": null
          },
          "name": "stderr",
          "output_type": "stream",
          "text": [
            "\u001b[32m[I 2022-06-08 09:01:54,811]\u001b[0m Trial 10 finished with value: 0.19915053248405457 and parameters: {'optimizer': 'Adam', 'lstm': 3, 'hidden': 32}. Best is trial 9 with value: 0.19893494248390198.\u001b[0m\n"
          ]
        },
        {
          "metadata": {
            "tags": null
          },
          "name": "stdout",
          "output_type": "stream",
          "text": [
            "Epoch  0 MAE:  0.42782485485076904\n",
            "Epoch  100 MAE:  0.2044783979654312\n",
            "Epoch  200 MAE:  0.20588147640228271\n",
            "Epoch  299 MAE:  0.20027290284633636\n"
          ]
        },
        {
          "metadata": {
            "tags": null
          },
          "name": "stderr",
          "output_type": "stream",
          "text": [
            "\u001b[32m[I 2022-06-08 09:04:34,308]\u001b[0m Trial 11 finished with value: 0.20027290284633636 and parameters: {'optimizer': 'RMSprop', 'lstm': 2, 'hidden': 8}. Best is trial 9 with value: 0.19893494248390198.\u001b[0m\n"
          ]
        },
        {
          "metadata": {
            "tags": null
          },
          "name": "stdout",
          "output_type": "stream",
          "text": [
            "Epoch  0 MAE:  0.4394996166229248\n",
            "Epoch  100 MAE:  0.20611339807510376\n",
            "Epoch  200 MAE:  0.20501266419887543\n",
            "Epoch  299 MAE:  0.20457550883293152\n"
          ]
        },
        {
          "metadata": {
            "tags": null
          },
          "name": "stderr",
          "output_type": "stream",
          "text": [
            "\u001b[32m[I 2022-06-08 09:10:30,664]\u001b[0m Trial 12 finished with value: 0.20457550883293152 and parameters: {'optimizer': 'SGD', 'lstm': 3, 'hidden': 16}. Best is trial 9 with value: 0.19893494248390198.\u001b[0m\n"
          ]
        },
        {
          "metadata": {
            "tags": null
          },
          "name": "stdout",
          "output_type": "stream",
          "text": [
            "Epoch  0 MAE:  0.6282947063446045\n",
            "Epoch  100 MAE:  0.21046271920204163\n",
            "Epoch  200 MAE:  0.20834310352802277\n",
            "Epoch  299 MAE:  0.2073473185300827\n"
          ]
        },
        {
          "metadata": {
            "tags": null
          },
          "name": "stderr",
          "output_type": "stream",
          "text": [
            "\u001b[32m[I 2022-06-08 09:14:24,405]\u001b[0m Trial 13 finished with value: 0.2073473185300827 and parameters: {'optimizer': 'SGD', 'lstm': 1, 'hidden': 32}. Best is trial 9 with value: 0.19893494248390198.\u001b[0m\n"
          ]
        },
        {
          "metadata": {
            "tags": null
          },
          "name": "stdout",
          "output_type": "stream",
          "text": [
            "Epoch  0 MAE:  0.6023129820823669\n",
            "Epoch  100 MAE:  0.1995556503534317\n",
            "Epoch  200 MAE:  0.19899621605873108\n",
            "Epoch  299 MAE:  0.1989387571811676\n"
          ]
        },
        {
          "metadata": {
            "tags": null
          },
          "name": "stderr",
          "output_type": "stream",
          "text": [
            "\u001b[32m[I 2022-06-08 09:18:00,713]\u001b[0m Trial 14 finished with value: 0.19893771409988403 and parameters: {'optimizer': 'Adam', 'lstm': 2, 'hidden': 16}. Best is trial 9 with value: 0.19893494248390198.\u001b[0m\n"
          ]
        },
        {
          "metadata": {
            "tags": null
          },
          "name": "stdout",
          "output_type": "stream",
          "text": [
            "Epoch  0 MAE:  0.3113913834095001\n",
            "Epoch  100 MAE:  0.21003635227680206\n",
            "Epoch  200 MAE:  0.20229768753051758\n"
          ]
        },
        {
          "metadata": {
            "tags": null
          },
          "name": "stderr",
          "output_type": "stream",
          "text": [
            "\u001b[32m[I 2022-06-08 09:19:27,040]\u001b[0m Trial 15 finished with value: 0.20111532509326935 and parameters: {'optimizer': 'RMSprop', 'lstm': 1, 'hidden': 8}. Best is trial 9 with value: 0.19893494248390198.\u001b[0m\n"
          ]
        },
        {
          "output_type": "stream",
          "name": "stdout",
          "text": [
            "Epoch  299 MAE:  0.20111532509326935\n",
            "Epoch  0 MAE:  0.5974480509757996\n",
            "Epoch  100 MAE:  0.21207399666309357\n",
            "Epoch  200 MAE:  0.20940415561199188\n",
            "Epoch  299 MAE:  0.20786726474761963\n"
          ]
        },
        {
          "output_type": "stream",
          "name": "stderr",
          "text": [
            "\u001b[32m[I 2022-06-08 09:32:47,633]\u001b[0m Trial 16 finished with value: 0.20786726474761963 and parameters: {'optimizer': 'SGD', 'lstm': 3, 'hidden': 32}. Best is trial 9 with value: 0.19893494248390198.\u001b[0m\n"
          ]
        },
        {
          "output_type": "stream",
          "name": "stdout",
          "text": [
            "Epoch  0 MAE:  0.5074066519737244\n",
            "Epoch  100 MAE:  0.20196713507175446\n",
            "Epoch  200 MAE:  0.19903124868869781\n",
            "Epoch  299 MAE:  0.19893482327461243\n"
          ]
        },
        {
          "output_type": "stream",
          "name": "stderr",
          "text": [
            "\u001b[32m[I 2022-06-08 09:41:54,945]\u001b[0m Trial 17 finished with value: 0.19893482327461243 and parameters: {'optimizer': 'Adam', 'lstm': 2, 'hidden': 32}. Best is trial 17 with value: 0.19893482327461243.\u001b[0m\n"
          ]
        },
        {
          "output_type": "stream",
          "name": "stdout",
          "text": [
            "Epoch  0 MAE:  0.3944821357727051\n",
            "Epoch  100 MAE:  0.20209600031375885\n",
            "Epoch  200 MAE:  0.19919702410697937\n",
            "Epoch  299 MAE:  0.19898167252540588\n"
          ]
        },
        {
          "output_type": "stream",
          "name": "stderr",
          "text": [
            "\u001b[32m[I 2022-06-08 09:44:27,902]\u001b[0m Trial 18 finished with value: 0.19898167252540588 and parameters: {'optimizer': 'Adam', 'lstm': 2, 'hidden': 8}. Best is trial 17 with value: 0.19893482327461243.\u001b[0m\n"
          ]
        },
        {
          "output_type": "stream",
          "name": "stdout",
          "text": [
            "Epoch  0 MAE:  0.24708829820156097\n",
            "Epoch  100 MAE:  0.19990164041519165\n",
            "Epoch  200 MAE:  0.1990424543619156\n"
          ]
        },
        {
          "output_type": "stream",
          "name": "stderr",
          "text": [
            "\u001b[32m[I 2022-06-08 09:45:51,915]\u001b[0m Trial 19 finished with value: 0.19892650842666626 and parameters: {'optimizer': 'Adam', 'lstm': 1, 'hidden': 8}. Best is trial 19 with value: 0.19892650842666626.\u001b[0m\n"
          ]
        },
        {
          "output_type": "stream",
          "name": "stdout",
          "text": [
            "Epoch  299 MAE:  0.19892650842666626\n",
            "Epoch  0 MAE:  0.6725202798843384\n",
            "Epoch  100 MAE:  0.2146848440170288\n",
            "Epoch  200 MAE:  0.21026448905467987\n"
          ]
        },
        {
          "output_type": "stream",
          "name": "stderr",
          "text": [
            "\u001b[32m[I 2022-06-08 09:47:15,142]\u001b[0m Trial 20 finished with value: 0.2084392011165619 and parameters: {'optimizer': 'SGD', 'lstm': 1, 'hidden': 8}. Best is trial 19 with value: 0.19892650842666626.\u001b[0m\n"
          ]
        },
        {
          "output_type": "stream",
          "name": "stdout",
          "text": [
            "Epoch  299 MAE:  0.2084392011165619\n",
            "Epoch  0 MAE:  0.7590779066085815\n",
            "Epoch  100 MAE:  0.20669852197170258\n",
            "Epoch  200 MAE:  0.20485703647136688\n"
          ]
        },
        {
          "output_type": "stream",
          "name": "stderr",
          "text": [
            "\u001b[32m[I 2022-06-08 09:49:04,795]\u001b[0m Trial 21 finished with value: 0.20404665172100067 and parameters: {'optimizer': 'SGD', 'lstm': 1, 'hidden': 16}. Best is trial 19 with value: 0.19892650842666626.\u001b[0m\n"
          ]
        },
        {
          "output_type": "stream",
          "name": "stdout",
          "text": [
            "Epoch  299 MAE:  0.20404665172100067\n",
            "Epoch  0 MAE:  0.32542654871940613\n",
            "Epoch  100 MAE:  0.21847259998321533\n",
            "Epoch  200 MAE:  0.2028069943189621\n",
            "Epoch  299 MAE:  0.202461376786232\n"
          ]
        },
        {
          "output_type": "stream",
          "name": "stderr",
          "text": [
            "\u001b[32m[I 2022-06-08 10:03:11,128]\u001b[0m Trial 22 finished with value: 0.202461376786232 and parameters: {'optimizer': 'RMSprop', 'lstm': 3, 'hidden': 32}. Best is trial 19 with value: 0.19892650842666626.\u001b[0m\n"
          ]
        },
        {
          "output_type": "stream",
          "name": "stdout",
          "text": [
            "Epoch  0 MAE:  0.6583175659179688\n",
            "Epoch  100 MAE:  0.20378606021404266\n",
            "Epoch  200 MAE:  0.2025826871395111\n",
            "Epoch  299 MAE:  0.20084477961063385\n"
          ]
        },
        {
          "output_type": "stream",
          "name": "stderr",
          "text": [
            "\u001b[32m[I 2022-06-08 10:05:03,963]\u001b[0m Trial 23 finished with value: 0.20084477961063385 and parameters: {'optimizer': 'RMSprop', 'lstm': 1, 'hidden': 16}. Best is trial 19 with value: 0.19892650842666626.\u001b[0m\n"
          ]
        },
        {
          "output_type": "stream",
          "name": "stdout",
          "text": [
            "Epoch  0 MAE:  0.8115749359130859\n",
            "Epoch  100 MAE:  0.21602390706539154\n",
            "Epoch  200 MAE:  0.21008847653865814\n",
            "Epoch  299 MAE:  0.2081085443496704\n"
          ]
        },
        {
          "output_type": "stream",
          "name": "stderr",
          "text": [
            "\u001b[32m[I 2022-06-08 10:15:16,261]\u001b[0m Trial 24 finished with value: 0.2081085443496704 and parameters: {'optimizer': 'SGD', 'lstm': 2, 'hidden': 32}. Best is trial 19 with value: 0.19892650842666626.\u001b[0m\n"
          ]
        },
        {
          "output_type": "stream",
          "name": "stdout",
          "text": [
            "Epoch  0 MAE:  0.23452480137348175\n",
            "Epoch  100 MAE:  0.19955754280090332\n",
            "Epoch  200 MAE:  0.19892190396785736\n",
            "Epoch  299 MAE:  0.19886864721775055\n"
          ]
        },
        {
          "output_type": "stream",
          "name": "stderr",
          "text": [
            "\u001b[32m[I 2022-06-08 10:19:09,988]\u001b[0m Trial 25 finished with value: 0.19886864721775055 and parameters: {'optimizer': 'Adam', 'lstm': 3, 'hidden': 8}. Best is trial 25 with value: 0.19886864721775055.\u001b[0m\n"
          ]
        },
        {
          "output_type": "stream",
          "name": "stdout",
          "text": [
            "Epoch  0 MAE:  0.733119547367096\n",
            "Epoch  100 MAE:  0.20328496396541595\n",
            "Epoch  200 MAE:  0.20202645659446716\n",
            "Epoch  299 MAE:  0.20007659494876862\n"
          ]
        },
        {
          "output_type": "stream",
          "name": "stderr",
          "text": [
            "\u001b[32m[I 2022-06-08 10:23:02,539]\u001b[0m Trial 26 finished with value: 0.20007659494876862 and parameters: {'optimizer': 'RMSprop', 'lstm': 1, 'hidden': 32}. Best is trial 25 with value: 0.19886864721775055.\u001b[0m\n"
          ]
        }
      ]
    },
    {
      "cell_type": "code",
      "source": [
        "hyperparameter_tuning_20_seq = study.trials_dataframe()\n",
        "hyperparameter_tuning_20_seq = hyperparameter_tuning_20_seq[['params_lstm','params_optimizer','params_hidden','value']]\n",
        "hyperparameter_tuning_20_seq = hyperparameter_tuning_20_seq.sort_values(by=['value']).reset_index()\n",
        "hyperparameter_tuning_20_seq.drop('index',axis=1,inplace=True)\n",
        "hyperparameter_tuning_20_seq.head()\n",
        "hyperparameter_tuning_20_seq.to_excel('Multivariate Hyperparameter Tuning 20 Sequences.xlsx')\n",
        "hyperparameter_tuning_20_seq.to_csv('htune20.csv')"
      ],
      "metadata": {
        "id": "zErBX-2_ScrO"
      },
      "execution_count": null,
      "outputs": []
    },
    {
      "cell_type": "code",
      "source": [
        "hyperparameter_tuning_30_seq = study.trials_dataframe()\n",
        "hyperparameter_tuning_30_seq = hyperparameter_tuning_30_seq[['params_lstm','params_optimizer','params_hidden','value']]\n",
        "hyperparameter_tuning_30_seq = hyperparameter_tuning_30_seq.sort_values(by=['value']).reset_index()\n",
        "hyperparameter_tuning_30_seq.drop('index',axis=1,inplace=True)\n",
        "hyperparameter_tuning_30_seq.head()\n",
        "hyperparameter_tuning_30_seq.to_excel('Multivariate Hyperparameter Tuning 30 Sequences.xlsx')\n",
        "hyperparameter_tuning_30_seq.to_csv('htune20.csv')"
      ],
      "metadata": {
        "id": "NfFXv8oT-KfG"
      },
      "execution_count": null,
      "outputs": []
    },
    {
      "cell_type": "code",
      "source": [
        "hyperparameter_tuning_40_seq = study.trials_dataframe()\n",
        "hyperparameter_tuning_40_seq = hyperparameter_tuning_40_seq[['params_lstm','params_optimizer','params_hidden','value']]\n",
        "hyperparameter_tuning_40_seq = hyperparameter_tuning_40_seq.sort_values(by=['value']).reset_index()\n",
        "hyperparameter_tuning_40_seq.drop('index',axis=1,inplace=True)\n",
        "hyperparameter_tuning_40_seq.head()\n",
        "hyperparameter_tuning_40_seq.to_excel('Multivariate Hyperparameter Tuning 40 Sequences.xlsx')\n",
        "hyperparameter_tuning_40_seq.to_csv('htune20.csv')"
      ],
      "metadata": {
        "id": "7zUS4wR8WOvB"
      },
      "execution_count": null,
      "outputs": []
    },
    {
      "cell_type": "code",
      "source": [
        "from google.colab import files\n",
        "hyperparameter_tuning_40_seq = study.trials_dataframe()\n",
        "hyperparameter_tuning_40_seq = hyperparameter_tuning_40_seq[['params_lstm','params_optimizer','params_hidden','value']]\n",
        "hyperparameter_tuning_40_seq = hyperparameter_tuning_40_seq.sort_values(by=['value']).reset_index()\n",
        "hyperparameter_tuning_40_seq.drop('index',axis=1,inplace=True)\n",
        "hyperparameter_tuning_40_seq.head()\n",
        "hyperparameter_tuning_40_seq.to_excel('Multivariate Hyperparameter Tuning 40 Sequences.xlsx')\n",
        "files.download('Multivariate Hyperparameter Tuning 40 Sequences.xlsx')"
      ],
      "metadata": {
        "colab": {
          "base_uri": "https://localhost:8080/",
          "height": 34
        },
        "id": "pmjpYAHGkX26",
        "outputId": "30fd504e-de3b-4602-baa5-657aa8296d6a"
      },
      "execution_count": null,
      "outputs": [
        {
          "output_type": "display_data",
          "data": {
            "text/plain": [
              "<IPython.core.display.Javascript object>"
            ],
            "application/javascript": [
              "\n",
              "    async function download(id, filename, size) {\n",
              "      if (!google.colab.kernel.accessAllowed) {\n",
              "        return;\n",
              "      }\n",
              "      const div = document.createElement('div');\n",
              "      const label = document.createElement('label');\n",
              "      label.textContent = `Downloading \"${filename}\": `;\n",
              "      div.appendChild(label);\n",
              "      const progress = document.createElement('progress');\n",
              "      progress.max = size;\n",
              "      div.appendChild(progress);\n",
              "      document.body.appendChild(div);\n",
              "\n",
              "      const buffers = [];\n",
              "      let downloaded = 0;\n",
              "\n",
              "      const channel = await google.colab.kernel.comms.open(id);\n",
              "      // Send a message to notify the kernel that we're ready.\n",
              "      channel.send({})\n",
              "\n",
              "      for await (const message of channel.messages) {\n",
              "        // Send a message to notify the kernel that we're ready.\n",
              "        channel.send({})\n",
              "        if (message.buffers) {\n",
              "          for (const buffer of message.buffers) {\n",
              "            buffers.push(buffer);\n",
              "            downloaded += buffer.byteLength;\n",
              "            progress.value = downloaded;\n",
              "          }\n",
              "        }\n",
              "      }\n",
              "      const blob = new Blob(buffers, {type: 'application/binary'});\n",
              "      const a = document.createElement('a');\n",
              "      a.href = window.URL.createObjectURL(blob);\n",
              "      a.download = filename;\n",
              "      div.appendChild(a);\n",
              "      a.click();\n",
              "      div.remove();\n",
              "    }\n",
              "  "
            ]
          },
          "metadata": {}
        },
        {
          "output_type": "display_data",
          "data": {
            "text/plain": [
              "<IPython.core.display.Javascript object>"
            ],
            "application/javascript": [
              "download(\"download_2ba1c1cb-29d4-4635-8286-effdd9b43ef0\", \"Multivariate Hyperparameter Tuning 40 Sequences.xlsx\", 5880)"
            ]
          },
          "metadata": {}
        }
      ]
    },
    {
      "cell_type": "markdown",
      "source": [
        "##Train Univariate"
      ],
      "metadata": {
        "id": "2kXtYYgubBnG"
      }
    },
    {
      "cell_type": "code",
      "source": [
        "model = BiLSTM(input_dim=1, hidden_dim=32, output_dim=1, num_layers=2)\n",
        "criterion = torch.nn.L1Loss(reduction='mean')\n",
        "optimiser = torch.optim.Adam(model.parameters(), lr=0.01)"
      ],
      "metadata": {
        "id": "APYgvMGTbFMx"
      },
      "execution_count": null,
      "outputs": []
    },
    {
      "cell_type": "code",
      "source": [
        "num_epochs = 100\n",
        "hist = np.zeros(num_epochs)\n",
        "for t in range(num_epochs):\n",
        "  y_train_pred = model(x_train_tlkm)\n",
        "  loss = criterion(y_train_pred, y_train_tlkm)\n",
        "  if t%10==0 or t==99:\n",
        "    print(\"Epoch \", t, \"MAE: \", loss.item())\n",
        "  hist[t] = loss.item()\n",
        "  optimiser.zero_grad()\n",
        "  loss.backward()\n",
        "  optimiser.step()"
      ],
      "metadata": {
        "colab": {
          "base_uri": "https://localhost:8080/"
        },
        "id": "x7PKn0tkbHrE",
        "outputId": "ad4683f9-6029-419c-bd3a-300edfa23380"
      },
      "execution_count": null,
      "outputs": [
        {
          "output_type": "stream",
          "name": "stdout",
          "text": [
            "Epoch  0 MAE:  0.43128737807273865\n",
            "Epoch  10 MAE:  0.21605466306209564\n",
            "Epoch  20 MAE:  0.17636638879776\n",
            "Epoch  30 MAE:  0.04976651445031166\n",
            "Epoch  40 MAE:  0.023374339565634727\n",
            "Epoch  50 MAE:  0.017364760860800743\n",
            "Epoch  60 MAE:  0.01596168987452984\n",
            "Epoch  70 MAE:  0.013404236175119877\n",
            "Epoch  80 MAE:  0.012445768341422081\n",
            "Epoch  90 MAE:  0.012004821561276913\n",
            "Epoch  99 MAE:  0.012209142558276653\n"
          ]
        }
      ]
    },
    {
      "cell_type": "code",
      "source": [
        "future = 5\n",
        "lookback = 20\n",
        "model.eval()\n",
        "x_train = torch.FloatTensor(x_train_tlkm).view(-1)\n",
        "test_inputs = list(x_train[-lookback:])\n",
        "for i in range(future):\n",
        "  test_seq = [[[a] for a in test_inputs[-lookback:]]]\n",
        "  test_seq = torch.FloatTensor(test_seq)\n",
        "  with torch.no_grad():\n",
        "    test_inputs.append(model(test_seq).item())"
      ],
      "metadata": {
        "id": "TOlx4-kPb7U-"
      },
      "execution_count": null,
      "outputs": []
    },
    {
      "cell_type": "code",
      "source": [
        "test_actual = y_test_tlkm[:future]\n",
        "test_actual = scaler.inverse_transform(np.array(test_actual).reshape(-1, 1)).flatten()\n",
        "test_pred = scaler.inverse_transform(np.array(test_inputs).reshape(-1, 1)).flatten()\n",
        "test_pred = test_pred[-future:]"
      ],
      "metadata": {
        "id": "NsHdBls0cFGS"
      },
      "execution_count": null,
      "outputs": []
    },
    {
      "cell_type": "code",
      "source": [
        "mean_absolute_error(test_actual,test_pred)"
      ],
      "metadata": {
        "colab": {
          "base_uri": "https://localhost:8080/"
        },
        "id": "P5kCqBdycHsl",
        "outputId": "3f970156-054b-4e2a-e266-1524c038a4c8"
      },
      "execution_count": null,
      "outputs": [
        {
          "output_type": "execute_result",
          "data": {
            "text/plain": [
              "49.22108459472656"
            ]
          },
          "metadata": {},
          "execution_count": 69
        }
      ]
    },
    {
      "cell_type": "markdown",
      "source": [
        "##Train Multivariate Model"
      ],
      "metadata": {
        "id": "z2TWaFwTXam5"
      }
    },
    {
      "cell_type": "code",
      "source": [
        "model = BiLSTM(input_dim=11, hidden_dim=32, output_dim=1, num_layers=2)\n",
        "criterion = torch.nn.L1Loss(reduction='mean')\n",
        "optimiser = torch.optim.Adam(model.parameters(), lr=0.001)"
      ],
      "metadata": {
        "id": "9IN3XNJqXnI9"
      },
      "execution_count": null,
      "outputs": []
    },
    {
      "cell_type": "code",
      "source": [
        "import time\n",
        "num_epochs = 1\n",
        "hist = np.zeros(num_epochs)\n",
        "start_time = time.time()\n",
        "for t in range(num_epochs):\n",
        "  y_train_pred = model(x_train)\n",
        "  loss = criterion(y_train_pred, y_train)\n",
        "  if t%100==0 or t == 699:\n",
        "    print(\"Epoch \", t, \"MAE: \", loss.item())\n",
        "  hist[t] = loss.item()\n",
        "  optimiser.zero_grad()\n",
        "  loss.backward()\n",
        "  optimiser.step()\n",
        "training_time = time.time()-start_time\n",
        "print(\"Training time: {}\".format(training_time))"
      ],
      "metadata": {
        "id": "1WXmplY6X4Gp",
        "colab": {
          "base_uri": "https://localhost:8080/"
        },
        "outputId": "277082b7-8d45-45eb-81e6-3f3d55fce10e"
      },
      "execution_count": null,
      "outputs": [
        {
          "output_type": "stream",
          "name": "stdout",
          "text": [
            "Epoch  0 MAE:  0.5898420810699463\n",
            "Training time: 0.8718454837799072\n"
          ]
        }
      ]
    },
    {
      "cell_type": "code",
      "source": [
        "x_train.shape"
      ],
      "metadata": {
        "colab": {
          "base_uri": "https://localhost:8080/"
        },
        "id": "78dG-MbKQAtS",
        "outputId": "dae13b71-75c6-4965-984d-759b54e8f404"
      },
      "execution_count": null,
      "outputs": [
        {
          "output_type": "execute_result",
          "data": {
            "text/plain": [
              "torch.Size([2734, 20, 11])"
            ]
          },
          "metadata": {},
          "execution_count": 74
        }
      ]
    },
    {
      "cell_type": "code",
      "source": [
        "import seaborn as sns\n",
        "fig = plt.figure()\n",
        "ax = sns.lineplot(data=hist, color='royalblue')\n",
        "ax.set_xlabel(\"Epoch\", size = 14)\n",
        "ax.set_ylabel(\"Loss\", size = 14)\n",
        "ax.set_title(\"Training Loss\", size = 14, fontweight='bold')\n",
        "fig.set_figheight(6)\n",
        "fig.set_figwidth(10)"
      ],
      "metadata": {
        "id": "VNs5_1mOqiuY"
      },
      "execution_count": null,
      "outputs": []
    },
    {
      "cell_type": "markdown",
      "source": [
        "##Train"
      ],
      "metadata": {
        "id": "St7l_aeDPrwm"
      }
    },
    {
      "cell_type": "code",
      "source": [
        "model = BiLSTM(input_dim=11, hidden_dim=32, output_dim=1, num_layers=2)\n",
        "criterion = torch.nn.L1Loss(reduction='mean')\n",
        "optimiser = torch.optim.Adam(model.parameters(), lr=0.001)"
      ],
      "metadata": {
        "id": "yEues7vSPuuq"
      },
      "execution_count": null,
      "outputs": []
    },
    {
      "cell_type": "code",
      "source": [
        "num_epochs = 100\n",
        "lookback = 20\n",
        "future = 5\n",
        "hist = np.zeros(num_epochs)\n",
        "for i in range(10):\n",
        "  print(\"Percobaan Ke\",i+1)\n",
        "  model = BiLSTM(input_dim=11, hidden_dim=32, output_dim=1, num_layers=2)\n",
        "  criterion = torch.nn.L1Loss(reduction='mean')\n",
        "  optimiser = torch.optim.Adam(model.parameters(), lr=0.01)\n",
        "  for t in range(num_epochs):\n",
        "    y_train_pred = model(x_train)\n",
        "    loss = criterion(y_train_pred, y_train)\n",
        "    if t%10==0 or t==99:\n",
        "      print(\"Epoch \", t, \"MAE: \", loss.item())\n",
        "    hist[t] = loss.item()\n",
        "    optimiser.zero_grad()\n",
        "    loss.backward()\n",
        "    optimiser.step()\n",
        "  train_denormalized = scaler.inverse_transform(y_train_pred.detach().numpy())\n",
        "  if i == 0:\n",
        "    train1 = pd.DataFrame({'Train 1':train_denormalized[-20:,0]})\n",
        "    model.eval()\n",
        "    x_test = torch.FloatTensor(x_train[-1:,-lookback:,:])\n",
        "    predicted = []\n",
        "    for i in range(future):\n",
        "      input = torch.FloatTensor(x_test[-1:,-lookback:,:])\n",
        "      with torch.no_grad():\n",
        "        out = model(input)\n",
        "        out = out.unsqueeze(2).expand(-1, -1, 11)\n",
        "        x_test = torch.cat((x_test,out),dim=1)\n",
        "        predicted.append(out[0][0][0].item())\n",
        "    test_pred = scaler.inverse_transform(np.array(predicted).reshape(-1, 1)).flatten()\n",
        "    test_pred = test_pred[-future:]\n",
        "    test1 = pd.DataFrame({'Tes 1':test_pred})\n",
        "  elif i == 1:\n",
        "    train2 = pd.DataFrame({'Train 2':train_denormalized[-20:,0]})\n",
        "    model.eval()\n",
        "    x_test = torch.FloatTensor(x_train[-1:,-lookback:,:])\n",
        "    predicted = []\n",
        "    for i in range(future):\n",
        "      input = torch.FloatTensor(x_test[-1:,-lookback:,:])\n",
        "      with torch.no_grad():\n",
        "        out = model(input)\n",
        "        out = out.unsqueeze(2).expand(-1, -1, 11)\n",
        "        x_test = torch.cat((x_test,out),dim=1)\n",
        "        predicted.append(out[0][0][0].item())\n",
        "    test_pred = scaler.inverse_transform(np.array(predicted).reshape(-1, 1)).flatten()\n",
        "    test_pred = test_pred[-future:]\n",
        "    test2 = pd.DataFrame({'Tes 2':test_pred})\n",
        "  elif i == 2:\n",
        "    train3 = pd.DataFrame({'Train 3':train_denormalized[-20:,0]})\n",
        "    model.eval()\n",
        "    x_test = torch.FloatTensor(x_train[-1:,-lookback:,:])\n",
        "    predicted = []\n",
        "    for i in range(future):\n",
        "      input = torch.FloatTensor(x_test[-1:,-lookback:,:])\n",
        "      with torch.no_grad():\n",
        "        out = model(input)\n",
        "        out = out.unsqueeze(2).expand(-1, -1, 11)\n",
        "        x_test = torch.cat((x_test,out),dim=1)\n",
        "        predicted.append(out[0][0][0].item())\n",
        "    test_pred = scaler.inverse_transform(np.array(predicted).reshape(-1, 1)).flatten()\n",
        "    test_pred = test_pred[-future:]\n",
        "    test3 = pd.DataFrame({'Tes 3':test_pred})\n",
        "  elif i == 3:\n",
        "    train4 = pd.DataFrame({'Train 4':train_denormalized[-20:,0]})\n",
        "    model.eval()\n",
        "    x_test = torch.FloatTensor(x_train[-1:,-lookback:,:])\n",
        "    predicted = []\n",
        "    for i in range(future):\n",
        "      input = torch.FloatTensor(x_test[-1:,-lookback:,:])\n",
        "      with torch.no_grad():\n",
        "        out = model(input)\n",
        "        out = out.unsqueeze(2).expand(-1, -1, 11)\n",
        "        x_test = torch.cat((x_test,out),dim=1)\n",
        "        predicted.append(out[0][0][0].item())\n",
        "    test_pred = scaler.inverse_transform(np.array(predicted).reshape(-1, 1)).flatten()\n",
        "    test_pred = test_pred[-future:]\n",
        "    test4 = pd.DataFrame({'Tes 4':test_pred})\n",
        "  elif i == 4:\n",
        "    train5 = pd.DataFrame({'Train 5':train_denormalized[-20:,0]})\n",
        "    model.eval()\n",
        "    x_test = torch.FloatTensor(x_train[-1:,-lookback:,:])\n",
        "    predicted = []\n",
        "    for i in range(future):\n",
        "      input = torch.FloatTensor(x_test[-1:,-lookback:,:])\n",
        "      with torch.no_grad():\n",
        "        out = model(input)\n",
        "        out = out.unsqueeze(2).expand(-1, -1, 11)\n",
        "        x_test = torch.cat((x_test,out),dim=1)\n",
        "        predicted.append(out[0][0][0].item())\n",
        "    test_pred = scaler.inverse_transform(np.array(predicted).reshape(-1, 1)).flatten()\n",
        "    test_pred = test_pred[-future:]\n",
        "    test5 = pd.DataFrame({'Tes 5':test_pred})\n",
        "  elif i == 5:\n",
        "    train6 = pd.DataFrame({'Train 6':train_denormalized[-20:,0]})\n",
        "    model.eval()\n",
        "    x_test = torch.FloatTensor(x_train[-1:,-lookback:,:])\n",
        "    predicted = []\n",
        "    for i in range(future):\n",
        "      input = torch.FloatTensor(x_test[-1:,-lookback:,:])\n",
        "      with torch.no_grad():\n",
        "        out = model(input)\n",
        "        out = out.unsqueeze(2).expand(-1, -1, 11)\n",
        "        x_test = torch.cat((x_test,out),dim=1)\n",
        "        predicted.append(out[0][0][0].item())\n",
        "    test_pred = scaler.inverse_transform(np.array(predicted).reshape(-1, 1)).flatten()\n",
        "    test_pred = test_pred[-future:]\n",
        "    test6 = pd.DataFrame({'Tes 6':test_pred})\n",
        "  elif i == 6:\n",
        "    train7 = pd.DataFrame({'Train 7':train_denormalized[-20:,0]})\n",
        "    model.eval()\n",
        "    x_test = torch.FloatTensor(x_train[-1:,-lookback:,:])\n",
        "    predicted = []\n",
        "    for i in range(future):\n",
        "      input = torch.FloatTensor(x_test[-1:,-lookback:,:])\n",
        "      with torch.no_grad():\n",
        "        out = model(input)\n",
        "        out = out.unsqueeze(2).expand(-1, -1, 11)\n",
        "        x_test = torch.cat((x_test,out),dim=1)\n",
        "        predicted.append(out[0][0][0].item())\n",
        "    test_pred = scaler.inverse_transform(np.array(predicted).reshape(-1, 1)).flatten()\n",
        "    test_pred = test_pred[-future:]\n",
        "    test7 = pd.DataFrame({'Tes 7':test_pred})\n",
        "  elif i == 7:\n",
        "    train8 = pd.DataFrame({'Train 8':train_denormalized[-20:,0]})\n",
        "    model.eval()\n",
        "    x_test = torch.FloatTensor(x_train[-1:,-lookback:,:])\n",
        "    predicted = []\n",
        "    for i in range(future):\n",
        "      input = torch.FloatTensor(x_test[-1:,-lookback:,:])\n",
        "      with torch.no_grad():\n",
        "        out = model(input)\n",
        "        out = out.unsqueeze(2).expand(-1, -1, 11)\n",
        "        x_test = torch.cat((x_test,out),dim=1)\n",
        "        predicted.append(out[0][0][0].item())\n",
        "    test_pred = scaler.inverse_transform(np.array(predicted).reshape(-1, 1)).flatten()\n",
        "    test_pred = test_pred[-future:]\n",
        "    test8 = pd.DataFrame({'Tes 8':test_pred})\n",
        "  elif i == 8:\n",
        "    train9 = pd.DataFrame({'Train 9':train_denormalized[-20:,0]})\n",
        "    model.eval()\n",
        "    x_test = torch.FloatTensor(x_train[-1:,-lookback:,:])\n",
        "    predicted = []\n",
        "    for i in range(future):\n",
        "      input = torch.FloatTensor(x_test[-1:,-lookback:,:])\n",
        "      with torch.no_grad():\n",
        "        out = model(input)\n",
        "        out = out.unsqueeze(2).expand(-1, -1, 11)\n",
        "        x_test = torch.cat((x_test,out),dim=1)\n",
        "        predicted.append(out[0][0][0].item())\n",
        "    test_pred = scaler.inverse_transform(np.array(predicted).reshape(-1, 1)).flatten()\n",
        "    test_pred = test_pred[-future:]\n",
        "    test9 = pd.DataFrame({'Tes 9':test_pred})\n",
        "  elif i == 9:\n",
        "    train10 = pd.DataFrame({'Train 10':train_denormalized[-20:,0]})\n",
        "    model.eval()\n",
        "    x_test = torch.FloatTensor(x_train[-1:,-lookback:,:])\n",
        "    predicted = []\n",
        "    for i in range(future):\n",
        "      input = torch.FloatTensor(x_test[-1:,-lookback:,:])\n",
        "      with torch.no_grad():\n",
        "        out = model(input)\n",
        "        out = out.unsqueeze(2).expand(-1, -1, 11)\n",
        "        x_test = torch.cat((x_test,out),dim=1)\n",
        "        predicted.append(out[0][0][0].item())\n",
        "    test_pred = scaler.inverse_transform(np.array(predicted).reshape(-1, 1)).flatten()\n",
        "    test_pred = test_pred[-future:]\n",
        "    test10 = pd.DataFrame({'Tes 10':test_pred})"
      ],
      "metadata": {
        "colab": {
          "base_uri": "https://localhost:8080/"
        },
        "id": "iG1vwS5bPv8C",
        "outputId": "f6e244df-ead9-4e0d-90b7-8622000d3268"
      },
      "execution_count": null,
      "outputs": [
        {
          "output_type": "stream",
          "name": "stdout",
          "text": [
            "Percobaan Ke 1\n",
            "Epoch  0 MAE:  0.6238837838172913\n",
            "Epoch  10 MAE:  0.23756469786167145\n",
            "Epoch  20 MAE:  0.19830957055091858\n",
            "Epoch  30 MAE:  0.1993548721075058\n",
            "Epoch  40 MAE:  0.19785788655281067\n",
            "Epoch  50 MAE:  0.19778874516487122\n",
            "Epoch  60 MAE:  0.1976248323917389\n",
            "Epoch  70 MAE:  0.19762378931045532\n",
            "Epoch  80 MAE:  0.19763246178627014\n",
            "Epoch  90 MAE:  0.19762377440929413\n",
            "Epoch  99 MAE:  0.19761638343334198\n",
            "Percobaan Ke 2\n",
            "Epoch  0 MAE:  0.5248383283615112\n",
            "Epoch  10 MAE:  0.20429666340351105\n",
            "Epoch  20 MAE:  0.19811592996120453\n",
            "Epoch  30 MAE:  0.1985514909029007\n",
            "Epoch  40 MAE:  0.1977139264345169\n",
            "Epoch  50 MAE:  0.1976463496685028\n",
            "Epoch  60 MAE:  0.1976163685321808\n",
            "Epoch  70 MAE:  0.19761423766613007\n",
            "Epoch  80 MAE:  0.19761505722999573\n",
            "Epoch  90 MAE:  0.1976092904806137\n",
            "Epoch  99 MAE:  0.19760535657405853\n",
            "Percobaan Ke 3\n",
            "Epoch  0 MAE:  0.4515966773033142\n",
            "Epoch  10 MAE:  0.1998552531003952\n",
            "Epoch  20 MAE:  0.20009344816207886\n",
            "Epoch  30 MAE:  0.19819708168506622\n",
            "Epoch  40 MAE:  0.19817325472831726\n",
            "Epoch  50 MAE:  0.19771593809127808\n",
            "Epoch  60 MAE:  0.1976117342710495\n",
            "Epoch  70 MAE:  0.19762468338012695\n",
            "Epoch  80 MAE:  0.1976134479045868\n",
            "Epoch  90 MAE:  0.19760379195213318\n",
            "Epoch  99 MAE:  0.19760267436504364\n",
            "Percobaan Ke 4\n",
            "Epoch  0 MAE:  0.5834041833877563\n",
            "Epoch  10 MAE:  0.2050473988056183\n",
            "Epoch  20 MAE:  0.19829235970973969\n",
            "Epoch  30 MAE:  0.19866687059402466\n",
            "Epoch  40 MAE:  0.19767546653747559\n",
            "Epoch  50 MAE:  0.19766917824745178\n",
            "Epoch  60 MAE:  0.1976660192012787\n",
            "Epoch  70 MAE:  0.19761981070041656\n",
            "Epoch  80 MAE:  0.19760720431804657\n",
            "Epoch  90 MAE:  0.19760364294052124\n",
            "Epoch  99 MAE:  0.19760161638259888\n",
            "Percobaan Ke 5\n",
            "Epoch  0 MAE:  0.5145977735519409\n",
            "Epoch  10 MAE:  0.2068372368812561\n",
            "Epoch  20 MAE:  0.19874750077724457\n",
            "Epoch  30 MAE:  0.19854025542736053\n",
            "Epoch  40 MAE:  0.19768139719963074\n",
            "Epoch  50 MAE:  0.19764350354671478\n",
            "Epoch  60 MAE:  0.19762878119945526\n",
            "Epoch  70 MAE:  0.19762444496154785\n",
            "Epoch  80 MAE:  0.19762292504310608\n",
            "Epoch  90 MAE:  0.19761277735233307\n",
            "Epoch  99 MAE:  0.1976073831319809\n",
            "Percobaan Ke 6\n",
            "Epoch  0 MAE:  0.6085570454597473\n",
            "Epoch  10 MAE:  0.22750252485275269\n",
            "Epoch  20 MAE:  0.1977047175168991\n",
            "Epoch  30 MAE:  0.20056088268756866\n",
            "Epoch  40 MAE:  0.1987932324409485\n",
            "Epoch  50 MAE:  0.19806191325187683\n",
            "Epoch  60 MAE:  0.1977214366197586\n",
            "Epoch  70 MAE:  0.19764132797718048\n",
            "Epoch  80 MAE:  0.19761140644550323\n",
            "Epoch  90 MAE:  0.19760751724243164\n",
            "Epoch  99 MAE:  0.1976063996553421\n",
            "Percobaan Ke 7\n",
            "Epoch  0 MAE:  0.5324214100837708\n",
            "Epoch  10 MAE:  0.2146582305431366\n",
            "Epoch  20 MAE:  0.19771204888820648\n",
            "Epoch  30 MAE:  0.19953294098377228\n",
            "Epoch  40 MAE:  0.19838851690292358\n",
            "Epoch  50 MAE:  0.1978750377893448\n",
            "Epoch  60 MAE:  0.19767938554286957\n",
            "Epoch  70 MAE:  0.19762612879276276\n",
            "Epoch  80 MAE:  0.1976049840450287\n",
            "Epoch  90 MAE:  0.1975974589586258\n",
            "Epoch  99 MAE:  0.1975948065519333\n",
            "Percobaan Ke 8\n",
            "Epoch  0 MAE:  0.6284732818603516\n",
            "Epoch  10 MAE:  0.21924710273742676\n",
            "Epoch  20 MAE:  0.1976357251405716\n",
            "Epoch  30 MAE:  0.19970901310443878\n",
            "Epoch  40 MAE:  0.19829382002353668\n",
            "Epoch  50 MAE:  0.19781838357448578\n",
            "Epoch  60 MAE:  0.1976141482591629\n",
            "Epoch  70 MAE:  0.19760246574878693\n",
            "Epoch  80 MAE:  0.19759859144687653\n",
            "Epoch  90 MAE:  0.19759902358055115\n",
            "Epoch  99 MAE:  0.19759801030158997\n",
            "Percobaan Ke 9\n",
            "Epoch  0 MAE:  0.6691040396690369\n",
            "Epoch  10 MAE:  0.20111702382564545\n",
            "Epoch  20 MAE:  0.20004720985889435\n",
            "Epoch  30 MAE:  0.1980595588684082\n",
            "Epoch  40 MAE:  0.19825346767902374\n",
            "Epoch  50 MAE:  0.1977386474609375\n",
            "Epoch  60 MAE:  0.19760383665561676\n",
            "Epoch  70 MAE:  0.19762659072875977\n",
            "Epoch  80 MAE:  0.19760826230049133\n",
            "Epoch  90 MAE:  0.19759933650493622\n",
            "Epoch  99 MAE:  0.19759944081306458\n",
            "Percobaan Ke 10\n",
            "Epoch  0 MAE:  0.5753098130226135\n",
            "Epoch  10 MAE:  0.21608829498291016\n",
            "Epoch  20 MAE:  0.19769807159900665\n",
            "Epoch  30 MAE:  0.19966904819011688\n",
            "Epoch  40 MAE:  0.19842363893985748\n",
            "Epoch  50 MAE:  0.1979072242975235\n",
            "Epoch  60 MAE:  0.19767604768276215\n",
            "Epoch  70 MAE:  0.19762712717056274\n",
            "Epoch  80 MAE:  0.1976061463356018\n",
            "Epoch  90 MAE:  0.19760219752788544\n",
            "Epoch  99 MAE:  0.19760118424892426\n"
          ]
        }
      ]
    },
    {
      "cell_type": "code",
      "source": [
        "y_train_pred"
      ],
      "metadata": {
        "colab": {
          "base_uri": "https://localhost:8080/"
        },
        "id": "i2aDr61fdNpM",
        "outputId": "e10b990d-9fbf-4e37-abf6-20854be22b9c"
      },
      "execution_count": null,
      "outputs": [
        {
          "output_type": "execute_result",
          "data": {
            "text/plain": [
              "tensor([[0.5814]], grad_fn=<AddmmBackward0>)"
            ]
          },
          "metadata": {},
          "execution_count": 64
        }
      ]
    },
    {
      "cell_type": "markdown",
      "source": [
        "#Test To DF"
      ],
      "metadata": {
        "id": "sX1fxMlNZD-7"
      }
    },
    {
      "cell_type": "code",
      "source": [
        "dfTestList = [test1,test2,test3,test4,test5,test6,test7,test8,test9,test10]\n",
        "dfTest = pd.concat(dfTestList, join='outer', axis=1)"
      ],
      "metadata": {
        "id": "R5tWUDfJZHWp"
      },
      "execution_count": null,
      "outputs": []
    },
    {
      "cell_type": "code",
      "source": [
        "dfTrainList = [train1,train2,train3,train4,train5,train6,train7,train8,train9,train10]\n",
        "dfTrain = pd.concat(dfTrainList, join='outer', axis=1)\n",
        "dfTrain['Mean'] = dfTrain[['Train 1', 'Train 2', 'Train 3','Train 4','Train 5','Train 6','Train 7','Train 8','Train 9','Train 10']].astype(float).sum(1)/10"
      ],
      "metadata": {
        "id": "irepN0Csc38s"
      },
      "execution_count": null,
      "outputs": []
    },
    {
      "cell_type": "code",
      "source": [
        "dfTest['Mean'] = dfTest[['Tes 1', 'Tes 2', 'Tes 3','Tes 4','Tes 5','Tes 6','Tes 7','Tes 8','Tes 9','Tes 10']].astype(float).sum(1)/10"
      ],
      "metadata": {
        "id": "6mPZY13ZZKbu"
      },
      "execution_count": null,
      "outputs": []
    },
    {
      "cell_type": "code",
      "source": [
        "predicted = dfTrain['Mean']\n",
        "predicted = predicted.append(dfTest.Mean[-5:])"
      ],
      "metadata": {
        "id": "6B8bBVoIh6Du"
      },
      "execution_count": null,
      "outputs": []
    },
    {
      "cell_type": "code",
      "source": [
        "df11 = isat.copy()\n",
        "df11 = df11.set_index('Date')\n",
        "df11 = df11[-30:-5]\n",
        "df11 = df11[['Close']]\n",
        "df11.rename(columns = {'Close':'Actual'}, inplace = True)\n",
        "# df11['Mean Prediction'] = percobaan.Mean.values\n",
        "df11['ADRO'] = adro.Close[-30:-5].values\n",
        "df11['BBCA'] = bbca.Close[-30:-5].values\n",
        "df11['BBRI'] = bbri.Close[-30:-5].values\n",
        "df11['BMRI'] = bmri.Close[-30:-5].values\n",
        "df11['CENT'] = cent.Close[-30:-5].values\n",
        "df11['EXCL'] = excl.Close[-30:-5].values\n",
        "df11['GOLD'] = gold.Close[-30:-5].values\n",
        "df11['ISAT'] = isat.Close[-30:-5].values\n",
        "df11['PGAS'] = pgas.Close[-30:-5].values\n",
        "df11['PTBA'] = ptba.Close[-30:-5].values\n",
        "df11['TLKM'] = tlkm.Close[-30:-5].values\n",
        "df11['Predicted'] = predicted.values"
      ],
      "metadata": {
        "id": "9EyKqEG2ZLgP"
      },
      "execution_count": null,
      "outputs": []
    },
    {
      "cell_type": "code",
      "source": [
        "df11.to_excel('Hasil Multivariate.xlsx')"
      ],
      "metadata": {
        "id": "w0REcW3CiVMd"
      },
      "execution_count": null,
      "outputs": []
    },
    {
      "cell_type": "code",
      "source": [
        "dfTest"
      ],
      "metadata": {
        "colab": {
          "base_uri": "https://localhost:8080/",
          "height": 270
        },
        "id": "s19lE0ZKcw2X",
        "outputId": "8cef0b09-49b0-44d0-8a2a-0ad63663e106"
      },
      "execution_count": null,
      "outputs": [
        {
          "output_type": "execute_result",
          "data": {
            "text/plain": [
              "         Tes 1        Tes 2        Tes 3        Tes 4        Tes 5  \\\n",
              "0  3335.469038  3331.569672  3338.380237  3339.352434  3336.840734   \n",
              "1  3335.411375  3331.475708  3338.705685  3339.384170  3336.771662   \n",
              "2  3335.391254  3331.436920  3338.854408  3339.399519  3336.753616   \n",
              "3  3335.380054  3331.408710  3338.945260  3339.408853  3336.743453   \n",
              "4  3335.373416  3331.389627  3339.001679  3339.415076  3336.737022   \n",
              "\n",
              "         Tes 6        Tes 7        Tes 8        Tes 9       Tes 10  \\\n",
              "0  3341.792986  3335.354955  3340.856466  3343.592806  3340.522513   \n",
              "1  3342.000618  3335.125959  3341.126533  3343.658559  3340.381880   \n",
              "2  3342.097692  3335.076799  3341.209917  3343.684902  3340.338321   \n",
              "3  3342.149963  3335.053983  3341.256380  3343.699214  3340.317578   \n",
              "4  3342.181077  3335.040500  3341.284175  3343.707097  3340.305133   \n",
              "\n",
              "          Mean  \n",
              "0  3338.373184  \n",
              "1  3338.404215  \n",
              "2  3338.424335  \n",
              "3  3338.436345  \n",
              "4  3338.443480  "
            ],
            "text/html": [
              "\n",
              "  <div id=\"df-807e266f-e529-43f8-aae6-6948bfc73874\">\n",
              "    <div class=\"colab-df-container\">\n",
              "      <div>\n",
              "<style scoped>\n",
              "    .dataframe tbody tr th:only-of-type {\n",
              "        vertical-align: middle;\n",
              "    }\n",
              "\n",
              "    .dataframe tbody tr th {\n",
              "        vertical-align: top;\n",
              "    }\n",
              "\n",
              "    .dataframe thead th {\n",
              "        text-align: right;\n",
              "    }\n",
              "</style>\n",
              "<table border=\"1\" class=\"dataframe\">\n",
              "  <thead>\n",
              "    <tr style=\"text-align: right;\">\n",
              "      <th></th>\n",
              "      <th>Tes 1</th>\n",
              "      <th>Tes 2</th>\n",
              "      <th>Tes 3</th>\n",
              "      <th>Tes 4</th>\n",
              "      <th>Tes 5</th>\n",
              "      <th>Tes 6</th>\n",
              "      <th>Tes 7</th>\n",
              "      <th>Tes 8</th>\n",
              "      <th>Tes 9</th>\n",
              "      <th>Tes 10</th>\n",
              "      <th>Mean</th>\n",
              "    </tr>\n",
              "  </thead>\n",
              "  <tbody>\n",
              "    <tr>\n",
              "      <th>0</th>\n",
              "      <td>3335.469038</td>\n",
              "      <td>3331.569672</td>\n",
              "      <td>3338.380237</td>\n",
              "      <td>3339.352434</td>\n",
              "      <td>3336.840734</td>\n",
              "      <td>3341.792986</td>\n",
              "      <td>3335.354955</td>\n",
              "      <td>3340.856466</td>\n",
              "      <td>3343.592806</td>\n",
              "      <td>3340.522513</td>\n",
              "      <td>3338.373184</td>\n",
              "    </tr>\n",
              "    <tr>\n",
              "      <th>1</th>\n",
              "      <td>3335.411375</td>\n",
              "      <td>3331.475708</td>\n",
              "      <td>3338.705685</td>\n",
              "      <td>3339.384170</td>\n",
              "      <td>3336.771662</td>\n",
              "      <td>3342.000618</td>\n",
              "      <td>3335.125959</td>\n",
              "      <td>3341.126533</td>\n",
              "      <td>3343.658559</td>\n",
              "      <td>3340.381880</td>\n",
              "      <td>3338.404215</td>\n",
              "    </tr>\n",
              "    <tr>\n",
              "      <th>2</th>\n",
              "      <td>3335.391254</td>\n",
              "      <td>3331.436920</td>\n",
              "      <td>3338.854408</td>\n",
              "      <td>3339.399519</td>\n",
              "      <td>3336.753616</td>\n",
              "      <td>3342.097692</td>\n",
              "      <td>3335.076799</td>\n",
              "      <td>3341.209917</td>\n",
              "      <td>3343.684902</td>\n",
              "      <td>3340.338321</td>\n",
              "      <td>3338.424335</td>\n",
              "    </tr>\n",
              "    <tr>\n",
              "      <th>3</th>\n",
              "      <td>3335.380054</td>\n",
              "      <td>3331.408710</td>\n",
              "      <td>3338.945260</td>\n",
              "      <td>3339.408853</td>\n",
              "      <td>3336.743453</td>\n",
              "      <td>3342.149963</td>\n",
              "      <td>3335.053983</td>\n",
              "      <td>3341.256380</td>\n",
              "      <td>3343.699214</td>\n",
              "      <td>3340.317578</td>\n",
              "      <td>3338.436345</td>\n",
              "    </tr>\n",
              "    <tr>\n",
              "      <th>4</th>\n",
              "      <td>3335.373416</td>\n",
              "      <td>3331.389627</td>\n",
              "      <td>3339.001679</td>\n",
              "      <td>3339.415076</td>\n",
              "      <td>3336.737022</td>\n",
              "      <td>3342.181077</td>\n",
              "      <td>3335.040500</td>\n",
              "      <td>3341.284175</td>\n",
              "      <td>3343.707097</td>\n",
              "      <td>3340.305133</td>\n",
              "      <td>3338.443480</td>\n",
              "    </tr>\n",
              "  </tbody>\n",
              "</table>\n",
              "</div>\n",
              "      <button class=\"colab-df-convert\" onclick=\"convertToInteractive('df-807e266f-e529-43f8-aae6-6948bfc73874')\"\n",
              "              title=\"Convert this dataframe to an interactive table.\"\n",
              "              style=\"display:none;\">\n",
              "        \n",
              "  <svg xmlns=\"http://www.w3.org/2000/svg\" height=\"24px\"viewBox=\"0 0 24 24\"\n",
              "       width=\"24px\">\n",
              "    <path d=\"M0 0h24v24H0V0z\" fill=\"none\"/>\n",
              "    <path d=\"M18.56 5.44l.94 2.06.94-2.06 2.06-.94-2.06-.94-.94-2.06-.94 2.06-2.06.94zm-11 1L8.5 8.5l.94-2.06 2.06-.94-2.06-.94L8.5 2.5l-.94 2.06-2.06.94zm10 10l.94 2.06.94-2.06 2.06-.94-2.06-.94-.94-2.06-.94 2.06-2.06.94z\"/><path d=\"M17.41 7.96l-1.37-1.37c-.4-.4-.92-.59-1.43-.59-.52 0-1.04.2-1.43.59L10.3 9.45l-7.72 7.72c-.78.78-.78 2.05 0 2.83L4 21.41c.39.39.9.59 1.41.59.51 0 1.02-.2 1.41-.59l7.78-7.78 2.81-2.81c.8-.78.8-2.07 0-2.86zM5.41 20L4 18.59l7.72-7.72 1.47 1.35L5.41 20z\"/>\n",
              "  </svg>\n",
              "      </button>\n",
              "      \n",
              "  <style>\n",
              "    .colab-df-container {\n",
              "      display:flex;\n",
              "      flex-wrap:wrap;\n",
              "      gap: 12px;\n",
              "    }\n",
              "\n",
              "    .colab-df-convert {\n",
              "      background-color: #E8F0FE;\n",
              "      border: none;\n",
              "      border-radius: 50%;\n",
              "      cursor: pointer;\n",
              "      display: none;\n",
              "      fill: #1967D2;\n",
              "      height: 32px;\n",
              "      padding: 0 0 0 0;\n",
              "      width: 32px;\n",
              "    }\n",
              "\n",
              "    .colab-df-convert:hover {\n",
              "      background-color: #E2EBFA;\n",
              "      box-shadow: 0px 1px 2px rgba(60, 64, 67, 0.3), 0px 1px 3px 1px rgba(60, 64, 67, 0.15);\n",
              "      fill: #174EA6;\n",
              "    }\n",
              "\n",
              "    [theme=dark] .colab-df-convert {\n",
              "      background-color: #3B4455;\n",
              "      fill: #D2E3FC;\n",
              "    }\n",
              "\n",
              "    [theme=dark] .colab-df-convert:hover {\n",
              "      background-color: #434B5C;\n",
              "      box-shadow: 0px 1px 3px 1px rgba(0, 0, 0, 0.15);\n",
              "      filter: drop-shadow(0px 1px 2px rgba(0, 0, 0, 0.3));\n",
              "      fill: #FFFFFF;\n",
              "    }\n",
              "  </style>\n",
              "\n",
              "      <script>\n",
              "        const buttonEl =\n",
              "          document.querySelector('#df-807e266f-e529-43f8-aae6-6948bfc73874 button.colab-df-convert');\n",
              "        buttonEl.style.display =\n",
              "          google.colab.kernel.accessAllowed ? 'block' : 'none';\n",
              "\n",
              "        async function convertToInteractive(key) {\n",
              "          const element = document.querySelector('#df-807e266f-e529-43f8-aae6-6948bfc73874');\n",
              "          const dataTable =\n",
              "            await google.colab.kernel.invokeFunction('convertToInteractive',\n",
              "                                                     [key], {});\n",
              "          if (!dataTable) return;\n",
              "\n",
              "          const docLinkHtml = 'Like what you see? Visit the ' +\n",
              "            '<a target=\"_blank\" href=https://colab.research.google.com/notebooks/data_table.ipynb>data table notebook</a>'\n",
              "            + ' to learn more about interactive tables.';\n",
              "          element.innerHTML = '';\n",
              "          dataTable['output_type'] = 'display_data';\n",
              "          await google.colab.output.renderOutput(dataTable, element);\n",
              "          const docLink = document.createElement('div');\n",
              "          docLink.innerHTML = docLinkHtml;\n",
              "          element.appendChild(docLink);\n",
              "        }\n",
              "      </script>\n",
              "    </div>\n",
              "  </div>\n",
              "  "
            ]
          },
          "metadata": {},
          "execution_count": 61
        }
      ]
    },
    {
      "cell_type": "code",
      "source": [
        "mae_adro = mean_absolute_error(df11.ADRO,dfTest.Mean)\n",
        "mae_bbca = mean_absolute_error(df11.BBCA,dfTest.Mean)\n",
        "mae_bbri = mean_absolute_error(df11.BBRI,dfTest.Mean)\n",
        "mae_bmri = mean_absolute_error(df11.BMRI,dfTest.Mean)\n",
        "mae_cent = mean_absolute_error(df11.CENT,dfTest.Mean)\n",
        "mae_excl = mean_absolute_error(df11.EXCL,dfTest.Mean)\n",
        "mae_gold = mean_absolute_error(df11.GOLD,dfTest.Mean)\n",
        "mae_isat = mean_absolute_error(df11.ISAT,dfTest.Mean)\n",
        "mae_pgas = mean_absolute_error(df11.PGAS,dfTest.Mean)\n",
        "mae_ptba = mean_absolute_error(df11.PTBA,dfTest.Mean)\n",
        "mae_tlkm = mean_absolute_error(df11.TLKM,dfTest.Mean)"
      ],
      "metadata": {
        "id": "qiKMlcwFZ6XN"
      },
      "execution_count": null,
      "outputs": []
    },
    {
      "cell_type": "code",
      "source": [
        "dfMae = pd.DataFrame({'Saham':['ADRO','BBCA','BBRI','BMRI','CENT','EXCL','GOLD','ISAT','PGAS','PTBA','TLKM'],\n",
        "                      'MAE':[mae_adro,mae_bbca,mae_bbri,mae_bmri,mae_cent,mae_excl,mae_gold,mae_isat,mae_pgas,mae_ptba,mae_tlkm]})"
      ],
      "metadata": {
        "id": "2SMudU6cabYV"
      },
      "execution_count": null,
      "outputs": []
    },
    {
      "cell_type": "code",
      "source": [
        "dfMae"
      ],
      "metadata": {
        "colab": {
          "base_uri": "https://localhost:8080/",
          "height": 394
        },
        "id": "06DsVghGbAxg",
        "outputId": "39ec9f89-11e2-42d6-d81c-ef11c83be3f9"
      },
      "execution_count": null,
      "outputs": [
        {
          "output_type": "execute_result",
          "data": {
            "text/plain": [
              "   Saham          MAE\n",
              "0   ADRO  2008.416312\n",
              "1   BBCA  3187.583688\n",
              "2   BBRI   597.583688\n",
              "3   BMRI  2616.583688\n",
              "4   CENT  2982.416312\n",
              "5   EXCL   710.416312\n",
              "6   GOLD  2851.016312\n",
              "7   ISAT  2936.583688\n",
              "8   PGAS  2320.416312\n",
              "9   PTBA  1102.416312\n",
              "10  TLKM    46.932962"
            ],
            "text/html": [
              "\n",
              "  <div id=\"df-1b0c34fb-c60b-4a18-9115-945cdd91f6d1\">\n",
              "    <div class=\"colab-df-container\">\n",
              "      <div>\n",
              "<style scoped>\n",
              "    .dataframe tbody tr th:only-of-type {\n",
              "        vertical-align: middle;\n",
              "    }\n",
              "\n",
              "    .dataframe tbody tr th {\n",
              "        vertical-align: top;\n",
              "    }\n",
              "\n",
              "    .dataframe thead th {\n",
              "        text-align: right;\n",
              "    }\n",
              "</style>\n",
              "<table border=\"1\" class=\"dataframe\">\n",
              "  <thead>\n",
              "    <tr style=\"text-align: right;\">\n",
              "      <th></th>\n",
              "      <th>Saham</th>\n",
              "      <th>MAE</th>\n",
              "    </tr>\n",
              "  </thead>\n",
              "  <tbody>\n",
              "    <tr>\n",
              "      <th>0</th>\n",
              "      <td>ADRO</td>\n",
              "      <td>2008.416312</td>\n",
              "    </tr>\n",
              "    <tr>\n",
              "      <th>1</th>\n",
              "      <td>BBCA</td>\n",
              "      <td>3187.583688</td>\n",
              "    </tr>\n",
              "    <tr>\n",
              "      <th>2</th>\n",
              "      <td>BBRI</td>\n",
              "      <td>597.583688</td>\n",
              "    </tr>\n",
              "    <tr>\n",
              "      <th>3</th>\n",
              "      <td>BMRI</td>\n",
              "      <td>2616.583688</td>\n",
              "    </tr>\n",
              "    <tr>\n",
              "      <th>4</th>\n",
              "      <td>CENT</td>\n",
              "      <td>2982.416312</td>\n",
              "    </tr>\n",
              "    <tr>\n",
              "      <th>5</th>\n",
              "      <td>EXCL</td>\n",
              "      <td>710.416312</td>\n",
              "    </tr>\n",
              "    <tr>\n",
              "      <th>6</th>\n",
              "      <td>GOLD</td>\n",
              "      <td>2851.016312</td>\n",
              "    </tr>\n",
              "    <tr>\n",
              "      <th>7</th>\n",
              "      <td>ISAT</td>\n",
              "      <td>2936.583688</td>\n",
              "    </tr>\n",
              "    <tr>\n",
              "      <th>8</th>\n",
              "      <td>PGAS</td>\n",
              "      <td>2320.416312</td>\n",
              "    </tr>\n",
              "    <tr>\n",
              "      <th>9</th>\n",
              "      <td>PTBA</td>\n",
              "      <td>1102.416312</td>\n",
              "    </tr>\n",
              "    <tr>\n",
              "      <th>10</th>\n",
              "      <td>TLKM</td>\n",
              "      <td>46.932962</td>\n",
              "    </tr>\n",
              "  </tbody>\n",
              "</table>\n",
              "</div>\n",
              "      <button class=\"colab-df-convert\" onclick=\"convertToInteractive('df-1b0c34fb-c60b-4a18-9115-945cdd91f6d1')\"\n",
              "              title=\"Convert this dataframe to an interactive table.\"\n",
              "              style=\"display:none;\">\n",
              "        \n",
              "  <svg xmlns=\"http://www.w3.org/2000/svg\" height=\"24px\"viewBox=\"0 0 24 24\"\n",
              "       width=\"24px\">\n",
              "    <path d=\"M0 0h24v24H0V0z\" fill=\"none\"/>\n",
              "    <path d=\"M18.56 5.44l.94 2.06.94-2.06 2.06-.94-2.06-.94-.94-2.06-.94 2.06-2.06.94zm-11 1L8.5 8.5l.94-2.06 2.06-.94-2.06-.94L8.5 2.5l-.94 2.06-2.06.94zm10 10l.94 2.06.94-2.06 2.06-.94-2.06-.94-.94-2.06-.94 2.06-2.06.94z\"/><path d=\"M17.41 7.96l-1.37-1.37c-.4-.4-.92-.59-1.43-.59-.52 0-1.04.2-1.43.59L10.3 9.45l-7.72 7.72c-.78.78-.78 2.05 0 2.83L4 21.41c.39.39.9.59 1.41.59.51 0 1.02-.2 1.41-.59l7.78-7.78 2.81-2.81c.8-.78.8-2.07 0-2.86zM5.41 20L4 18.59l7.72-7.72 1.47 1.35L5.41 20z\"/>\n",
              "  </svg>\n",
              "      </button>\n",
              "      \n",
              "  <style>\n",
              "    .colab-df-container {\n",
              "      display:flex;\n",
              "      flex-wrap:wrap;\n",
              "      gap: 12px;\n",
              "    }\n",
              "\n",
              "    .colab-df-convert {\n",
              "      background-color: #E8F0FE;\n",
              "      border: none;\n",
              "      border-radius: 50%;\n",
              "      cursor: pointer;\n",
              "      display: none;\n",
              "      fill: #1967D2;\n",
              "      height: 32px;\n",
              "      padding: 0 0 0 0;\n",
              "      width: 32px;\n",
              "    }\n",
              "\n",
              "    .colab-df-convert:hover {\n",
              "      background-color: #E2EBFA;\n",
              "      box-shadow: 0px 1px 2px rgba(60, 64, 67, 0.3), 0px 1px 3px 1px rgba(60, 64, 67, 0.15);\n",
              "      fill: #174EA6;\n",
              "    }\n",
              "\n",
              "    [theme=dark] .colab-df-convert {\n",
              "      background-color: #3B4455;\n",
              "      fill: #D2E3FC;\n",
              "    }\n",
              "\n",
              "    [theme=dark] .colab-df-convert:hover {\n",
              "      background-color: #434B5C;\n",
              "      box-shadow: 0px 1px 3px 1px rgba(0, 0, 0, 0.15);\n",
              "      filter: drop-shadow(0px 1px 2px rgba(0, 0, 0, 0.3));\n",
              "      fill: #FFFFFF;\n",
              "    }\n",
              "  </style>\n",
              "\n",
              "      <script>\n",
              "        const buttonEl =\n",
              "          document.querySelector('#df-1b0c34fb-c60b-4a18-9115-945cdd91f6d1 button.colab-df-convert');\n",
              "        buttonEl.style.display =\n",
              "          google.colab.kernel.accessAllowed ? 'block' : 'none';\n",
              "\n",
              "        async function convertToInteractive(key) {\n",
              "          const element = document.querySelector('#df-1b0c34fb-c60b-4a18-9115-945cdd91f6d1');\n",
              "          const dataTable =\n",
              "            await google.colab.kernel.invokeFunction('convertToInteractive',\n",
              "                                                     [key], {});\n",
              "          if (!dataTable) return;\n",
              "\n",
              "          const docLinkHtml = 'Like what you see? Visit the ' +\n",
              "            '<a target=\"_blank\" href=https://colab.research.google.com/notebooks/data_table.ipynb>data table notebook</a>'\n",
              "            + ' to learn more about interactive tables.';\n",
              "          element.innerHTML = '';\n",
              "          dataTable['output_type'] = 'display_data';\n",
              "          await google.colab.output.renderOutput(dataTable, element);\n",
              "          const docLink = document.createElement('div');\n",
              "          docLink.innerHTML = docLinkHtml;\n",
              "          element.appendChild(docLink);\n",
              "        }\n",
              "      </script>\n",
              "    </div>\n",
              "  </div>\n",
              "  "
            ]
          },
          "metadata": {},
          "execution_count": 60
        }
      ]
    }
  ]
}